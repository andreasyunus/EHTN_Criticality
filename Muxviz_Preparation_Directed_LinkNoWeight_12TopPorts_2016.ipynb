{
 "cells": [
  {
   "cell_type": "code",
   "execution_count": 1,
   "metadata": {
    "collapsed": true
   },
   "outputs": [],
   "source": [
    "import pandas as pd\n",
    "import numpy as np"
   ]
  },
  {
   "cell_type": "code",
   "execution_count": 2,
   "metadata": {
    "collapsed": true
   },
   "outputs": [],
   "source": [
    "import seaborn as sns"
   ]
  },
  {
   "cell_type": "code",
   "execution_count": 3,
   "metadata": {
    "collapsed": true
   },
   "outputs": [],
   "source": [
    "import matplotlib.pyplot as plt\n",
    "%matplotlib inline"
   ]
  },
  {
   "cell_type": "markdown",
   "metadata": {},
   "source": [
    "# Table Construction - Origin and Destination"
   ]
  },
  {
   "cell_type": "code",
   "execution_count": 4,
   "metadata": {
    "collapsed": true
   },
   "outputs": [],
   "source": [
    "df = pd.read_csv(\"link_weight_2016.csv\")"
   ]
  },
  {
   "cell_type": "code",
   "execution_count": 5,
   "metadata": {},
   "outputs": [
    {
     "data": {
      "text/html": [
       "<div>\n",
       "<style scoped>\n",
       "    .dataframe tbody tr th:only-of-type {\n",
       "        vertical-align: middle;\n",
       "    }\n",
       "\n",
       "    .dataframe tbody tr th {\n",
       "        vertical-align: top;\n",
       "    }\n",
       "\n",
       "    .dataframe thead th {\n",
       "        text-align: right;\n",
       "    }\n",
       "</style>\n",
       "<table border=\"1\" class=\"dataframe\">\n",
       "  <thead>\n",
       "    <tr style=\"text-align: right;\">\n",
       "      <th></th>\n",
       "      <th>O_City</th>\n",
       "      <th>D_City</th>\n",
       "      <th>Modality</th>\n",
       "      <th>No_carrier</th>\n",
       "      <th>departure_per_week</th>\n",
       "      <th>avg_travel_time</th>\n",
       "      <th>link_weight</th>\n",
       "      <th>o_city_lat</th>\n",
       "      <th>o_city_lon</th>\n",
       "      <th>d_city_lat</th>\n",
       "      <th>d_city_lon</th>\n",
       "    </tr>\n",
       "  </thead>\n",
       "  <tbody>\n",
       "    <tr>\n",
       "      <th>0</th>\n",
       "      <td>Aalborg</td>\n",
       "      <td>Aarhus</td>\n",
       "      <td>Sea</td>\n",
       "      <td>1</td>\n",
       "      <td>1</td>\n",
       "      <td>6.0</td>\n",
       "      <td>1</td>\n",
       "      <td>NaN</td>\n",
       "      <td>NaN</td>\n",
       "      <td>NaN</td>\n",
       "      <td>NaN</td>\n",
       "    </tr>\n",
       "    <tr>\n",
       "      <th>1</th>\n",
       "      <td>Aalborg</td>\n",
       "      <td>Copenhagen</td>\n",
       "      <td>Sea</td>\n",
       "      <td>1</td>\n",
       "      <td>1</td>\n",
       "      <td>6.0</td>\n",
       "      <td>1</td>\n",
       "      <td>NaN</td>\n",
       "      <td>NaN</td>\n",
       "      <td>55.686724</td>\n",
       "      <td>12.570072</td>\n",
       "    </tr>\n",
       "    <tr>\n",
       "      <th>2</th>\n",
       "      <td>Aalborg</td>\n",
       "      <td>Hamburg</td>\n",
       "      <td>Sea</td>\n",
       "      <td>1</td>\n",
       "      <td>2</td>\n",
       "      <td>2.0</td>\n",
       "      <td>2</td>\n",
       "      <td>NaN</td>\n",
       "      <td>NaN</td>\n",
       "      <td>53.550341</td>\n",
       "      <td>10.000654</td>\n",
       "    </tr>\n",
       "    <tr>\n",
       "      <th>3</th>\n",
       "      <td>Aalborg</td>\n",
       "      <td>Helsingborg</td>\n",
       "      <td>Sea</td>\n",
       "      <td>1</td>\n",
       "      <td>1</td>\n",
       "      <td>5.0</td>\n",
       "      <td>1</td>\n",
       "      <td>NaN</td>\n",
       "      <td>NaN</td>\n",
       "      <td>56.044198</td>\n",
       "      <td>12.704068</td>\n",
       "    </tr>\n",
       "    <tr>\n",
       "      <th>4</th>\n",
       "      <td>Aalborg</td>\n",
       "      <td>Kiel</td>\n",
       "      <td>Sea</td>\n",
       "      <td>1</td>\n",
       "      <td>1</td>\n",
       "      <td>1.0</td>\n",
       "      <td>1</td>\n",
       "      <td>NaN</td>\n",
       "      <td>NaN</td>\n",
       "      <td>54.322708</td>\n",
       "      <td>10.135555</td>\n",
       "    </tr>\n",
       "  </tbody>\n",
       "</table>\n",
       "</div>"
      ],
      "text/plain": [
       "    O_City       D_City Modality  No_carrier  departure_per_week  \\\n",
       "0  Aalborg       Aarhus      Sea           1                   1   \n",
       "1  Aalborg   Copenhagen      Sea           1                   1   \n",
       "2  Aalborg      Hamburg      Sea           1                   2   \n",
       "3  Aalborg  Helsingborg      Sea           1                   1   \n",
       "4  Aalborg         Kiel      Sea           1                   1   \n",
       "\n",
       "   avg_travel_time  link_weight  o_city_lat  o_city_lon  d_city_lat  \\\n",
       "0              6.0            1         NaN         NaN         NaN   \n",
       "1              6.0            1         NaN         NaN   55.686724   \n",
       "2              2.0            2         NaN         NaN   53.550341   \n",
       "3              5.0            1         NaN         NaN   56.044198   \n",
       "4              1.0            1         NaN         NaN   54.322708   \n",
       "\n",
       "   d_city_lon  \n",
       "0         NaN  \n",
       "1   12.570072  \n",
       "2   10.000654  \n",
       "3   12.704068  \n",
       "4   10.135555  "
      ]
     },
     "execution_count": 5,
     "metadata": {},
     "output_type": "execute_result"
    }
   ],
   "source": [
    "df.head()"
   ]
  },
  {
   "cell_type": "code",
   "execution_count": 6,
   "metadata": {
    "collapsed": true
   },
   "outputs": [],
   "source": [
    "hubs = ['Rotterdam',\n",
    " 'Antwerp',\n",
    " 'Hamburg',\n",
    " 'Bremerhaven',\n",
    " 'Valencia',\n",
    " 'Piraeus',\n",
    " 'Algeciras',\n",
    " 'Felixstowe',\n",
    " 'Barcelona',\n",
    " 'Marsaxlokk',\n",
    " 'Le_Havre',\n",
    " 'Southampton']"
   ]
  },
  {
   "cell_type": "code",
   "execution_count": 7,
   "metadata": {
    "collapsed": true,
    "scrolled": false
   },
   "outputs": [],
   "source": [
    "df_origin = df[(df['O_City'] == 'Rotterdam') | (df['O_City'] == 'Antwerp') | (df['O_City'] == 'Hamburg')|\n",
    "              (df['O_City'] == 'Bremerhaven') | (df['O_City'] == 'Valencia') | (df['O_City'] == 'Piraeus')|\n",
    "              (df['O_City'] == 'Algeciras') | (df['O_City'] == 'Felixstowe') | (df['O_City'] == 'Barcelona')|\n",
    "              (df['O_City'] == 'Marsaxlokk') | (df['O_City'] == 'Le Havre') | (df['O_City'] == 'Southampton')]"
   ]
  },
  {
   "cell_type": "code",
   "execution_count": 8,
   "metadata": {
    "collapsed": true
   },
   "outputs": [],
   "source": [
    "df_destination = df[(df['D_City'] == 'Rotterdam') | (df['D_City'] == 'Antwerp') | (df['D_City'] == 'Hamburg')|\n",
    "              (df['D_City'] == 'Bremerhaven') | (df['D_City'] == 'Valencia') | (df['D_City'] == 'Piraeus')|\n",
    "              (df['D_City'] == 'Algeciras') | (df['D_City'] == 'Felixstowe') | (df['D_City'] == 'Barcelona')|\n",
    "              (df['D_City'] == 'Marsaxlokk') | (df['D_City'] == 'Le Havre') | (df['D_City'] == 'Southampton')]"
   ]
  },
  {
   "cell_type": "markdown",
   "metadata": {},
   "source": [
    "# Merge Table"
   ]
  },
  {
   "cell_type": "code",
   "execution_count": 9,
   "metadata": {
    "collapsed": true
   },
   "outputs": [],
   "source": [
    "df_all = pd.concat([df_origin, df_destination])"
   ]
  },
  {
   "cell_type": "code",
   "execution_count": 10,
   "metadata": {},
   "outputs": [
    {
     "data": {
      "text/html": [
       "<div>\n",
       "<style scoped>\n",
       "    .dataframe tbody tr th:only-of-type {\n",
       "        vertical-align: middle;\n",
       "    }\n",
       "\n",
       "    .dataframe tbody tr th {\n",
       "        vertical-align: top;\n",
       "    }\n",
       "\n",
       "    .dataframe thead th {\n",
       "        text-align: right;\n",
       "    }\n",
       "</style>\n",
       "<table border=\"1\" class=\"dataframe\">\n",
       "  <thead>\n",
       "    <tr style=\"text-align: right;\">\n",
       "      <th></th>\n",
       "      <th>O_City</th>\n",
       "      <th>D_City</th>\n",
       "      <th>Modality</th>\n",
       "      <th>No_carrier</th>\n",
       "      <th>departure_per_week</th>\n",
       "      <th>avg_travel_time</th>\n",
       "      <th>link_weight</th>\n",
       "      <th>o_city_lat</th>\n",
       "      <th>o_city_lon</th>\n",
       "      <th>d_city_lat</th>\n",
       "      <th>d_city_lon</th>\n",
       "    </tr>\n",
       "  </thead>\n",
       "  <tbody>\n",
       "    <tr>\n",
       "      <th>158</th>\n",
       "      <td>Algeciras</td>\n",
       "      <td>Abidjan</td>\n",
       "      <td>Sea</td>\n",
       "      <td>1</td>\n",
       "      <td>2</td>\n",
       "      <td>11.000000</td>\n",
       "      <td>2</td>\n",
       "      <td>36.1408</td>\n",
       "      <td>5.4562</td>\n",
       "      <td>NaN</td>\n",
       "      <td>NaN</td>\n",
       "    </tr>\n",
       "    <tr>\n",
       "      <th>159</th>\n",
       "      <td>Algeciras</td>\n",
       "      <td>Agadir</td>\n",
       "      <td>Sea</td>\n",
       "      <td>2</td>\n",
       "      <td>4</td>\n",
       "      <td>10.000000</td>\n",
       "      <td>4</td>\n",
       "      <td>36.1408</td>\n",
       "      <td>5.4562</td>\n",
       "      <td>NaN</td>\n",
       "      <td>NaN</td>\n",
       "    </tr>\n",
       "    <tr>\n",
       "      <th>160</th>\n",
       "      <td>Algeciras</td>\n",
       "      <td>Alexandria</td>\n",
       "      <td>Sea</td>\n",
       "      <td>1</td>\n",
       "      <td>3</td>\n",
       "      <td>8.000000</td>\n",
       "      <td>3</td>\n",
       "      <td>36.1408</td>\n",
       "      <td>5.4562</td>\n",
       "      <td>NaN</td>\n",
       "      <td>NaN</td>\n",
       "    </tr>\n",
       "    <tr>\n",
       "      <th>161</th>\n",
       "      <td>Algeciras</td>\n",
       "      <td>Ancona</td>\n",
       "      <td>Sea</td>\n",
       "      <td>1</td>\n",
       "      <td>2</td>\n",
       "      <td>11.000000</td>\n",
       "      <td>2</td>\n",
       "      <td>36.1408</td>\n",
       "      <td>5.4562</td>\n",
       "      <td>NaN</td>\n",
       "      <td>NaN</td>\n",
       "    </tr>\n",
       "    <tr>\n",
       "      <th>162</th>\n",
       "      <td>Algeciras</td>\n",
       "      <td>Antwerp</td>\n",
       "      <td>Sea</td>\n",
       "      <td>3</td>\n",
       "      <td>6</td>\n",
       "      <td>5.666667</td>\n",
       "      <td>6</td>\n",
       "      <td>36.1408</td>\n",
       "      <td>5.4562</td>\n",
       "      <td>51.22111</td>\n",
       "      <td>4.399708</td>\n",
       "    </tr>\n",
       "  </tbody>\n",
       "</table>\n",
       "</div>"
      ],
      "text/plain": [
       "        O_City      D_City Modality  No_carrier  departure_per_week  \\\n",
       "158  Algeciras     Abidjan      Sea           1                   2   \n",
       "159  Algeciras      Agadir      Sea           2                   4   \n",
       "160  Algeciras  Alexandria      Sea           1                   3   \n",
       "161  Algeciras      Ancona      Sea           1                   2   \n",
       "162  Algeciras     Antwerp      Sea           3                   6   \n",
       "\n",
       "     avg_travel_time  link_weight  o_city_lat  o_city_lon  d_city_lat  \\\n",
       "158        11.000000            2     36.1408      5.4562         NaN   \n",
       "159        10.000000            4     36.1408      5.4562         NaN   \n",
       "160         8.000000            3     36.1408      5.4562         NaN   \n",
       "161        11.000000            2     36.1408      5.4562         NaN   \n",
       "162         5.666667            6     36.1408      5.4562    51.22111   \n",
       "\n",
       "     d_city_lon  \n",
       "158         NaN  \n",
       "159         NaN  \n",
       "160         NaN  \n",
       "161         NaN  \n",
       "162    4.399708  "
      ]
     },
     "execution_count": 10,
     "metadata": {},
     "output_type": "execute_result"
    }
   ],
   "source": [
    "df_all.head()"
   ]
  },
  {
   "cell_type": "code",
   "execution_count": 11,
   "metadata": {
    "collapsed": true
   },
   "outputs": [],
   "source": [
    "df_all.dropna(inplace=True)"
   ]
  },
  {
   "cell_type": "code",
   "execution_count": 12,
   "metadata": {
    "collapsed": true
   },
   "outputs": [],
   "source": [
    "# reset index\n",
    "df_all.reset_index(drop=True, inplace=True)"
   ]
  },
  {
   "cell_type": "markdown",
   "metadata": {},
   "source": [
    "# Make the file for Muxviz"
   ]
  },
  {
   "cell_type": "code",
   "execution_count": 13,
   "metadata": {
    "collapsed": true
   },
   "outputs": [],
   "source": [
    "# Make Node List\n",
    "origin_list = list(set(df_all[\"O_City\"]))\n",
    "destination_list = list(set(df_all[\"D_City\"]))\n",
    "\n",
    "# Sorting origin and destination\n",
    "origin_list.sort()\n",
    "destination_list.sort()\n",
    "\n",
    "# Create a full list\n",
    "full_node = origin_list + destination_list\n",
    "\n",
    "# Set the full node\n",
    "full_node = set(full_node)\n",
    "\n",
    "full_node = list(full_node)\n",
    "full_node.sort()\n",
    "\n",
    "dict_node = {x+1:full_node[x] for x in range(len(full_node))}\n",
    "\n",
    "# Make dataframe for the node\n",
    "df_node = pd.DataFrame(list(dict_node.items()), columns=['nodeID','nodeLabel'])\n",
    "\n",
    "df_node.index += 1\n",
    "df_node.index.rename(\"nodeID\", inplace = True)\n",
    "df_node.drop(\"nodeID\", axis=1, inplace= True)\n",
    "df_node.replace(to_replace = r\" \", value = \"_\", regex=True, inplace=True)\n",
    "df_node.to_csv(\"terminal_layout_2016.txt\",sep=\" \")"
   ]
  },
  {
   "cell_type": "code",
   "execution_count": 14,
   "metadata": {
    "collapsed": true
   },
   "outputs": [],
   "source": [
    "# Algorithm terminal layout 2 for saving the latitude and longitude value to be called when making dataframe\n",
    "dict_loc_origin = {df_all['O_City'][x]:(df_all['o_city_lat'][x], df_all['o_city_lon'][x]) for x in range(len(df_all))}\n",
    "dict_loc_destination = {df_all['D_City'][x]:(df_all['d_city_lat'][x], df_all['d_city_lon'][x]) for x in range(len(df_all))}"
   ]
  },
  {
   "cell_type": "code",
   "execution_count": 15,
   "metadata": {
    "collapsed": true
   },
   "outputs": [],
   "source": [
    "max_loc_length = max(len(dict_loc_origin), len(dict_loc_destination))"
   ]
  },
  {
   "cell_type": "code",
   "execution_count": 16,
   "metadata": {},
   "outputs": [
    {
     "data": {
      "text/plain": [
       "False"
      ]
     },
     "execution_count": 16,
     "metadata": {},
     "output_type": "execute_result"
    }
   ],
   "source": [
    "# Check whether set of element in destination is part of origin\n",
    "set(dict_loc_destination.keys()) < set(dict_loc_origin.keys())"
   ]
  },
  {
   "cell_type": "code",
   "execution_count": 17,
   "metadata": {
    "collapsed": true
   },
   "outputs": [],
   "source": [
    "# Make set of items to be called\n",
    "origin_loc_list = sorted(list(set(df_all[\"O_City\"])))"
   ]
  },
  {
   "cell_type": "code",
   "execution_count": 18,
   "metadata": {
    "collapsed": true
   },
   "outputs": [],
   "source": [
    "df_loc_all = pd.DataFrame(columns=['nodeLabel','nodeLat','nodeLong'], index=range(len(dict_loc_origin)))"
   ]
  },
  {
   "cell_type": "code",
   "execution_count": 19,
   "metadata": {
    "collapsed": true
   },
   "outputs": [],
   "source": [
    "for i in range(len(dict_loc_origin)):\n",
    "    df_loc_all['nodeLabel'][i] = origin_loc_list[i]\n",
    "    df_loc_all['nodeLat'][i] = dict_loc_origin[origin_loc_list[i]][0]\n",
    "    df_loc_all['nodeLong'][i] = dict_loc_origin[origin_loc_list[i]][1]"
   ]
  },
  {
   "cell_type": "code",
   "execution_count": 20,
   "metadata": {
    "collapsed": true
   },
   "outputs": [],
   "source": [
    "# remove nan\n",
    "df_loc_all.dropna(inplace=True)\n",
    "df_loc_all.reset_index(drop=True,inplace=True)\n",
    "df_loc_all.index += 1\n",
    "df_loc_all.index.rename(\"nodeID\", inplace = True)\n",
    "df_loc_all.replace(to_replace = r\" \", value = \"_\", regex=True, inplace=True)\n",
    "df_loc_all.to_csv(\"terminal_loc_layout_2016.txt\",sep=\" \")"
   ]
  },
  {
   "cell_type": "code",
   "execution_count": 21,
   "metadata": {
    "collapsed": true
   },
   "outputs": [],
   "source": [
    "# New algorithm - make terminal layout and other 3 layers by using df_loc_all"
   ]
  },
  {
   "cell_type": "code",
   "execution_count": 22,
   "metadata": {
    "collapsed": true
   },
   "outputs": [],
   "source": [
    "# for getting the ID of the node\n",
    "dict_loc_node = {df_loc_all['nodeLabel'].values[x]:x+1 for x in range(len(df_loc_all))}"
   ]
  },
  {
   "cell_type": "code",
   "execution_count": 23,
   "metadata": {},
   "outputs": [
    {
     "data": {
      "text/html": [
       "<div>\n",
       "<style scoped>\n",
       "    .dataframe tbody tr th:only-of-type {\n",
       "        vertical-align: middle;\n",
       "    }\n",
       "\n",
       "    .dataframe tbody tr th {\n",
       "        vertical-align: top;\n",
       "    }\n",
       "\n",
       "    .dataframe thead th {\n",
       "        text-align: right;\n",
       "    }\n",
       "</style>\n",
       "<table border=\"1\" class=\"dataframe\">\n",
       "  <thead>\n",
       "    <tr style=\"text-align: right;\">\n",
       "      <th></th>\n",
       "      <th>O_City</th>\n",
       "      <th>D_City</th>\n",
       "      <th>Modality</th>\n",
       "      <th>No_carrier</th>\n",
       "      <th>departure_per_week</th>\n",
       "      <th>avg_travel_time</th>\n",
       "      <th>link_weight</th>\n",
       "      <th>o_city_lat</th>\n",
       "      <th>o_city_lon</th>\n",
       "      <th>d_city_lat</th>\n",
       "      <th>d_city_lon</th>\n",
       "    </tr>\n",
       "  </thead>\n",
       "  <tbody>\n",
       "    <tr>\n",
       "      <th>0</th>\n",
       "      <td>Algeciras</td>\n",
       "      <td>Antwerp</td>\n",
       "      <td>Sea</td>\n",
       "      <td>3</td>\n",
       "      <td>6</td>\n",
       "      <td>5.666667</td>\n",
       "      <td>6</td>\n",
       "      <td>36.1408</td>\n",
       "      <td>5.4562</td>\n",
       "      <td>51.221110</td>\n",
       "      <td>4.399708</td>\n",
       "    </tr>\n",
       "    <tr>\n",
       "      <th>1</th>\n",
       "      <td>Algeciras</td>\n",
       "      <td>Barcelona</td>\n",
       "      <td>Sea</td>\n",
       "      <td>1</td>\n",
       "      <td>2</td>\n",
       "      <td>6.500000</td>\n",
       "      <td>2</td>\n",
       "      <td>36.1408</td>\n",
       "      <td>5.4562</td>\n",
       "      <td>41.382894</td>\n",
       "      <td>2.177432</td>\n",
       "    </tr>\n",
       "    <tr>\n",
       "      <th>2</th>\n",
       "      <td>Algeciras</td>\n",
       "      <td>Bilbao</td>\n",
       "      <td>Sea</td>\n",
       "      <td>1</td>\n",
       "      <td>2</td>\n",
       "      <td>5.000000</td>\n",
       "      <td>2</td>\n",
       "      <td>36.1408</td>\n",
       "      <td>5.4562</td>\n",
       "      <td>43.263005</td>\n",
       "      <td>-2.934992</td>\n",
       "    </tr>\n",
       "    <tr>\n",
       "      <th>3</th>\n",
       "      <td>Algeciras</td>\n",
       "      <td>Catania</td>\n",
       "      <td>Sea</td>\n",
       "      <td>1</td>\n",
       "      <td>2</td>\n",
       "      <td>6.000000</td>\n",
       "      <td>2</td>\n",
       "      <td>36.1408</td>\n",
       "      <td>5.4562</td>\n",
       "      <td>37.502235</td>\n",
       "      <td>15.087380</td>\n",
       "    </tr>\n",
       "    <tr>\n",
       "      <th>4</th>\n",
       "      <td>Algeciras</td>\n",
       "      <td>Dublin</td>\n",
       "      <td>Sea</td>\n",
       "      <td>1</td>\n",
       "      <td>1</td>\n",
       "      <td>7.000000</td>\n",
       "      <td>1</td>\n",
       "      <td>36.1408</td>\n",
       "      <td>5.4562</td>\n",
       "      <td>53.349764</td>\n",
       "      <td>-6.260273</td>\n",
       "    </tr>\n",
       "  </tbody>\n",
       "</table>\n",
       "</div>"
      ],
      "text/plain": [
       "      O_City     D_City Modality  No_carrier  departure_per_week  \\\n",
       "0  Algeciras    Antwerp      Sea           3                   6   \n",
       "1  Algeciras  Barcelona      Sea           1                   2   \n",
       "2  Algeciras     Bilbao      Sea           1                   2   \n",
       "3  Algeciras    Catania      Sea           1                   2   \n",
       "4  Algeciras     Dublin      Sea           1                   1   \n",
       "\n",
       "   avg_travel_time  link_weight  o_city_lat  o_city_lon  d_city_lat  \\\n",
       "0         5.666667            6     36.1408      5.4562   51.221110   \n",
       "1         6.500000            2     36.1408      5.4562   41.382894   \n",
       "2         5.000000            2     36.1408      5.4562   43.263005   \n",
       "3         6.000000            2     36.1408      5.4562   37.502235   \n",
       "4         7.000000            1     36.1408      5.4562   53.349764   \n",
       "\n",
       "   d_city_lon  \n",
       "0    4.399708  \n",
       "1    2.177432  \n",
       "2   -2.934992  \n",
       "3   15.087380  \n",
       "4   -6.260273  "
      ]
     },
     "execution_count": 23,
     "metadata": {},
     "output_type": "execute_result"
    }
   ],
   "source": [
    "df_all.head()"
   ]
  },
  {
   "cell_type": "code",
   "execution_count": 24,
   "metadata": {},
   "outputs": [
    {
     "name": "stderr",
     "output_type": "stream",
     "text": [
      "/Users/andreas.yunus/anaconda/envs/py36/lib/python3.6/site-packages/ipykernel_launcher.py:8: SettingWithCopyWarning: \n",
      "A value is trying to be set on a copy of a slice from a DataFrame\n",
      "\n",
      "See the caveats in the documentation: http://pandas.pydata.org/pandas-docs/stable/indexing.html#indexing-view-versus-copy\n",
      "  \n"
     ]
    }
   ],
   "source": [
    "# Separating the layer based on modality\n",
    "set(df_all['Modality'].values)\n",
    "\n",
    "# df inland\n",
    "df_loc_inland = df_all[df_all['Modality'] == 'Inland shipping']\n",
    "\n",
    "# drop na\n",
    "df_loc_inland.dropna(inplace=True)\n",
    "\n",
    "# reset index\n",
    "df_loc_inland.reset_index(drop=True, inplace=True)\n",
    "\n",
    "# df inland\n",
    "df_loc_inland_cut = df_loc_inland.iloc[:,:7]\n",
    "df_loc_inland_cut.drop(labels=['Modality','No_carrier','departure_per_week','avg_travel_time'], axis=1, inplace=True)\n",
    "df_loc_inland_cut[\"O_City\"] = df_loc_inland_cut[\"O_City\"].map(dict_loc_node)\n",
    "df_loc_inland_cut[\"D_City\"] = df_loc_inland_cut[\"D_City\"].map(dict_loc_node)\n",
    "df_loc_inland_cut.dropna(inplace=True)\n",
    "# map into integer\n",
    "df_loc_inland_cut[\"O_City\"] = df_loc_inland_cut[\"O_City\"].map(int)\n",
    "df_loc_inland_cut[\"D_City\"] = df_loc_inland_cut[\"D_City\"].map(int)"
   ]
  },
  {
   "cell_type": "code",
   "execution_count": 25,
   "metadata": {},
   "outputs": [
    {
     "name": "stderr",
     "output_type": "stream",
     "text": [
      "/Users/andreas.yunus/anaconda/envs/py36/lib/python3.6/site-packages/ipykernel_launcher.py:6: SettingWithCopyWarning: \n",
      "A value is trying to be set on a copy of a slice from a DataFrame\n",
      "\n",
      "See the caveats in the documentation: http://pandas.pydata.org/pandas-docs/stable/indexing.html#indexing-view-versus-copy\n",
      "  \n"
     ]
    }
   ],
   "source": [
    "# Rail\n",
    "# df rail\n",
    "df_loc_rail = df_all[df_all['Modality'] == 'Rail']\n",
    "\n",
    "# drop na\n",
    "df_loc_rail.dropna(inplace=True)\n",
    "\n",
    "# reset index\n",
    "df_loc_rail.reset_index(drop=True, inplace=True)\n",
    "\n",
    "# df rail\n",
    "df_loc_rail_cut = df_loc_rail.iloc[:,:7]\n",
    "df_loc_rail_cut.drop(labels=['Modality','No_carrier','departure_per_week','avg_travel_time'], axis=1, inplace=True)\n",
    "df_loc_rail_cut[\"O_City\"] = df_loc_rail_cut[\"O_City\"].map(dict_loc_node)\n",
    "df_loc_rail_cut[\"D_City\"] = df_loc_rail_cut[\"D_City\"].map(dict_loc_node)\n",
    "df_loc_rail_cut.dropna(inplace=True)\n",
    "# map into integer\n",
    "df_loc_rail_cut[\"O_City\"] = df_loc_rail_cut[\"O_City\"].map(int)\n",
    "df_loc_rail_cut[\"D_City\"] = df_loc_rail_cut[\"D_City\"].map(int)"
   ]
  },
  {
   "cell_type": "code",
   "execution_count": 26,
   "metadata": {},
   "outputs": [
    {
     "name": "stderr",
     "output_type": "stream",
     "text": [
      "/Users/andreas.yunus/anaconda/envs/py36/lib/python3.6/site-packages/ipykernel_launcher.py:6: SettingWithCopyWarning: \n",
      "A value is trying to be set on a copy of a slice from a DataFrame\n",
      "\n",
      "See the caveats in the documentation: http://pandas.pydata.org/pandas-docs/stable/indexing.html#indexing-view-versus-copy\n",
      "  \n"
     ]
    }
   ],
   "source": [
    "# Sea\n",
    "# df sea\n",
    "df_loc_sea = df_all[df_all['Modality'] == 'Sea']\n",
    "\n",
    "# drop na\n",
    "df_loc_sea.dropna(inplace=True)\n",
    "\n",
    "# reset index\n",
    "df_loc_sea.reset_index(drop=True, inplace=True)\n",
    "\n",
    "# df sea\n",
    "df_loc_sea_cut = df_loc_sea.iloc[:,:7]\n",
    "df_loc_sea_cut.drop(labels=['Modality','No_carrier','departure_per_week','avg_travel_time'], axis=1, inplace=True)\n",
    "df_loc_sea_cut[\"O_City\"] = df_loc_sea_cut[\"O_City\"].map(dict_loc_node)\n",
    "df_loc_sea_cut[\"D_City\"] = df_loc_sea_cut[\"D_City\"].map(dict_loc_node)\n",
    "df_loc_sea_cut.dropna(inplace=True)\n",
    "df_loc_sea_cut[\"O_City\"] = df_loc_sea_cut[\"O_City\"].map(int)\n",
    "df_loc_sea_cut[\"D_City\"] = df_loc_sea_cut[\"D_City\"].map(int)"
   ]
  },
  {
   "cell_type": "code",
   "execution_count": 27,
   "metadata": {
    "collapsed": true
   },
   "outputs": [],
   "source": [
    "# Make layer for inland\n",
    "# Add weight column\n",
    "#df_loc_inland_cut[\"link_weight\"] = 1\n",
    "df_loc_inland_cut.to_csv(\"terminal_loc_inland_2016.txt\", sep=\" \", index=False, header=False)\n",
    "\n",
    "# Make layer for rail\n",
    "# Add weight column\n",
    "#df_loc_rail_cut[\"link_weight\"] = 1\n",
    "df_loc_rail_cut.to_csv(\"terminal_loc_rail_2016.txt\", sep=\" \", index=False, header=False)\n",
    "\n",
    "# Make layer for sea\n",
    "# Add weight column\n",
    "#df_loc_sea_cut[\"link_weight\"] = 1\n",
    "df_loc_sea_cut.to_csv(\"terminal_loc_sea_2016.txt\", sep=\" \", index=False, header=False)"
   ]
  },
  {
   "cell_type": "code",
   "execution_count": 28,
   "metadata": {
    "collapsed": true
   },
   "outputs": [],
   "source": [
    "# batasan"
   ]
  },
  {
   "cell_type": "code",
   "execution_count": 29,
   "metadata": {
    "collapsed": true
   },
   "outputs": [],
   "source": [
    "'''\n",
    "# Inverse the dictionary\n",
    "# Invert the dictionary to call the nodeID based on the name only\n",
    "inv_dict_node = {v: k for k, v in dict_node.items()}\n",
    "''';"
   ]
  },
  {
   "cell_type": "code",
   "execution_count": 30,
   "metadata": {
    "collapsed": true
   },
   "outputs": [],
   "source": [
    "'''\n",
    "# Separating the layer based on modality\n",
    "set(df_all['Modality'].values)\n",
    "\n",
    "# df inland\n",
    "df_inland = df_all[df_all['Modality'] == 'Inland shipping']\n",
    "df_inland.reset_index(drop=True, inplace=True)\n",
    "\n",
    "# df rail\n",
    "df_rail = df_all[df_all['Modality'] == 'Rail']\n",
    "df_rail.reset_index(drop=True, inplace=True)\n",
    "\n",
    "# df sea\n",
    "df_sea = df_all[df_all['Modality'] == 'Sea']\n",
    "df_sea.reset_index(drop=True, inplace=True)\n",
    "\n",
    "# df inland\n",
    "df_inland_cut = df_inland.iloc[:,:7]\n",
    "df_inland_cut.drop(labels=[\"O_Country_ID\", \"O_Country\", \"O_Terminal\", \"D_Country_ID\", \"D_Country\"], axis=1, inplace=True)\n",
    "df_inland_cut[\"O_City\"] = df_inland_cut[\"O_City\"].map(inv_dict_node)\n",
    "df_inland_cut[\"D_City\"] = df_inland_cut[\"D_City\"].map(inv_dict_node)\n",
    "\n",
    "# df rail\n",
    "df_rail_cut = df_rail.iloc[:,:7]\n",
    "df_rail_cut.drop(labels=[\"O_Country_ID\", \"O_Country\", \"O_Terminal\", \"D_Country_ID\", \"D_Country\"], axis=1, inplace=True)\n",
    "df_rail_cut[\"O_City\"] = df_rail_cut[\"O_City\"].map(inv_dict_node)\n",
    "df_rail_cut[\"D_City\"] = df_rail_cut[\"D_City\"].map(inv_dict_node)\n",
    "\n",
    "# df sea\n",
    "df_sea_cut = df_sea.iloc[:,:7]\n",
    "df_sea_cut.drop(labels=[\"O_Country_ID\", \"O_Country\", \"O_Terminal\", \"D_Country_ID\", \"D_Country\"], axis=1, inplace=True)\n",
    "df_sea_cut[\"O_City\"] = df_sea_cut[\"O_City\"].map(inv_dict_node)\n",
    "df_sea_cut[\"D_City\"] = df_sea_cut[\"D_City\"].map(inv_dict_node)\n",
    "\n",
    "# Same city to same city - maybe different terminal\n",
    "df_sea_cut[df_sea_cut[\"O_City\"] == df_sea_cut[\"D_City\"]]\n",
    "''';"
   ]
  },
  {
   "cell_type": "code",
   "execution_count": 31,
   "metadata": {
    "collapsed": true
   },
   "outputs": [],
   "source": [
    "'''\n",
    "# Make layer for inland\n",
    "# Add weight column\n",
    "df_inland_cut[\"link_weight\"] = 1\n",
    "df_inland_cut.to_csv(\"terminal_inland.txt\", sep=\" \", index=False, header=False)\n",
    "\n",
    "# Make layer for rail\n",
    "# Add weight column\n",
    "df_rail_cut[\"link_weight\"] = 1\n",
    "df_rail_cut.to_csv(\"terminal_rail.txt\", sep=\" \", index=False, header=False)\n",
    "\n",
    "# Make layer for sea\n",
    "# Add weight column\n",
    "df_sea_cut[\"link_weight\"] = 1\n",
    "df_sea_cut.to_csv(\"terminal_sea.txt\", sep=\" \", index=False, header=False)\n",
    "''';"
   ]
  },
  {
   "cell_type": "markdown",
   "metadata": {
    "collapsed": true
   },
   "source": [
    "# Map distribution of the Link Weight"
   ]
  },
  {
   "cell_type": "code",
   "execution_count": 32,
   "metadata": {},
   "outputs": [
    {
     "data": {
      "text/html": [
       "<div>\n",
       "<style scoped>\n",
       "    .dataframe tbody tr th:only-of-type {\n",
       "        vertical-align: middle;\n",
       "    }\n",
       "\n",
       "    .dataframe tbody tr th {\n",
       "        vertical-align: top;\n",
       "    }\n",
       "\n",
       "    .dataframe thead th {\n",
       "        text-align: right;\n",
       "    }\n",
       "</style>\n",
       "<table border=\"1\" class=\"dataframe\">\n",
       "  <thead>\n",
       "    <tr style=\"text-align: right;\">\n",
       "      <th></th>\n",
       "      <th>O_City</th>\n",
       "      <th>D_City</th>\n",
       "      <th>Modality</th>\n",
       "      <th>No_carrier</th>\n",
       "      <th>departure_per_week</th>\n",
       "      <th>avg_travel_time</th>\n",
       "      <th>link_weight</th>\n",
       "      <th>o_city_lat</th>\n",
       "      <th>o_city_lon</th>\n",
       "      <th>d_city_lat</th>\n",
       "      <th>d_city_lon</th>\n",
       "    </tr>\n",
       "  </thead>\n",
       "  <tbody>\n",
       "    <tr>\n",
       "      <th>0</th>\n",
       "      <td>Algeciras</td>\n",
       "      <td>Antwerp</td>\n",
       "      <td>Sea</td>\n",
       "      <td>3</td>\n",
       "      <td>6</td>\n",
       "      <td>5.666667</td>\n",
       "      <td>6</td>\n",
       "      <td>36.1408</td>\n",
       "      <td>5.4562</td>\n",
       "      <td>51.221110</td>\n",
       "      <td>4.399708</td>\n",
       "    </tr>\n",
       "    <tr>\n",
       "      <th>1</th>\n",
       "      <td>Algeciras</td>\n",
       "      <td>Barcelona</td>\n",
       "      <td>Sea</td>\n",
       "      <td>1</td>\n",
       "      <td>2</td>\n",
       "      <td>6.500000</td>\n",
       "      <td>2</td>\n",
       "      <td>36.1408</td>\n",
       "      <td>5.4562</td>\n",
       "      <td>41.382894</td>\n",
       "      <td>2.177432</td>\n",
       "    </tr>\n",
       "    <tr>\n",
       "      <th>2</th>\n",
       "      <td>Algeciras</td>\n",
       "      <td>Bilbao</td>\n",
       "      <td>Sea</td>\n",
       "      <td>1</td>\n",
       "      <td>2</td>\n",
       "      <td>5.000000</td>\n",
       "      <td>2</td>\n",
       "      <td>36.1408</td>\n",
       "      <td>5.4562</td>\n",
       "      <td>43.263005</td>\n",
       "      <td>-2.934992</td>\n",
       "    </tr>\n",
       "    <tr>\n",
       "      <th>3</th>\n",
       "      <td>Algeciras</td>\n",
       "      <td>Catania</td>\n",
       "      <td>Sea</td>\n",
       "      <td>1</td>\n",
       "      <td>2</td>\n",
       "      <td>6.000000</td>\n",
       "      <td>2</td>\n",
       "      <td>36.1408</td>\n",
       "      <td>5.4562</td>\n",
       "      <td>37.502235</td>\n",
       "      <td>15.087380</td>\n",
       "    </tr>\n",
       "    <tr>\n",
       "      <th>4</th>\n",
       "      <td>Algeciras</td>\n",
       "      <td>Dublin</td>\n",
       "      <td>Sea</td>\n",
       "      <td>1</td>\n",
       "      <td>1</td>\n",
       "      <td>7.000000</td>\n",
       "      <td>1</td>\n",
       "      <td>36.1408</td>\n",
       "      <td>5.4562</td>\n",
       "      <td>53.349764</td>\n",
       "      <td>-6.260273</td>\n",
       "    </tr>\n",
       "  </tbody>\n",
       "</table>\n",
       "</div>"
      ],
      "text/plain": [
       "      O_City     D_City Modality  No_carrier  departure_per_week  \\\n",
       "0  Algeciras    Antwerp      Sea           3                   6   \n",
       "1  Algeciras  Barcelona      Sea           1                   2   \n",
       "2  Algeciras     Bilbao      Sea           1                   2   \n",
       "3  Algeciras    Catania      Sea           1                   2   \n",
       "4  Algeciras     Dublin      Sea           1                   1   \n",
       "\n",
       "   avg_travel_time  link_weight  o_city_lat  o_city_lon  d_city_lat  \\\n",
       "0         5.666667            6     36.1408      5.4562   51.221110   \n",
       "1         6.500000            2     36.1408      5.4562   41.382894   \n",
       "2         5.000000            2     36.1408      5.4562   43.263005   \n",
       "3         6.000000            2     36.1408      5.4562   37.502235   \n",
       "4         7.000000            1     36.1408      5.4562   53.349764   \n",
       "\n",
       "   d_city_lon  \n",
       "0    4.399708  \n",
       "1    2.177432  \n",
       "2   -2.934992  \n",
       "3   15.087380  \n",
       "4   -6.260273  "
      ]
     },
     "execution_count": 32,
     "metadata": {},
     "output_type": "execute_result"
    }
   ],
   "source": [
    "df_all.head()"
   ]
  },
  {
   "cell_type": "code",
   "execution_count": 33,
   "metadata": {},
   "outputs": [
    {
     "data": {
      "text/plain": [
       "<matplotlib.axes._subplots.AxesSubplot at 0x1a16d92c50>"
      ]
     },
     "execution_count": 33,
     "metadata": {},
     "output_type": "execute_result"
    },
    {
     "data": {
      "image/png": "[encoded data removed]",
      "text/plain": [
       "<Figure size 864x432 with 1 Axes>"
      ]
     },
     "metadata": {},
     "output_type": "display_data"
    }
   ],
   "source": [
    "fig, ax = plt.subplots(figsize=(12,6))\n",
    "sns.set_style(\"darkgrid\")\n",
    "sns.distplot(df_all[\"link_weight\"], ax=ax)"
   ]
  },
  {
   "cell_type": "code",
   "execution_count": 34,
   "metadata": {},
   "outputs": [
    {
     "data": {
      "text/plain": [
       "7.0"
      ]
     },
     "execution_count": 34,
     "metadata": {},
     "output_type": "execute_result"
    }
   ],
   "source": [
    "df_all['link_weight'].median()"
   ]
  },
  {
   "cell_type": "code",
   "execution_count": 35,
   "metadata": {},
   "outputs": [
    {
     "data": {
      "text/plain": [
       "16.488324175824175"
      ]
     },
     "execution_count": 35,
     "metadata": {},
     "output_type": "execute_result"
    }
   ],
   "source": [
    "df_all['link_weight'].mean()"
   ]
  },
  {
   "cell_type": "code",
   "execution_count": null,
   "metadata": {
    "collapsed": true
   },
   "outputs": [],
   "source": []
  }
 ],
 "metadata": {
  "kernelspec": {
   "display_name": "Python 3",
   "language": "python",
   "name": "python3"
  },
  "language_info": {
   "codemirror_mode": {
    "name": "ipython",
    "version": 3
   },
   "file_extension": ".py",
   "mimetype": "text/x-python",
   "name": "python",
   "nbconvert_exporter": "python",
   "pygments_lexer": "ipython3",
   "version": "3.6.8"
  }
 },
 "nbformat": 4,
 "nbformat_minor": 2
}
