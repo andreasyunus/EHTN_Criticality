{
 "cells": [
  {
   "cell_type": "code",
   "execution_count": 1,
   "metadata": {
    "collapsed": true
   },
   "outputs": [],
   "source": [
    "import pandas as pd\n",
    "import numpy as np\n",
    "import seaborn as sns\n",
    "import plotly.plotly\n",
    "import plotly.graph_objs as go\n",
    "import scipy.stats as stats\n",
    "# Work with Plotly Offline\n",
    "from plotly.offline import *\n",
    "import matplotlib.pyplot as plt\n",
    "%matplotlib inline"
   ]
  },
  {
   "cell_type": "code",
   "execution_count": 2,
   "metadata": {
    "collapsed": true
   },
   "outputs": [],
   "source": [
    "df_directed = pd.read_csv(\"Centrality_Directed_Weighted_01062019.csv\", sep=\";\")\n",
    "df_directed = df_directed[df_directed['Layer'] == \"1-Multi\"]\n",
    "df_directed.drop(labels=[\"Layer\", \"Node\"], axis=1, inplace=True)\n",
    "# Make list of column name\n",
    "l_col = list(df_directed.columns[1:])"
   ]
  },
  {
   "cell_type": "code",
   "execution_count": 3,
   "metadata": {},
   "outputs": [
    {
     "data": {
      "text/html": [
       "<div>\n",
       "<style scoped>\n",
       "    .dataframe tbody tr th:only-of-type {\n",
       "        vertical-align: middle;\n",
       "    }\n",
       "\n",
       "    .dataframe tbody tr th {\n",
       "        vertical-align: top;\n",
       "    }\n",
       "\n",
       "    .dataframe thead th {\n",
       "        text-align: right;\n",
       "    }\n",
       "</style>\n",
       "<table border=\"1\" class=\"dataframe\">\n",
       "  <thead>\n",
       "    <tr style=\"text-align: right;\">\n",
       "      <th></th>\n",
       "      <th>Label</th>\n",
       "      <th>Strength</th>\n",
       "      <th>StrengthIn</th>\n",
       "      <th>StrengthOut</th>\n",
       "      <th>Degree</th>\n",
       "      <th>DegreeIn</th>\n",
       "      <th>DegreeOut</th>\n",
       "      <th>PageRank</th>\n",
       "      <th>Eigenvector</th>\n",
       "      <th>Hub</th>\n",
       "      <th>Authority</th>\n",
       "      <th>Katz</th>\n",
       "      <th>Multiplexity</th>\n",
       "      <th>Kcore</th>\n",
       "    </tr>\n",
       "  </thead>\n",
       "  <tbody>\n",
       "    <tr>\n",
       "      <th>0</th>\n",
       "      <td>Aalborg</td>\n",
       "      <td>77.84</td>\n",
       "      <td>38.92</td>\n",
       "      <td>38.92</td>\n",
       "      <td>18</td>\n",
       "      <td>9</td>\n",
       "      <td>9</td>\n",
       "      <td>0.026703</td>\n",
       "      <td>0.000226</td>\n",
       "      <td>0.000191</td>\n",
       "      <td>0.000254</td>\n",
       "      <td>0.000237</td>\n",
       "      <td>0.333333</td>\n",
       "      <td>8</td>\n",
       "    </tr>\n",
       "    <tr>\n",
       "      <th>1</th>\n",
       "      <td>Aarau</td>\n",
       "      <td>147.84</td>\n",
       "      <td>73.92</td>\n",
       "      <td>73.92</td>\n",
       "      <td>24</td>\n",
       "      <td>12</td>\n",
       "      <td>12</td>\n",
       "      <td>0.038112</td>\n",
       "      <td>0.000443</td>\n",
       "      <td>0.000373</td>\n",
       "      <td>0.000479</td>\n",
       "      <td>0.000420</td>\n",
       "      <td>0.333333</td>\n",
       "      <td>8</td>\n",
       "    </tr>\n",
       "    <tr>\n",
       "      <th>2</th>\n",
       "      <td>Aarhus</td>\n",
       "      <td>275.84</td>\n",
       "      <td>137.92</td>\n",
       "      <td>137.92</td>\n",
       "      <td>74</td>\n",
       "      <td>37</td>\n",
       "      <td>37</td>\n",
       "      <td>0.048434</td>\n",
       "      <td>0.002578</td>\n",
       "      <td>0.002221</td>\n",
       "      <td>0.002832</td>\n",
       "      <td>0.002567</td>\n",
       "      <td>0.333333</td>\n",
       "      <td>27</td>\n",
       "    </tr>\n",
       "    <tr>\n",
       "      <th>3</th>\n",
       "      <td>Aberdeen</td>\n",
       "      <td>96.84</td>\n",
       "      <td>46.92</td>\n",
       "      <td>49.92</td>\n",
       "      <td>33</td>\n",
       "      <td>15</td>\n",
       "      <td>18</td>\n",
       "      <td>0.026853</td>\n",
       "      <td>0.000022</td>\n",
       "      <td>0.000088</td>\n",
       "      <td>0.000028</td>\n",
       "      <td>0.000106</td>\n",
       "      <td>0.666667</td>\n",
       "      <td>20</td>\n",
       "    </tr>\n",
       "    <tr>\n",
       "      <th>4</th>\n",
       "      <td>Abidjan</td>\n",
       "      <td>89.84</td>\n",
       "      <td>44.92</td>\n",
       "      <td>44.92</td>\n",
       "      <td>36</td>\n",
       "      <td>18</td>\n",
       "      <td>18</td>\n",
       "      <td>0.027882</td>\n",
       "      <td>0.000093</td>\n",
       "      <td>0.000076</td>\n",
       "      <td>0.000108</td>\n",
       "      <td>0.000099</td>\n",
       "      <td>0.333333</td>\n",
       "      <td>24</td>\n",
       "    </tr>\n",
       "  </tbody>\n",
       "</table>\n",
       "</div>"
      ],
      "text/plain": [
       "      Label  Strength  StrengthIn  StrengthOut  Degree  DegreeIn  DegreeOut  \\\n",
       "0   Aalborg     77.84       38.92        38.92      18         9          9   \n",
       "1     Aarau    147.84       73.92        73.92      24        12         12   \n",
       "2    Aarhus    275.84      137.92       137.92      74        37         37   \n",
       "3  Aberdeen     96.84       46.92        49.92      33        15         18   \n",
       "4   Abidjan     89.84       44.92        44.92      36        18         18   \n",
       "\n",
       "   PageRank  Eigenvector       Hub  Authority      Katz  Multiplexity  Kcore  \n",
       "0  0.026703     0.000226  0.000191   0.000254  0.000237      0.333333      8  \n",
       "1  0.038112     0.000443  0.000373   0.000479  0.000420      0.333333      8  \n",
       "2  0.048434     0.002578  0.002221   0.002832  0.002567      0.333333     27  \n",
       "3  0.026853     0.000022  0.000088   0.000028  0.000106      0.666667     20  \n",
       "4  0.027882     0.000093  0.000076   0.000108  0.000099      0.333333     24  "
      ]
     },
     "execution_count": 3,
     "metadata": {},
     "output_type": "execute_result"
    }
   ],
   "source": [
    "df_directed.head()"
   ]
  },
  {
   "cell_type": "code",
   "execution_count": 4,
   "metadata": {},
   "outputs": [
    {
     "data": {
      "text/plain": [
       "['Label',\n",
       " 'Strength',\n",
       " 'StrengthIn',\n",
       " 'StrengthOut',\n",
       " 'Degree',\n",
       " 'DegreeIn',\n",
       " 'DegreeOut',\n",
       " 'PageRank',\n",
       " 'Eigenvector',\n",
       " 'Hub',\n",
       " 'Authority',\n",
       " 'Katz',\n",
       " 'Multiplexity',\n",
       " 'Kcore']"
      ]
     },
     "execution_count": 4,
     "metadata": {},
     "output_type": "execute_result"
    }
   ],
   "source": [
    "# Getting columns as list\n",
    "df_directed.columns.to_list()"
   ]
  },
  {
   "cell_type": "code",
   "execution_count": 5,
   "metadata": {
    "collapsed": true
   },
   "outputs": [],
   "source": [
    "# reorder columns\n",
    "df_directed = df_directed[['Label',\n",
    " 'PageRank',\n",
    " 'Eigenvector',\n",
    " 'Strength',\n",
    " 'Degree',\n",
    " 'StrengthIn',\n",
    " 'StrengthOut',\n",
    " 'DegreeIn',\n",
    " 'DegreeOut',\n",
    " 'Hub',\n",
    " 'Authority',\n",
    " 'Katz',\n",
    " 'Multiplexity',\n",
    " 'Kcore']]"
   ]
  },
  {
   "cell_type": "code",
   "execution_count": 6,
   "metadata": {},
   "outputs": [
    {
     "data": {
      "text/html": [
       "<div>\n",
       "<style scoped>\n",
       "    .dataframe tbody tr th:only-of-type {\n",
       "        vertical-align: middle;\n",
       "    }\n",
       "\n",
       "    .dataframe tbody tr th {\n",
       "        vertical-align: top;\n",
       "    }\n",
       "\n",
       "    .dataframe thead th {\n",
       "        text-align: right;\n",
       "    }\n",
       "</style>\n",
       "<table border=\"1\" class=\"dataframe\">\n",
       "  <thead>\n",
       "    <tr style=\"text-align: right;\">\n",
       "      <th></th>\n",
       "      <th>Label</th>\n",
       "      <th>PageRank</th>\n",
       "      <th>Eigenvector</th>\n",
       "      <th>Strength</th>\n",
       "      <th>Degree</th>\n",
       "      <th>StrengthIn</th>\n",
       "      <th>StrengthOut</th>\n",
       "      <th>DegreeIn</th>\n",
       "      <th>DegreeOut</th>\n",
       "      <th>Hub</th>\n",
       "      <th>Authority</th>\n",
       "      <th>Katz</th>\n",
       "      <th>Multiplexity</th>\n",
       "      <th>Kcore</th>\n",
       "    </tr>\n",
       "  </thead>\n",
       "  <tbody>\n",
       "    <tr>\n",
       "      <th>0</th>\n",
       "      <td>Aalborg</td>\n",
       "      <td>0.026703</td>\n",
       "      <td>0.000226</td>\n",
       "      <td>77.84</td>\n",
       "      <td>18</td>\n",
       "      <td>38.92</td>\n",
       "      <td>38.92</td>\n",
       "      <td>9</td>\n",
       "      <td>9</td>\n",
       "      <td>0.000191</td>\n",
       "      <td>0.000254</td>\n",
       "      <td>0.000237</td>\n",
       "      <td>0.333333</td>\n",
       "      <td>8</td>\n",
       "    </tr>\n",
       "    <tr>\n",
       "      <th>1</th>\n",
       "      <td>Aarau</td>\n",
       "      <td>0.038112</td>\n",
       "      <td>0.000443</td>\n",
       "      <td>147.84</td>\n",
       "      <td>24</td>\n",
       "      <td>73.92</td>\n",
       "      <td>73.92</td>\n",
       "      <td>12</td>\n",
       "      <td>12</td>\n",
       "      <td>0.000373</td>\n",
       "      <td>0.000479</td>\n",
       "      <td>0.000420</td>\n",
       "      <td>0.333333</td>\n",
       "      <td>8</td>\n",
       "    </tr>\n",
       "    <tr>\n",
       "      <th>2</th>\n",
       "      <td>Aarhus</td>\n",
       "      <td>0.048434</td>\n",
       "      <td>0.002578</td>\n",
       "      <td>275.84</td>\n",
       "      <td>74</td>\n",
       "      <td>137.92</td>\n",
       "      <td>137.92</td>\n",
       "      <td>37</td>\n",
       "      <td>37</td>\n",
       "      <td>0.002221</td>\n",
       "      <td>0.002832</td>\n",
       "      <td>0.002567</td>\n",
       "      <td>0.333333</td>\n",
       "      <td>27</td>\n",
       "    </tr>\n",
       "    <tr>\n",
       "      <th>3</th>\n",
       "      <td>Aberdeen</td>\n",
       "      <td>0.026853</td>\n",
       "      <td>0.000022</td>\n",
       "      <td>96.84</td>\n",
       "      <td>33</td>\n",
       "      <td>46.92</td>\n",
       "      <td>49.92</td>\n",
       "      <td>15</td>\n",
       "      <td>18</td>\n",
       "      <td>0.000088</td>\n",
       "      <td>0.000028</td>\n",
       "      <td>0.000106</td>\n",
       "      <td>0.666667</td>\n",
       "      <td>20</td>\n",
       "    </tr>\n",
       "    <tr>\n",
       "      <th>4</th>\n",
       "      <td>Abidjan</td>\n",
       "      <td>0.027882</td>\n",
       "      <td>0.000093</td>\n",
       "      <td>89.84</td>\n",
       "      <td>36</td>\n",
       "      <td>44.92</td>\n",
       "      <td>44.92</td>\n",
       "      <td>18</td>\n",
       "      <td>18</td>\n",
       "      <td>0.000076</td>\n",
       "      <td>0.000108</td>\n",
       "      <td>0.000099</td>\n",
       "      <td>0.333333</td>\n",
       "      <td>24</td>\n",
       "    </tr>\n",
       "  </tbody>\n",
       "</table>\n",
       "</div>"
      ],
      "text/plain": [
       "      Label  PageRank  Eigenvector  Strength  Degree  StrengthIn  StrengthOut  \\\n",
       "0   Aalborg  0.026703     0.000226     77.84      18       38.92        38.92   \n",
       "1     Aarau  0.038112     0.000443    147.84      24       73.92        73.92   \n",
       "2    Aarhus  0.048434     0.002578    275.84      74      137.92       137.92   \n",
       "3  Aberdeen  0.026853     0.000022     96.84      33       46.92        49.92   \n",
       "4   Abidjan  0.027882     0.000093     89.84      36       44.92        44.92   \n",
       "\n",
       "   DegreeIn  DegreeOut       Hub  Authority      Katz  Multiplexity  Kcore  \n",
       "0         9          9  0.000191   0.000254  0.000237      0.333333      8  \n",
       "1        12         12  0.000373   0.000479  0.000420      0.333333      8  \n",
       "2        37         37  0.002221   0.002832  0.002567      0.333333     27  \n",
       "3        15         18  0.000088   0.000028  0.000106      0.666667     20  \n",
       "4        18         18  0.000076   0.000108  0.000099      0.333333     24  "
      ]
     },
     "execution_count": 6,
     "metadata": {},
     "output_type": "execute_result"
    }
   ],
   "source": [
    "df_directed.head()"
   ]
  },
  {
   "cell_type": "code",
   "execution_count": 7,
   "metadata": {
    "collapsed": true
   },
   "outputs": [],
   "source": [
    "'''\n",
    "df_directed['Multiplexity'], df_directed['Kcore'] = df_directed['Kcore'], df_directed['Multiplexity']\n",
    "df_directed.rename(columns={'Multiplexity':'Kcore', 'Kcore':'Multiplexity'}, inplace=True)\n",
    "df_directed.head()\n",
    "''';"
   ]
  },
  {
   "cell_type": "code",
   "execution_count": 8,
   "metadata": {
    "collapsed": true
   },
   "outputs": [],
   "source": [
    "'''\n",
    "df_directed['Strength'], df_directed['StrengthIn'], df_directed['PageRank'], df_directed['Eigenvector'], \\\n",
    "df_directed['Degree'], df_directed['StrengthOut'] = \\\n",
    "df_directed['PageRank'], df_directed['Eigenvector'], df_directed['Strength'], df_directed['StrengthIn'], \\\n",
    "df_directed['StrengthOut'], df_directed['Degree']\n",
    "\n",
    "df_directed.rename(columns={'Strength':'PageRank', 'StrengthIn':'Eigenvector', 'PageRank':'Strength', \\\n",
    "                           'Eigenvector':'StrengthIn', 'Degree':'StrengthOut', 'StrengthOut':'Degree'}, inplace=True)\n",
    "df_directed.head()\n",
    "''';"
   ]
  },
  {
   "cell_type": "code",
   "execution_count": 9,
   "metadata": {
    "collapsed": true
   },
   "outputs": [],
   "source": [
    "'''\n",
    "df_directed['Strength'], df_directed['DegreeIn'], df_directed['DegreeOut'], df_directed['StrengthOut'] = \\\n",
    "df_directed['StrengthOut'], df_directed['DegreeOut'], df_directed['DegreeIn'], df_directed['Strength']\n",
    "\n",
    "df_directed.rename(columns={'Strength':'StrengthOut', 'DegreeIn':'DegreeOut', 'DegreeOut':'DegreeIn', \\\n",
    "                           'SrengthOut':'Strength'}, inplace=True)\n",
    "\n",
    "df_directed.head()\n",
    "''';"
   ]
  },
  {
   "cell_type": "code",
   "execution_count": 10,
   "metadata": {
    "collapsed": true
   },
   "outputs": [],
   "source": [
    "# Delete StrengthIn, StrengthOut, DegreeIn, DegreeOut\n",
    "# It is basically just telling the redundant information of total strength and degree\n",
    "#df_directed.drop(labels=['StrengthIn', 'StrengthOut', 'DegreeIn', 'DegreeOut'], axis = 1, inplace=True)\n",
    "#df_directed.head()"
   ]
  },
  {
   "cell_type": "code",
   "execution_count": 11,
   "metadata": {
    "collapsed": true
   },
   "outputs": [],
   "source": [
    "df_directed['Multiplexity'] = df_directed['Multiplexity'].round(2)"
   ]
  },
  {
   "cell_type": "code",
   "execution_count": 12,
   "metadata": {
    "collapsed": true
   },
   "outputs": [],
   "source": [
    "# split data table into data X and class labels y\n",
    "\n",
    "X = df_directed.iloc[:,1:13].values\n",
    "y = df_directed.iloc[:,13].values"
   ]
  },
  {
   "cell_type": "code",
   "execution_count": 13,
   "metadata": {
    "collapsed": true
   },
   "outputs": [],
   "source": [
    "y_columns = list(df_directed.iloc[:,1:13].columns)"
   ]
  },
  {
   "cell_type": "code",
   "execution_count": 14,
   "metadata": {},
   "outputs": [
    {
     "data": {
      "text/html": [
       "<div>\n",
       "<style scoped>\n",
       "    .dataframe tbody tr th:only-of-type {\n",
       "        vertical-align: middle;\n",
       "    }\n",
       "\n",
       "    .dataframe tbody tr th {\n",
       "        vertical-align: top;\n",
       "    }\n",
       "\n",
       "    .dataframe thead th {\n",
       "        text-align: right;\n",
       "    }\n",
       "</style>\n",
       "<table border=\"1\" class=\"dataframe\">\n",
       "  <thead>\n",
       "    <tr style=\"text-align: right;\">\n",
       "      <th></th>\n",
       "      <th>Label</th>\n",
       "      <th>PageRank</th>\n",
       "      <th>Eigenvector</th>\n",
       "      <th>Strength</th>\n",
       "      <th>Degree</th>\n",
       "      <th>StrengthIn</th>\n",
       "      <th>StrengthOut</th>\n",
       "      <th>DegreeIn</th>\n",
       "      <th>DegreeOut</th>\n",
       "      <th>Hub</th>\n",
       "      <th>Authority</th>\n",
       "      <th>Katz</th>\n",
       "      <th>Multiplexity</th>\n",
       "      <th>Kcore</th>\n",
       "    </tr>\n",
       "  </thead>\n",
       "  <tbody>\n",
       "    <tr>\n",
       "      <th>0</th>\n",
       "      <td>Aalborg</td>\n",
       "      <td>0.026703</td>\n",
       "      <td>0.000226</td>\n",
       "      <td>77.84</td>\n",
       "      <td>18</td>\n",
       "      <td>38.92</td>\n",
       "      <td>38.92</td>\n",
       "      <td>9</td>\n",
       "      <td>9</td>\n",
       "      <td>0.000191</td>\n",
       "      <td>0.000254</td>\n",
       "      <td>0.000237</td>\n",
       "      <td>0.33</td>\n",
       "      <td>8</td>\n",
       "    </tr>\n",
       "    <tr>\n",
       "      <th>1</th>\n",
       "      <td>Aarau</td>\n",
       "      <td>0.038112</td>\n",
       "      <td>0.000443</td>\n",
       "      <td>147.84</td>\n",
       "      <td>24</td>\n",
       "      <td>73.92</td>\n",
       "      <td>73.92</td>\n",
       "      <td>12</td>\n",
       "      <td>12</td>\n",
       "      <td>0.000373</td>\n",
       "      <td>0.000479</td>\n",
       "      <td>0.000420</td>\n",
       "      <td>0.33</td>\n",
       "      <td>8</td>\n",
       "    </tr>\n",
       "    <tr>\n",
       "      <th>2</th>\n",
       "      <td>Aarhus</td>\n",
       "      <td>0.048434</td>\n",
       "      <td>0.002578</td>\n",
       "      <td>275.84</td>\n",
       "      <td>74</td>\n",
       "      <td>137.92</td>\n",
       "      <td>137.92</td>\n",
       "      <td>37</td>\n",
       "      <td>37</td>\n",
       "      <td>0.002221</td>\n",
       "      <td>0.002832</td>\n",
       "      <td>0.002567</td>\n",
       "      <td>0.33</td>\n",
       "      <td>27</td>\n",
       "    </tr>\n",
       "    <tr>\n",
       "      <th>3</th>\n",
       "      <td>Aberdeen</td>\n",
       "      <td>0.026853</td>\n",
       "      <td>0.000022</td>\n",
       "      <td>96.84</td>\n",
       "      <td>33</td>\n",
       "      <td>46.92</td>\n",
       "      <td>49.92</td>\n",
       "      <td>15</td>\n",
       "      <td>18</td>\n",
       "      <td>0.000088</td>\n",
       "      <td>0.000028</td>\n",
       "      <td>0.000106</td>\n",
       "      <td>0.67</td>\n",
       "      <td>20</td>\n",
       "    </tr>\n",
       "    <tr>\n",
       "      <th>4</th>\n",
       "      <td>Abidjan</td>\n",
       "      <td>0.027882</td>\n",
       "      <td>0.000093</td>\n",
       "      <td>89.84</td>\n",
       "      <td>36</td>\n",
       "      <td>44.92</td>\n",
       "      <td>44.92</td>\n",
       "      <td>18</td>\n",
       "      <td>18</td>\n",
       "      <td>0.000076</td>\n",
       "      <td>0.000108</td>\n",
       "      <td>0.000099</td>\n",
       "      <td>0.33</td>\n",
       "      <td>24</td>\n",
       "    </tr>\n",
       "  </tbody>\n",
       "</table>\n",
       "</div>"
      ],
      "text/plain": [
       "      Label  PageRank  Eigenvector  Strength  Degree  StrengthIn  StrengthOut  \\\n",
       "0   Aalborg  0.026703     0.000226     77.84      18       38.92        38.92   \n",
       "1     Aarau  0.038112     0.000443    147.84      24       73.92        73.92   \n",
       "2    Aarhus  0.048434     0.002578    275.84      74      137.92       137.92   \n",
       "3  Aberdeen  0.026853     0.000022     96.84      33       46.92        49.92   \n",
       "4   Abidjan  0.027882     0.000093     89.84      36       44.92        44.92   \n",
       "\n",
       "   DegreeIn  DegreeOut       Hub  Authority      Katz  Multiplexity  Kcore  \n",
       "0         9          9  0.000191   0.000254  0.000237          0.33      8  \n",
       "1        12         12  0.000373   0.000479  0.000420          0.33      8  \n",
       "2        37         37  0.002221   0.002832  0.002567          0.33     27  \n",
       "3        15         18  0.000088   0.000028  0.000106          0.67     20  \n",
       "4        18         18  0.000076   0.000108  0.000099          0.33     24  "
      ]
     },
     "execution_count": 14,
     "metadata": {},
     "output_type": "execute_result"
    }
   ],
   "source": [
    "df_directed.head()"
   ]
  },
  {
   "cell_type": "markdown",
   "metadata": {},
   "source": [
    "# Exploratory Visualization"
   ]
  },
  {
   "cell_type": "code",
   "execution_count": 15,
   "metadata": {
    "collapsed": true
   },
   "outputs": [],
   "source": [
    "# To Do Later\n",
    "# https://plot.ly/ipython-notebooks/principal-component-analysis/"
   ]
  },
  {
   "cell_type": "markdown",
   "metadata": {},
   "source": [
    "# Standarizing"
   ]
  },
  {
   "cell_type": "code",
   "execution_count": 16,
   "metadata": {
    "collapsed": true
   },
   "outputs": [],
   "source": [
    "from sklearn.preprocessing import StandardScaler\n",
    "X_std = StandardScaler().fit_transform(X)"
   ]
  },
  {
   "cell_type": "markdown",
   "metadata": {},
   "source": [
    "# 1. Eigendecomposition -  Computing Eigenvectors and Eigenvalues"
   ]
  },
  {
   "cell_type": "code",
   "execution_count": 17,
   "metadata": {
    "collapsed": true
   },
   "outputs": [],
   "source": [
    "# Covariance Matrix"
   ]
  },
  {
   "cell_type": "code",
   "execution_count": 18,
   "metadata": {},
   "outputs": [
    {
     "name": "stdout",
     "output_type": "stream",
     "text": [
      "Covariance matrix \n",
      "[[1.0017452  0.63094513 0.9914969  0.84743919 0.99143376 0.99143351\n",
      "  0.84548576 0.84879688 0.69985914 0.55862446 0.63761706 0.3781178 ]\n",
      " [0.63094513 1.0017452  0.6731843  0.49886919 0.67337545 0.67290984\n",
      "  0.49580074 0.50156093 0.99004127 0.99404361 0.99826966 0.36843515]\n",
      " [0.9914969  0.6731843  1.0017452  0.84018387 1.00168056 1.00168199\n",
      "  0.83748502 0.84228174 0.73521004 0.60613509 0.67904781 0.41546028]\n",
      " [0.84743919 0.49886919 0.84018387 1.0017452  0.84135674 0.83891736\n",
      "  1.0014018  1.00141105 0.55496996 0.43521806 0.49995503 0.45383481]\n",
      " [0.99143376 0.67337545 1.00168056 0.84135674 1.0017452  1.00148951\n",
      "  0.83873375 0.843379   0.73455589 0.60661114 0.67864712 0.41696558]\n",
      " [0.99143351 0.67290984 1.00168199 0.83891736 1.00148951 1.0017452\n",
      "  0.83614384 0.84108974 0.73576363 0.6055874  0.67935788 0.41391893]\n",
      " [0.84548576 0.49580074 0.83748502 1.0014018  0.83873375 0.83614384\n",
      "  1.0017452  1.00039038 0.5517278  0.43242076 0.49691889 0.45190742]\n",
      " [0.84879688 0.50156093 0.84228174 1.00141105 0.843379   0.84108974\n",
      "  1.00039038 1.0017452  0.55779538 0.43768507 0.50261416 0.45543121]\n",
      " [0.69985914 0.99004127 0.73521004 0.55496996 0.73455589 0.73576363\n",
      "  0.5517278  0.55779538 1.0017452  0.96593088 0.99395374 0.35417113]\n",
      " [0.55862446 0.99404361 0.60613509 0.43521806 0.60661114 0.6055874\n",
      "  0.43242076 0.43768507 0.96593088 1.0017452  0.98944447 0.36695149]\n",
      " [0.63761706 0.99826966 0.67904781 0.49995503 0.67864712 0.67935788\n",
      "  0.49691889 0.50261416 0.99395374 0.98944447 1.0017452  0.35872638]\n",
      " [0.3781178  0.36843515 0.41546028 0.45383481 0.41696558 0.41391893\n",
      "  0.45190742 0.45543121 0.35417113 0.36695149 0.35872638 1.0017452 ]]\n"
     ]
    }
   ],
   "source": [
    "mean_vec = np.mean(X_std, axis=0)\n",
    "cov_mat = (X_std - mean_vec).T.dot((X_std - mean_vec)) / (X_std.shape[0]-1)\n",
    "print('Covariance matrix \\n%s' %cov_mat)"
   ]
  },
  {
   "cell_type": "code",
   "execution_count": 19,
   "metadata": {},
   "outputs": [
    {
     "name": "stdout",
     "output_type": "stream",
     "text": [
      "NumPy covariance matrix: \n",
      "[[1.0017452  0.63094513 0.9914969  0.84743919 0.99143376 0.99143351\n",
      "  0.84548576 0.84879688 0.69985914 0.55862446 0.63761706 0.3781178 ]\n",
      " [0.63094513 1.0017452  0.6731843  0.49886919 0.67337545 0.67290984\n",
      "  0.49580074 0.50156093 0.99004127 0.99404361 0.99826966 0.36843515]\n",
      " [0.9914969  0.6731843  1.0017452  0.84018387 1.00168056 1.00168199\n",
      "  0.83748502 0.84228174 0.73521004 0.60613509 0.67904781 0.41546028]\n",
      " [0.84743919 0.49886919 0.84018387 1.0017452  0.84135674 0.83891736\n",
      "  1.0014018  1.00141105 0.55496996 0.43521806 0.49995503 0.45383481]\n",
      " [0.99143376 0.67337545 1.00168056 0.84135674 1.0017452  1.00148951\n",
      "  0.83873375 0.843379   0.73455589 0.60661114 0.67864712 0.41696558]\n",
      " [0.99143351 0.67290984 1.00168199 0.83891736 1.00148951 1.0017452\n",
      "  0.83614384 0.84108974 0.73576363 0.6055874  0.67935788 0.41391893]\n",
      " [0.84548576 0.49580074 0.83748502 1.0014018  0.83873375 0.83614384\n",
      "  1.0017452  1.00039038 0.5517278  0.43242076 0.49691889 0.45190742]\n",
      " [0.84879688 0.50156093 0.84228174 1.00141105 0.843379   0.84108974\n",
      "  1.00039038 1.0017452  0.55779538 0.43768507 0.50261416 0.45543121]\n",
      " [0.69985914 0.99004127 0.73521004 0.55496996 0.73455589 0.73576363\n",
      "  0.5517278  0.55779538 1.0017452  0.96593088 0.99395374 0.35417113]\n",
      " [0.55862446 0.99404361 0.60613509 0.43521806 0.60661114 0.6055874\n",
      "  0.43242076 0.43768507 0.96593088 1.0017452  0.98944447 0.36695149]\n",
      " [0.63761706 0.99826966 0.67904781 0.49995503 0.67864712 0.67935788\n",
      "  0.49691889 0.50261416 0.99395374 0.98944447 1.0017452  0.35872638]\n",
      " [0.3781178  0.36843515 0.41546028 0.45383481 0.41696558 0.41391893\n",
      "  0.45190742 0.45543121 0.35417113 0.36695149 0.35872638 1.0017452 ]]\n"
     ]
    }
   ],
   "source": [
    "# Pake function numpy untuk covariance\n",
    "print('NumPy covariance matrix: \\n%s' %np.cov(X_std.T))"
   ]
  },
  {
   "cell_type": "code",
   "execution_count": 20,
   "metadata": {},
   "outputs": [
    {
     "name": "stdout",
     "output_type": "stream",
     "text": [
      "Eigenvectors \n",
      "[[-3.14847671e-01 -1.59211734e-01 -1.87941815e-01  3.08489451e-01\n",
      "   2.49214314e-01 -8.23050617e-01 -3.98156068e-02  6.23516157e-02\n",
      "   3.25358835e-03 -5.56912875e-03  8.94481289e-14  1.56431131e-13]\n",
      " [-2.77494488e-01  4.04446689e-01  9.17775008e-03 -1.11541457e-01\n",
      "  -9.41883620e-02 -7.52573312e-02  6.47491469e-01 -4.17663555e-02\n",
      "  -9.75923140e-03 -5.57919323e-01  8.90466804e-12  1.27883159e-11]\n",
      " [-3.20791460e-01 -1.22824919e-01 -1.47885323e-01  3.26903967e-01\n",
      "  -1.37863310e-01  2.59099437e-01  6.81930420e-03 -2.11665400e-02\n",
      "   2.36695532e-03  5.08153847e-04  7.47008054e-01 -2.56589994e-01]\n",
      " [-2.92727157e-01 -3.03983680e-01  4.96351831e-02 -3.90771663e-01\n",
      "  -7.95520886e-03  1.11584866e-02 -2.56983423e-03  6.08739095e-03\n",
      "   9.21550223e-04  5.55819295e-04 -3.29529878e-01 -7.75035443e-01]\n",
      " [-3.20913456e-01 -1.23452721e-01 -1.45778305e-01  3.24487233e-01\n",
      "  -1.76058175e-01  2.32380880e-01  9.26656662e-02 -1.02971037e-01\n",
      "  -6.85355665e-01  1.28466136e-01 -3.71447269e-01  1.27588521e-01]\n",
      " [-3.20630101e-01 -1.22188483e-01 -1.49950230e-01  3.29252438e-01\n",
      "  -1.00074091e-01  2.85489109e-01 -7.80768725e-02  5.97343702e-02\n",
      "   6.82470325e-01 -1.26032307e-01 -3.75608456e-01  1.29017848e-01]\n",
      " [-2.91910866e-01 -3.05618504e-01  4.92762297e-02 -3.95746542e-01\n",
      "  -1.37946939e-02 -4.18469991e-02 -7.12728487e-02 -6.96346916e-01\n",
      "   7.44126133e-02 -2.03446088e-02  1.63695491e-01  3.85002441e-01]\n",
      " [-2.93335746e-01 -3.02166832e-01  4.99559275e-02 -3.85601756e-01\n",
      "  -2.18956841e-03  6.34376777e-02  6.52032356e-02  6.98992007e-01\n",
      "  -7.15735310e-02  2.11724466e-02  1.65945857e-01  3.90295173e-01]\n",
      " [-2.91076598e-01  3.53000736e-01 -5.00777135e-02 -7.15375799e-02\n",
      "   6.70693701e-01  2.14976520e-01  1.88848527e-01 -4.77005683e-02\n",
      "   7.52658346e-02  4.93346217e-01 -8.49015512e-12 -1.09297052e-11]\n",
      " [-2.60155911e-01  4.47278397e-01  5.15310461e-02 -1.38344952e-01\n",
      "  -6.24156504e-01 -2.34871353e-01 -1.08400528e-01  3.09041783e-02\n",
      "   1.17850353e-01  4.89015154e-01 -8.68709925e-12 -1.05791567e-11]\n",
      " [-2.78288081e-01  4.02149861e-01 -7.39099774e-03 -1.01745241e-01\n",
      "   1.61119328e-01  8.16950901e-02 -7.12521949e-01  5.46763534e-02\n",
      "  -1.84921083e-01 -4.15834280e-01  8.14378662e-12  8.51341743e-12]\n",
      " [-1.68444480e-01 -4.80874479e-02  9.41478594e-01  2.81445995e-01\n",
      "   5.81720505e-02 -1.82490115e-02 -4.85288025e-04 -1.66432218e-03\n",
      "  -3.50372701e-04  3.48291064e-04 -4.45038718e-15 -9.46763410e-15]]\n",
      "\n",
      "Eigenvalues \n",
      "[ 8.82529985e+00  1.92799295e+00  8.04282328e-01  4.28087035e-01\n",
      "  1.98654599e-02  1.12765130e-02  2.74929320e-03  1.25470184e-03\n",
      "  1.19206956e-04  1.50769103e-05 -2.93188447e-16  3.18079793e-16]\n"
     ]
    }
   ],
   "source": [
    "# Eigendecomposition of covariance matrix\n",
    "cov_mat = np.cov(X_std.T)\n",
    "\n",
    "eig_vals, eig_vecs = np.linalg.eig(cov_mat)\n",
    "\n",
    "print('Eigenvectors \\n%s' %eig_vecs)\n",
    "print('\\nEigenvalues \\n%s' %eig_vals)"
   ]
  },
  {
   "cell_type": "code",
   "execution_count": 21,
   "metadata": {},
   "outputs": [
    {
     "name": "stdout",
     "output_type": "stream",
     "text": [
      "Eigenvectors \n",
      "[[-3.14847671e-01 -1.59211734e-01 -1.87941815e-01  3.08489451e-01\n",
      "   2.49214314e-01 -8.23050617e-01 -3.98156068e-02  6.23516157e-02\n",
      "   3.25358835e-03 -5.56912875e-03 -1.37449981e-13  3.37345887e-14]\n",
      " [-2.77494488e-01  4.04446689e-01  9.17775008e-03 -1.11541457e-01\n",
      "  -9.41883620e-02 -7.52573312e-02  6.47491469e-01 -4.17663555e-02\n",
      "  -9.75923140e-03 -5.57919323e-01 -1.04341469e-11  3.46125603e-12]\n",
      " [-3.20791460e-01 -1.22824919e-01 -1.47885323e-01  3.26903967e-01\n",
      "  -1.37863310e-01  2.59099437e-01  6.81930420e-03 -2.11665400e-02\n",
      "   2.36695532e-03  5.08153859e-04  2.80346761e-01  7.83979935e-01]\n",
      " [-2.92727157e-01 -3.03983680e-01  4.96351831e-02 -3.90771663e-01\n",
      "  -7.95520886e-03  1.11584866e-02 -2.56983423e-03  6.08739095e-03\n",
      "   9.21550223e-04  5.55819274e-04  7.66763625e-01 -2.28028694e-01]\n",
      " [-3.20913456e-01 -1.23452721e-01 -1.45778305e-01  3.24487233e-01\n",
      "  -1.76058175e-01  2.32380880e-01  9.26656662e-02 -1.02971037e-01\n",
      "  -6.85355665e-01  1.28466136e-01 -1.39401494e-01 -3.89831414e-01]\n",
      " [-3.20630101e-01 -1.22188483e-01 -1.49950230e-01  3.29252438e-01\n",
      "  -1.00074091e-01  2.85489109e-01 -7.80768725e-02  5.97343702e-02\n",
      "   6.82470325e-01 -1.26032307e-01 -1.40963158e-01 -3.94198551e-01]\n",
      " [-2.91910866e-01 -3.05618504e-01  4.92762297e-02 -3.95746542e-01\n",
      "  -1.37946939e-02 -4.18469991e-02 -7.12728487e-02 -6.96346916e-01\n",
      "   7.44126133e-02 -2.03446088e-02 -3.80893377e-01  1.13274309e-01]\n",
      " [-2.93335746e-01 -3.02166832e-01  4.99559275e-02 -3.85601756e-01\n",
      "  -2.18956841e-03  6.34376777e-02  6.52032356e-02  6.98992007e-01\n",
      "  -7.15735310e-02  2.11724466e-02 -3.86129621e-01  1.14831521e-01]\n",
      " [-2.91076598e-01  3.53000736e-01 -5.00777135e-02 -7.15375799e-02\n",
      "   6.70693701e-01  2.14976520e-01  1.88848527e-01 -4.77005683e-02\n",
      "   7.52658346e-02  4.93346217e-01  8.78378858e-12 -3.85752529e-12]\n",
      " [-2.60155911e-01  4.47278397e-01  5.15310461e-02 -1.38344952e-01\n",
      "  -6.24156504e-01 -2.34871353e-01 -1.08400528e-01  3.09041783e-02\n",
      "   1.17850353e-01  4.89015154e-01  8.39597147e-12 -4.19927695e-12]\n",
      " [-2.78288081e-01  4.02149861e-01 -7.39099774e-03 -1.01745241e-01\n",
      "   1.61119328e-01  8.16950901e-02 -7.12521949e-01  5.46763534e-02\n",
      "  -1.84921083e-01 -4.15834280e-01 -6.57224084e-12  4.55506056e-12]\n",
      " [-1.68444480e-01 -4.80874479e-02  9.41478594e-01  2.81445995e-01\n",
      "   5.81720505e-02 -1.82490115e-02 -4.85288025e-04 -1.66432218e-03\n",
      "  -3.50372701e-04  3.48291064e-04  8.09918109e-15 -3.80598745e-16]]\n",
      "\n",
      "Eigenvalues \n",
      "[ 8.80992476e+00  1.92463407e+00  8.02881140e-01  4.27341239e-01\n",
      "  1.98308511e-02  1.12568675e-02  2.74450350e-03  1.25251595e-03\n",
      "  1.18999278e-04  1.50506439e-05  2.36257943e-16 -3.37717165e-16]\n"
     ]
    }
   ],
   "source": [
    "# Correlation matrix\n",
    "cor_mat1 = np.corrcoef(X_std.T)\n",
    "\n",
    "eig_vals, eig_vecs = np.linalg.eig(cor_mat1)\n",
    "\n",
    "print('Eigenvectors \\n%s' %eig_vecs)\n",
    "print('\\nEigenvalues \\n%s' %eig_vals)"
   ]
  },
  {
   "cell_type": "code",
   "execution_count": 22,
   "metadata": {},
   "outputs": [
    {
     "name": "stdout",
     "output_type": "stream",
     "text": [
      "Eigenvectors \n",
      "[[-3.14847671e-01 -1.59211734e-01 -1.87941815e-01  3.08489451e-01\n",
      "   2.49214314e-01 -8.23050617e-01 -3.98156068e-02  6.23516157e-02\n",
      "   3.25358835e-03 -5.56912875e-03  5.77947981e-14  8.71049541e-14]\n",
      " [-2.77494488e-01  4.04446689e-01  9.17775008e-03 -1.11541457e-01\n",
      "  -9.41883620e-02 -7.52573312e-02  6.47491469e-01 -4.17663555e-02\n",
      "  -9.75923140e-03 -5.57919323e-01  5.69028550e-12  9.35306947e-12]\n",
      " [-3.20791460e-01 -1.22824919e-01 -1.47885323e-01  3.26903967e-01\n",
      "  -1.37863310e-01  2.59099437e-01  6.81930420e-03 -2.11665400e-02\n",
      "   2.36695531e-03  5.08153866e-04  8.16407217e-01 -3.17917263e-01]\n",
      " [-2.92727157e-01 -3.03983680e-01  4.96351831e-02 -3.90771663e-01\n",
      "  -7.95520886e-03  1.11584866e-02 -2.56983423e-03  6.08739095e-03\n",
      "   9.21550223e-04  5.55819300e-04 -1.05188174e-02 -7.51966493e-01]\n",
      " [-3.20913456e-01 -1.23452721e-01 -1.45778305e-01  3.24487233e-01\n",
      "  -1.76058175e-01  2.32380880e-01  9.26656662e-02 -1.02971037e-01\n",
      "  -6.85355665e-01  1.28466136e-01 -4.05955772e-01  1.58083301e-01]\n",
      " [-3.20630101e-01 -1.22188483e-01 -1.49950230e-01  3.29252438e-01\n",
      "  -1.00074091e-01  2.85489109e-01 -7.80768725e-02  5.97343702e-02\n",
      "   6.82470325e-01 -1.26032307e-01 -4.10503544e-01  1.59854250e-01]\n",
      " [-2.91910866e-01 -3.05618504e-01  4.92762297e-02 -3.95746542e-01\n",
      "  -1.37946939e-02 -4.18469991e-02 -7.12728487e-02 -6.96346916e-01\n",
      "   7.44126133e-02 -2.03446088e-02  5.22527120e-03  3.73542833e-01]\n",
      " [-2.93335746e-01 -3.02166832e-01  4.99559275e-02 -3.85601756e-01\n",
      "  -2.18956841e-03  6.34376777e-02  6.52032356e-02  6.98992007e-01\n",
      "  -7.15735310e-02  2.11724466e-02  5.29710440e-03  3.78678027e-01]\n",
      " [-2.91076598e-01  3.53000736e-01 -5.00777135e-02 -7.15375799e-02\n",
      "   6.70693701e-01  2.14976520e-01  1.88848527e-01 -4.77005683e-02\n",
      "   7.52658346e-02  4.93346217e-01 -4.97094882e-12 -8.15481773e-12]\n",
      " [-2.60155911e-01  4.47278397e-01  5.15310461e-02 -1.38344952e-01\n",
      "  -6.24156504e-01 -2.34871353e-01 -1.08400528e-01  3.09041783e-02\n",
      "   1.17850353e-01  4.89015154e-01 -4.90981149e-12 -8.02466019e-12]\n",
      " [-2.78288081e-01  4.02149861e-01 -7.39099774e-03 -1.01745241e-01\n",
      "   1.61119328e-01  8.16950901e-02 -7.12521949e-01  5.46763534e-02\n",
      "  -1.84921083e-01 -4.15834280e-01  4.10240705e-12  6.67960098e-12]\n",
      " [-1.68444480e-01 -4.80874479e-02  9.41478594e-01  2.81445995e-01\n",
      "   5.81720505e-02 -1.82490115e-02 -4.85288025e-04 -1.66432218e-03\n",
      "  -3.50372701e-04  3.48291064e-04 -3.89880795e-15 -6.53229532e-15]]\n",
      "\n",
      "Eigenvalues \n",
      "[8.80992476e+00 1.92463407e+00 8.02881140e-01 4.27341239e-01\n",
      " 1.98308511e-02 1.12568675e-02 2.74450350e-03 1.25251595e-03\n",
      " 1.18999278e-04 1.50506439e-05 1.04279591e-16 3.09942309e-16]\n"
     ]
    }
   ],
   "source": [
    "cor_mat2 = np.corrcoef(X.T)\n",
    "\n",
    "eig_vals, eig_vecs = np.linalg.eig(cor_mat2)\n",
    "\n",
    "print('Eigenvectors \\n%s' %eig_vecs)\n",
    "print('\\nEigenvalues \\n%s' %eig_vals)"
   ]
  },
  {
   "cell_type": "code",
   "execution_count": 23,
   "metadata": {},
   "outputs": [
    {
     "data": {
      "text/plain": [
       "array([[-3.14847671e-01,  1.59211734e-01, -1.87941815e-01,\n",
       "         3.08489451e-01,  2.49214314e-01,  8.23050617e-01,\n",
       "         3.98156068e-02, -6.23516157e-02,  3.25358835e-03,\n",
       "         5.56912875e-03, -5.36880929e-16, -3.39082692e-16],\n",
       "       [-2.77494488e-01, -4.04446689e-01,  9.17775008e-03,\n",
       "        -1.11541457e-01, -9.41883620e-02,  7.52573312e-02,\n",
       "        -6.47491469e-01,  4.17663555e-02, -9.75923140e-03,\n",
       "         5.57919323e-01, -1.95086389e-16, -2.98631632e-16],\n",
       "       [-3.20791460e-01,  1.22824919e-01, -1.47885323e-01,\n",
       "         3.26903967e-01, -1.37863310e-01, -2.59099437e-01,\n",
       "        -6.81930420e-03,  2.11665400e-02,  2.36695531e-03,\n",
       "        -5.08153858e-04, -2.43968520e-01, -7.79173133e-01],\n",
       "       [-2.92727157e-01,  3.03983680e-01,  4.96351831e-02,\n",
       "        -3.90771663e-01, -7.95520886e-03, -1.11584866e-02,\n",
       "         2.56983423e-03, -6.08739095e-03,  9.21550221e-04,\n",
       "        -5.55819293e-04, -7.79099824e-01,  2.43945566e-01],\n",
       "       [-3.20913456e-01,  1.23452721e-01, -1.45778305e-01,\n",
       "         3.24487233e-01, -1.76058175e-01, -2.32380880e-01,\n",
       "        -9.26656662e-02,  1.02971037e-01, -6.85355665e-01,\n",
       "        -1.28466136e-01,  1.21312535e-01,  3.87441247e-01],\n",
       "       [-3.20630101e-01,  1.22188483e-01, -1.49950230e-01,\n",
       "         3.29252438e-01, -1.00074091e-01, -2.85489109e-01,\n",
       "         7.80768725e-02, -5.97343702e-02,  6.82470325e-01,\n",
       "         1.26032307e-01,  1.22671554e-01,  3.91781609e-01],\n",
       "       [-2.91910866e-01,  3.05618504e-01,  4.92762297e-02,\n",
       "        -3.95746542e-01, -1.37946939e-02,  4.18469991e-02,\n",
       "         7.12728487e-02,  6.96346916e-01,  7.44126133e-02,\n",
       "         2.03446088e-02,  3.87021441e-01, -1.21181088e-01],\n",
       "       [-2.93335746e-01,  3.02166832e-01,  4.99559275e-02,\n",
       "        -3.85601756e-01, -2.18956841e-03, -6.34376777e-02,\n",
       "        -6.52032356e-02, -6.98992007e-01, -7.15735310e-02,\n",
       "        -2.11724466e-02,  3.92341929e-01, -1.22846997e-01],\n",
       "       [-2.91076598e-01, -3.53000736e-01, -5.00777135e-02,\n",
       "        -7.15375799e-02,  6.70693701e-01, -2.14976520e-01,\n",
       "        -1.88848527e-01,  4.77005683e-02,  7.52658346e-02,\n",
       "        -4.93346217e-01,  1.05144875e-16, -8.93465216e-17],\n",
       "       [-2.60155911e-01, -4.47278397e-01,  5.15310461e-02,\n",
       "        -1.38344952e-01, -6.24156504e-01,  2.34871353e-01,\n",
       "         1.08400528e-01, -3.09041783e-02,  1.17850353e-01,\n",
       "        -4.89015154e-01, -1.93772332e-17,  2.71577572e-16],\n",
       "       [-2.78288081e-01, -4.02149861e-01, -7.39099774e-03,\n",
       "        -1.01745241e-01,  1.61119328e-01, -8.16950901e-02,\n",
       "         7.12521949e-01, -5.46763534e-02, -1.84921083e-01,\n",
       "         4.15834280e-01, -2.10312753e-18, -1.87687603e-16],\n",
       "       [-1.68444480e-01,  4.80874479e-02,  9.41478594e-01,\n",
       "         2.81445995e-01,  5.81720505e-02,  1.82490115e-02,\n",
       "         4.85288025e-04,  1.66432218e-03, -3.50372701e-04,\n",
       "        -3.48291064e-04,  9.66092917e-17,  3.40320029e-17]])"
      ]
     },
     "execution_count": 23,
     "metadata": {},
     "output_type": "execute_result"
    }
   ],
   "source": [
    "# Singular vector decomposition for computation efficiency\n",
    "u,s,v = np.linalg.svd(X_std.T)\n",
    "u"
   ]
  },
  {
   "cell_type": "code",
   "execution_count": 24,
   "metadata": {},
   "outputs": [
    {
     "data": {
      "text/plain": [
       "array([7.11118613e+01, 3.32376286e+01, 2.14675051e+01, 1.56618604e+01,\n",
       "       3.37385663e+00, 2.54193666e+00, 1.25512749e+00, 8.47905747e-01,\n",
       "       2.61353373e-01, 9.29465953e-02, 5.06207059e-15, 1.76576604e-15])"
      ]
     },
     "execution_count": 24,
     "metadata": {},
     "output_type": "execute_result"
    }
   ],
   "source": [
    "s"
   ]
  },
  {
   "cell_type": "markdown",
   "metadata": {},
   "source": [
    "# 2. Selecting Principal Components"
   ]
  },
  {
   "cell_type": "code",
   "execution_count": 25,
   "metadata": {
    "collapsed": true
   },
   "outputs": [],
   "source": [
    "#for ev in eig_vecs:\n",
    "#    np.testing.assert_array_almost_equal(1.0, np.linalg.norm(ev), decimal=2)\n",
    "#print('Everything ok!')"
   ]
  },
  {
   "cell_type": "code",
   "execution_count": 26,
   "metadata": {},
   "outputs": [
    {
     "name": "stdout",
     "output_type": "stream",
     "text": [
      "Eigenvalues in descending order:\n",
      "8.809924760029372\n",
      "1.924634073323948\n",
      "0.8028811396401769\n",
      "0.42734123900080023\n",
      "0.019830851104257786\n",
      "0.01125686753172698\n",
      "0.0027445034951231514\n",
      "0.0012525159523048368\n",
      "0.00011899927840808408\n",
      "1.5050643879849411e-05\n",
      "1.0427959077882732e-16\n",
      "3.099423090237559e-16\n"
     ]
    }
   ],
   "source": [
    "# Make a list of (eigenvalue, eigenvector) tuples\n",
    "eig_pairs = [(np.abs(eig_vals[i]), eig_vecs[:,i]) for i in range(len(eig_vals))]\n",
    "\n",
    "# Sort the (eigenvalue, eigenvector) tuples from high to low\n",
    "#eig_pairs.sort()\n",
    "#eig_pairs.reverse()\n",
    "\n",
    "# Visually confirm that the list is correctly sorted by decreasing eigenvalues\n",
    "print('Eigenvalues in descending order:')\n",
    "for i in eig_pairs:\n",
    "    print(i[0])"
   ]
  },
  {
   "cell_type": "code",
   "execution_count": 27,
   "metadata": {
    "collapsed": true
   },
   "outputs": [],
   "source": [
    "# Check top 5 K-Core value\n",
    "top_kcore = df_directed.groupby(by='Kcore').count()['Label'].sort_values(ascending=False).head(5)"
   ]
  },
  {
   "cell_type": "code",
   "execution_count": 28,
   "metadata": {},
   "outputs": [
    {
     "data": {
      "text/plain": [
       "Kcore\n",
       "4     116\n",
       "6      82\n",
       "8      63\n",
       "10     34\n",
       "38     34\n",
       "Name: Label, dtype: int64"
      ]
     },
     "execution_count": 28,
     "metadata": {},
     "output_type": "execute_result"
    }
   ],
   "source": [
    "top_kcore"
   ]
  },
  {
   "cell_type": "code",
   "execution_count": 29,
   "metadata": {},
   "outputs": [
    {
     "data": {
      "text/plain": [
       "{3,\n",
       " 4,\n",
       " 5,\n",
       " 6,\n",
       " 7,\n",
       " 8,\n",
       " 9,\n",
       " 10,\n",
       " 11,\n",
       " 12,\n",
       " 13,\n",
       " 14,\n",
       " 16,\n",
       " 17,\n",
       " 18,\n",
       " 20,\n",
       " 22,\n",
       " 23,\n",
       " 24,\n",
       " 26,\n",
       " 27,\n",
       " 28,\n",
       " 30,\n",
       " 31,\n",
       " 32,\n",
       " 34,\n",
       " 35,\n",
       " 36,\n",
       " 38,\n",
       " 40}"
      ]
     },
     "execution_count": 29,
     "metadata": {},
     "output_type": "execute_result"
    }
   ],
   "source": [
    "set(df_directed['Kcore'])"
   ]
  },
  {
   "cell_type": "code",
   "execution_count": 30,
   "metadata": {
    "collapsed": true
   },
   "outputs": [],
   "source": [
    "top_kcore_index = tuple(list(top_kcore.index))"
   ]
  },
  {
   "cell_type": "code",
   "execution_count": 31,
   "metadata": {
    "collapsed": true
   },
   "outputs": [],
   "source": [
    "'''\n",
    "colors_top_kcore = {2: '#0D76BF', \n",
    "          4: '#1b4ee7', \n",
    "          6: '#39da2b',\n",
    "          8: '#050505',\n",
    "          36: '#c90dfd',\n",
    "          12: '#c90dfd',\n",
    "          10: '#c90dfd',\n",
    "          18: '#c90dfd',\n",
    "          16: '#c90dfd',\n",
    "          22: '#c90dfd'}\n",
    "'''\n",
    "\n",
    "colors_top_kcore = {34: '#fe0000', \n",
    "          35: '#03dac5', \n",
    "          36: '#0bff01',\n",
    "          38: '#011efe',\n",
    "          40: '#fe00f6'}"
   ]
  },
  {
   "cell_type": "code",
   "execution_count": 32,
   "metadata": {},
   "outputs": [
    {
     "name": "stderr",
     "output_type": "stream",
     "text": [
      "/Users/andreas.yunus/anaconda/envs/py36/lib/python3.6/site-packages/plotly/offline/offline.py:459: UserWarning:\n",
      "\n",
      "Your filename `selecting-principal-components` didn't end with .html. Adding .html to the end of your file.\n",
      "\n"
     ]
    },
    {
     "data": {
      "text/plain": [
       "'file:///Users/andreas.yunus/Desktop/Graduation/selecting-principal-components.html'"
      ]
     },
     "execution_count": 32,
     "metadata": {},
     "output_type": "execute_result"
    }
   ],
   "source": [
    "tot = sum(eig_vals)\n",
    "var_exp = [(i / tot)*100 for i in eig_vals]\n",
    "cum_var_exp = np.cumsum(var_exp)\n",
    "\n",
    "trace1 = dict(\n",
    "    type='bar',\n",
    "    x=['PC %s' %i for i in range(1,13)],\n",
    "    #x=['PC-%s' %i for i in y_columns],\n",
    "    y=np.real(var_exp),\n",
    "    name='Individual'\n",
    ")\n",
    "\n",
    "trace2 = dict(\n",
    "    type='scatter',\n",
    "    x=['PC %s' %i for i in range(1,13)],\n",
    "    #x=['PC-%s' %i for i in y_columns],\n",
    "    y=np.real(cum_var_exp),\n",
    "    name='Cumulative'\n",
    ")\n",
    "\n",
    "data = [trace1, trace2]\n",
    "\n",
    "layout=dict(\n",
    "    title='Explained variance by different principal components',\n",
    "    yaxis=dict(\n",
    "        title='Explained variance in percent'\n",
    "    ),\n",
    "    annotations=list([\n",
    "        dict(\n",
    "            x=1.16,\n",
    "            y=1.05,\n",
    "            xref='paper',\n",
    "            yref='paper',\n",
    "            text='Explained Variance',\n",
    "            showarrow=False,\n",
    "        )\n",
    "    ])\n",
    ")\n",
    "\n",
    "fig = dict(data=data, layout=layout)\n",
    "plotly.offline.plot(fig, filename='selecting-principal-components')"
   ]
  },
  {
   "cell_type": "code",
   "execution_count": 33,
   "metadata": {
    "collapsed": true
   },
   "outputs": [],
   "source": [
    "'''\n",
    "matrix_w = np.hstack((eig_pairs[0][1].reshape(8,1), \n",
    "                      eig_pairs[1][1].reshape(8,1)))\n",
    "\n",
    "print('Matrix W:\\n', matrix_w)\n",
    "''';"
   ]
  },
  {
   "cell_type": "code",
   "execution_count": 34,
   "metadata": {
    "collapsed": true
   },
   "outputs": [],
   "source": [
    "# Projection into a new space\n",
    "# Unused - replaced by Scikit learn algorithm\n",
    "'''\n",
    "Y = X_std.dot(matrix_w)\n",
    "\n",
    "data = []\n",
    "\n",
    "for name, col in zip((0.33, 0.67, 1.00), colors.values()):\n",
    "    trace = dict(\n",
    "        type='scatter',\n",
    "        x=Y[y==name,0],\n",
    "        y=Y[y==name,1],\n",
    "        mode='markers',\n",
    "        name=name,\n",
    "        marker=dict(\n",
    "            color=col,\n",
    "            size=12,\n",
    "            line=dict(\n",
    "                color='rgba(217, 217, 217, 0.14)',\n",
    "                width=0.5),\n",
    "            opacity=0.8)\n",
    "    )\n",
    "    data.append(trace)\n",
    "\n",
    "layout = dict(\n",
    "    showlegend=True,\n",
    "    scene=dict(\n",
    "        xaxis=dict(title='PC1'),\n",
    "        yaxis=dict(title='PC2')\n",
    "    )\n",
    ")\n",
    "\n",
    "fig = dict(data=data, layout=layout)\n",
    "plotly.offline.plot(fig, filename='projection-matrix')\n",
    "''';"
   ]
  },
  {
   "cell_type": "markdown",
   "metadata": {},
   "source": [
    "# Top K-Core"
   ]
  },
  {
   "cell_type": "code",
   "execution_count": 35,
   "metadata": {
    "collapsed": true
   },
   "outputs": [],
   "source": [
    "# SK Learn Implementation"
   ]
  },
  {
   "cell_type": "code",
   "execution_count": 36,
   "metadata": {
    "collapsed": true
   },
   "outputs": [],
   "source": [
    "from sklearn.decomposition import PCA as sklearnPCA\n",
    "sklearn_pca = sklearnPCA(n_components=2)\n",
    "Y_sklearn = sklearn_pca.fit_transform(X_std)"
   ]
  },
  {
   "cell_type": "code",
   "execution_count": 37,
   "metadata": {},
   "outputs": [
    {
     "data": {
      "text/plain": [
       "array([[-0.24140361, -0.23878245, -0.24721651, ..., -0.25669659,\n",
       "        -0.2369847 , -0.45066581],\n",
       "       [-0.02383609, -0.2355591 , -0.08309716, ..., -0.25378138,\n",
       "        -0.23417581, -0.45066581],\n",
       "       [ 0.17302043, -0.2039261 ,  0.21700679, ..., -0.22334203,\n",
       "        -0.20122136, -0.45066581],\n",
       "       ...,\n",
       "       [ 1.45168605,  1.65729692,  1.64484512, ...,  1.46778225,\n",
       "         1.62031117,  3.99450111],\n",
       "       [-0.20821723, -0.24185252, -0.24721651, ..., -0.25976042,\n",
       "        -0.24028649, -0.45066581],\n",
       "       [-0.22118828, -0.23919127, -0.21908177, ..., -0.25715643,\n",
       "        -0.23810433, -0.45066581]])"
      ]
     },
     "execution_count": 37,
     "metadata": {},
     "output_type": "execute_result"
    }
   ],
   "source": [
    "X_std"
   ]
  },
  {
   "cell_type": "code",
   "execution_count": 38,
   "metadata": {},
   "outputs": [
    {
     "name": "stderr",
     "output_type": "stream",
     "text": [
      "/Users/andreas.yunus/anaconda/envs/py36/lib/python3.6/site-packages/plotly/offline/offline.py:459: UserWarning:\n",
      "\n",
      "Your filename `pca-scikitlearn` didn't end with .html. Adding .html to the end of your file.\n",
      "\n"
     ]
    },
    {
     "data": {
      "text/plain": [
       "'file:///Users/andreas.yunus/Desktop/Graduation/pca-scikitlearn.html'"
      ]
     },
     "execution_count": 38,
     "metadata": {},
     "output_type": "execute_result"
    }
   ],
   "source": [
    "data = []\n",
    "\n",
    "for name, col in zip((34,35,36,38,40), colors_top_kcore.values()):\n",
    "\n",
    "    trace = dict(\n",
    "        type='scatter',\n",
    "        x=Y_sklearn[y==name,0],\n",
    "        y=Y_sklearn[y==name,1],\n",
    "        mode='markers',\n",
    "        name=name,\n",
    "        marker=dict(\n",
    "            color=col,\n",
    "            size=12,\n",
    "            line=dict(\n",
    "                color='rgba(217, 217, 217, 0.14)',\n",
    "                width=0.5),\n",
    "            opacity=0.8)\n",
    "    )\n",
    "    data.append(trace)\n",
    "\n",
    "layout = dict(\n",
    "        xaxis=dict(title='PC1', showline=False),\n",
    "        yaxis=dict(title='PC2', showline=False)\n",
    ")\n",
    "fig = dict(data=data, layout=layout)\n",
    "plotly.offline.plot(fig, filename='pca-scikitlearn')"
   ]
  },
  {
   "cell_type": "code",
   "execution_count": 39,
   "metadata": {},
   "outputs": [
    {
     "data": {
      "text/plain": [
       "array([[ 0.31484767,  0.27749449,  0.32079146,  0.29272716,  0.32091346,\n",
       "         0.3206301 ,  0.29191087,  0.29333575,  0.2910766 ,  0.26015591,\n",
       "         0.27828808,  0.16844448],\n",
       "       [ 0.15921173, -0.40444669,  0.12282492,  0.30398368,  0.12345272,\n",
       "         0.12218848,  0.3056185 ,  0.30216683, -0.35300074, -0.4472784 ,\n",
       "        -0.40214986,  0.04808745]])"
      ]
     },
     "execution_count": 39,
     "metadata": {},
     "output_type": "execute_result"
    }
   ],
   "source": [
    "sklearn_pca.components_"
   ]
  },
  {
   "cell_type": "code",
   "execution_count": 40,
   "metadata": {
    "collapsed": true
   },
   "outputs": [],
   "source": [
    "df_comp = pd.DataFrame(sklearn_pca.components_,index=['PC 1', 'PC 2'], columns=y_columns)"
   ]
  },
  {
   "cell_type": "code",
   "execution_count": 41,
   "metadata": {},
   "outputs": [
    {
     "data": {
      "text/plain": [
       "<matplotlib.axes._subplots.AxesSubplot at 0x103fc3208>"
      ]
     },
     "execution_count": 41,
     "metadata": {},
     "output_type": "execute_result"
    },
    {
     "data": {
      "image/png": "[encoded data removed]",
      "text/plain": [
       "<Figure size 864x432 with 2 Axes>"
      ]
     },
     "metadata": {},
     "output_type": "display_data"
    }
   ],
   "source": [
    "plt.figure(figsize=(12,6))\n",
    "sns.heatmap(df_comp,cmap='viridis',annot=True)"
   ]
  },
  {
   "cell_type": "code",
   "execution_count": 42,
   "metadata": {},
   "outputs": [
    {
     "data": {
      "text/html": [
       "<div>\n",
       "<style scoped>\n",
       "    .dataframe tbody tr th:only-of-type {\n",
       "        vertical-align: middle;\n",
       "    }\n",
       "\n",
       "    .dataframe tbody tr th {\n",
       "        vertical-align: top;\n",
       "    }\n",
       "\n",
       "    .dataframe thead th {\n",
       "        text-align: right;\n",
       "    }\n",
       "</style>\n",
       "<table border=\"1\" class=\"dataframe\">\n",
       "  <thead>\n",
       "    <tr style=\"text-align: right;\">\n",
       "      <th></th>\n",
       "      <th>Label</th>\n",
       "      <th>PageRank</th>\n",
       "      <th>Eigenvector</th>\n",
       "      <th>Strength</th>\n",
       "      <th>Degree</th>\n",
       "      <th>StrengthIn</th>\n",
       "      <th>StrengthOut</th>\n",
       "      <th>DegreeIn</th>\n",
       "      <th>DegreeOut</th>\n",
       "      <th>Hub</th>\n",
       "      <th>Authority</th>\n",
       "      <th>Katz</th>\n",
       "      <th>Multiplexity</th>\n",
       "      <th>Kcore</th>\n",
       "    </tr>\n",
       "  </thead>\n",
       "  <tbody>\n",
       "    <tr>\n",
       "      <th>0</th>\n",
       "      <td>Aalborg</td>\n",
       "      <td>0.026703</td>\n",
       "      <td>0.000226</td>\n",
       "      <td>77.84</td>\n",
       "      <td>18</td>\n",
       "      <td>38.92</td>\n",
       "      <td>38.92</td>\n",
       "      <td>9</td>\n",
       "      <td>9</td>\n",
       "      <td>0.000191</td>\n",
       "      <td>0.000254</td>\n",
       "      <td>0.000237</td>\n",
       "      <td>0.33</td>\n",
       "      <td>8</td>\n",
       "    </tr>\n",
       "    <tr>\n",
       "      <th>1</th>\n",
       "      <td>Aarau</td>\n",
       "      <td>0.038112</td>\n",
       "      <td>0.000443</td>\n",
       "      <td>147.84</td>\n",
       "      <td>24</td>\n",
       "      <td>73.92</td>\n",
       "      <td>73.92</td>\n",
       "      <td>12</td>\n",
       "      <td>12</td>\n",
       "      <td>0.000373</td>\n",
       "      <td>0.000479</td>\n",
       "      <td>0.000420</td>\n",
       "      <td>0.33</td>\n",
       "      <td>8</td>\n",
       "    </tr>\n",
       "    <tr>\n",
       "      <th>2</th>\n",
       "      <td>Aarhus</td>\n",
       "      <td>0.048434</td>\n",
       "      <td>0.002578</td>\n",
       "      <td>275.84</td>\n",
       "      <td>74</td>\n",
       "      <td>137.92</td>\n",
       "      <td>137.92</td>\n",
       "      <td>37</td>\n",
       "      <td>37</td>\n",
       "      <td>0.002221</td>\n",
       "      <td>0.002832</td>\n",
       "      <td>0.002567</td>\n",
       "      <td>0.33</td>\n",
       "      <td>27</td>\n",
       "    </tr>\n",
       "    <tr>\n",
       "      <th>3</th>\n",
       "      <td>Aberdeen</td>\n",
       "      <td>0.026853</td>\n",
       "      <td>0.000022</td>\n",
       "      <td>96.84</td>\n",
       "      <td>33</td>\n",
       "      <td>46.92</td>\n",
       "      <td>49.92</td>\n",
       "      <td>15</td>\n",
       "      <td>18</td>\n",
       "      <td>0.000088</td>\n",
       "      <td>0.000028</td>\n",
       "      <td>0.000106</td>\n",
       "      <td>0.67</td>\n",
       "      <td>20</td>\n",
       "    </tr>\n",
       "    <tr>\n",
       "      <th>4</th>\n",
       "      <td>Abidjan</td>\n",
       "      <td>0.027882</td>\n",
       "      <td>0.000093</td>\n",
       "      <td>89.84</td>\n",
       "      <td>36</td>\n",
       "      <td>44.92</td>\n",
       "      <td>44.92</td>\n",
       "      <td>18</td>\n",
       "      <td>18</td>\n",
       "      <td>0.000076</td>\n",
       "      <td>0.000108</td>\n",
       "      <td>0.000099</td>\n",
       "      <td>0.33</td>\n",
       "      <td>24</td>\n",
       "    </tr>\n",
       "  </tbody>\n",
       "</table>\n",
       "</div>"
      ],
      "text/plain": [
       "      Label  PageRank  Eigenvector  Strength  Degree  StrengthIn  StrengthOut  \\\n",
       "0   Aalborg  0.026703     0.000226     77.84      18       38.92        38.92   \n",
       "1     Aarau  0.038112     0.000443    147.84      24       73.92        73.92   \n",
       "2    Aarhus  0.048434     0.002578    275.84      74      137.92       137.92   \n",
       "3  Aberdeen  0.026853     0.000022     96.84      33       46.92        49.92   \n",
       "4   Abidjan  0.027882     0.000093     89.84      36       44.92        44.92   \n",
       "\n",
       "   DegreeIn  DegreeOut       Hub  Authority      Katz  Multiplexity  Kcore  \n",
       "0         9          9  0.000191   0.000254  0.000237          0.33      8  \n",
       "1        12         12  0.000373   0.000479  0.000420          0.33      8  \n",
       "2        37         37  0.002221   0.002832  0.002567          0.33     27  \n",
       "3        15         18  0.000088   0.000028  0.000106          0.67     20  \n",
       "4        18         18  0.000076   0.000108  0.000099          0.33     24  "
      ]
     },
     "execution_count": 42,
     "metadata": {},
     "output_type": "execute_result"
    }
   ],
   "source": [
    "df_directed.head()"
   ]
  },
  {
   "cell_type": "code",
   "execution_count": 43,
   "metadata": {
    "collapsed": true
   },
   "outputs": [],
   "source": [
    "# should I see the PCA and investigate the clusters by degree of K-core (yg paling besar)\n",
    "# atau by cluster in K-core - by number of members"
   ]
  },
  {
   "cell_type": "markdown",
   "metadata": {},
   "source": [
    "# Adding TEU data to focus on 15 European Hubs"
   ]
  },
  {
   "cell_type": "code",
   "execution_count": 44,
   "metadata": {},
   "outputs": [
    {
     "name": "stderr",
     "output_type": "stream",
     "text": [
      "/Users/andreas.yunus/anaconda/envs/py36/lib/python3.6/site-packages/ipykernel_launcher.py:17: FutureWarning:\n",
      "\n",
      "\n",
      "Passing list-likes to .loc or [] with any missing label will raise\n",
      "KeyError in the future, you can use .reindex() as an alternative.\n",
      "\n",
      "See the documentation here:\n",
      "https://pandas.pydata.org/pandas-docs/stable/indexing.html#deprecate-loc-reindex-listlike\n",
      "\n"
     ]
    }
   ],
   "source": [
    "# Rank the ports based on Borda Count Methods\n",
    "# Preference-based Ranking\n",
    "# List of Busiest Port in Europe as per TEU in 2018. No data for 2019\n",
    "# https://www.porteconomics.eu/2019/03/02/portgraphic-top15-container-ports-in-europe-in-2018/\n",
    "\n",
    "# Make dictionary\n",
    "port_teu_dict = {\"Ports\":[\"Rotterdam\", \"Antwerp\", \"Hamburg\", \n",
    "            \"Bremerhaven\", \"Valencia\", \"Piraeus\",\n",
    "           \"Algeciras\", \"Felixstowe\", \"Barcelona\",\n",
    "           \"Marsaxlokk\", \"Le_Havre\", \"Genoa\",\n",
    "           \"Gioia_Tauro\", \"Southampton\",\"Gdansk\"], \"TEU\":[14513,11100,8730,5467,5104,4908,4772,4161,3423,3310,2884,2609,2301,1995,1949]}\n",
    "\n",
    "port_teu = pd.DataFrame.from_dict(data=port_teu_dict)\n",
    "\n",
    "df_directed.set_index('Label', inplace=True)\n",
    "\n",
    "df_top15 = df_directed.loc[list(port_teu_dict['Ports'])]\n",
    "\n",
    "# Remove Genoa from list - data not available - NaN\n",
    "df_top15.dropna(inplace=True)\n",
    "\n",
    "# Remove genoa TEU\n",
    "genoa = list(port_teu['TEU'])\n",
    "genoa.pop(11)\n",
    "\n",
    "# add TEU data\n",
    "df_top15['TEU'] = genoa"
   ]
  },
  {
   "cell_type": "code",
   "execution_count": 45,
   "metadata": {},
   "outputs": [
    {
     "data": {
      "text/html": [
       "<div>\n",
       "<style scoped>\n",
       "    .dataframe tbody tr th:only-of-type {\n",
       "        vertical-align: middle;\n",
       "    }\n",
       "\n",
       "    .dataframe tbody tr th {\n",
       "        vertical-align: top;\n",
       "    }\n",
       "\n",
       "    .dataframe thead th {\n",
       "        text-align: right;\n",
       "    }\n",
       "</style>\n",
       "<table border=\"1\" class=\"dataframe\">\n",
       "  <thead>\n",
       "    <tr style=\"text-align: right;\">\n",
       "      <th></th>\n",
       "      <th>PageRank</th>\n",
       "      <th>Eigenvector</th>\n",
       "      <th>Strength</th>\n",
       "      <th>Degree</th>\n",
       "      <th>StrengthIn</th>\n",
       "      <th>StrengthOut</th>\n",
       "      <th>DegreeIn</th>\n",
       "      <th>DegreeOut</th>\n",
       "      <th>Hub</th>\n",
       "      <th>Authority</th>\n",
       "      <th>Katz</th>\n",
       "      <th>Multiplexity</th>\n",
       "      <th>Kcore</th>\n",
       "      <th>TEU</th>\n",
       "    </tr>\n",
       "    <tr>\n",
       "      <th>Label</th>\n",
       "      <th></th>\n",
       "      <th></th>\n",
       "      <th></th>\n",
       "      <th></th>\n",
       "      <th></th>\n",
       "      <th></th>\n",
       "      <th></th>\n",
       "      <th></th>\n",
       "      <th></th>\n",
       "      <th></th>\n",
       "      <th></th>\n",
       "      <th></th>\n",
       "      <th></th>\n",
       "      <th></th>\n",
       "    </tr>\n",
       "  </thead>\n",
       "  <tbody>\n",
       "    <tr>\n",
       "      <th>Rotterdam</th>\n",
       "      <td>1.000000</td>\n",
       "      <td>1.000000</td>\n",
       "      <td>7903.84</td>\n",
       "      <td>553.0</td>\n",
       "      <td>3909.92</td>\n",
       "      <td>3993.92</td>\n",
       "      <td>274.0</td>\n",
       "      <td>279.0</td>\n",
       "      <td>1.000000</td>\n",
       "      <td>1.000000</td>\n",
       "      <td>1.000000</td>\n",
       "      <td>1.00</td>\n",
       "      <td>38.0</td>\n",
       "      <td>14513</td>\n",
       "    </tr>\n",
       "    <tr>\n",
       "      <th>Antwerp</th>\n",
       "      <td>0.436935</td>\n",
       "      <td>0.639843</td>\n",
       "      <td>3532.84</td>\n",
       "      <td>384.0</td>\n",
       "      <td>1775.92</td>\n",
       "      <td>1756.92</td>\n",
       "      <td>189.0</td>\n",
       "      <td>195.0</td>\n",
       "      <td>0.566561</td>\n",
       "      <td>0.657466</td>\n",
       "      <td>0.580793</td>\n",
       "      <td>1.00</td>\n",
       "      <td>38.0</td>\n",
       "      <td>11100</td>\n",
       "    </tr>\n",
       "    <tr>\n",
       "      <th>Hamburg</th>\n",
       "      <td>0.587704</td>\n",
       "      <td>0.023401</td>\n",
       "      <td>4584.84</td>\n",
       "      <td>297.0</td>\n",
       "      <td>2284.92</td>\n",
       "      <td>2299.92</td>\n",
       "      <td>149.0</td>\n",
       "      <td>148.0</td>\n",
       "      <td>0.018690</td>\n",
       "      <td>0.027228</td>\n",
       "      <td>0.022904</td>\n",
       "      <td>1.00</td>\n",
       "      <td>38.0</td>\n",
       "      <td>8730</td>\n",
       "    </tr>\n",
       "    <tr>\n",
       "      <th>Bremerhaven</th>\n",
       "      <td>0.294168</td>\n",
       "      <td>0.016266</td>\n",
       "      <td>2314.84</td>\n",
       "      <td>243.0</td>\n",
       "      <td>1165.92</td>\n",
       "      <td>1148.92</td>\n",
       "      <td>118.0</td>\n",
       "      <td>125.0</td>\n",
       "      <td>0.013564</td>\n",
       "      <td>0.018356</td>\n",
       "      <td>0.016111</td>\n",
       "      <td>0.67</td>\n",
       "      <td>38.0</td>\n",
       "      <td>5467</td>\n",
       "    </tr>\n",
       "    <tr>\n",
       "      <th>Valencia</th>\n",
       "      <td>0.072385</td>\n",
       "      <td>0.000765</td>\n",
       "      <td>361.84</td>\n",
       "      <td>140.0</td>\n",
       "      <td>181.92</td>\n",
       "      <td>179.92</td>\n",
       "      <td>71.0</td>\n",
       "      <td>69.0</td>\n",
       "      <td>0.000895</td>\n",
       "      <td>0.000848</td>\n",
       "      <td>0.001024</td>\n",
       "      <td>0.67</td>\n",
       "      <td>38.0</td>\n",
       "      <td>5104</td>\n",
       "    </tr>\n",
       "  </tbody>\n",
       "</table>\n",
       "</div>"
      ],
      "text/plain": [
       "             PageRank  Eigenvector  Strength  Degree  StrengthIn  StrengthOut  \\\n",
       "Label                                                                           \n",
       "Rotterdam    1.000000     1.000000   7903.84   553.0     3909.92      3993.92   \n",
       "Antwerp      0.436935     0.639843   3532.84   384.0     1775.92      1756.92   \n",
       "Hamburg      0.587704     0.023401   4584.84   297.0     2284.92      2299.92   \n",
       "Bremerhaven  0.294168     0.016266   2314.84   243.0     1165.92      1148.92   \n",
       "Valencia     0.072385     0.000765    361.84   140.0      181.92       179.92   \n",
       "\n",
       "             DegreeIn  DegreeOut       Hub  Authority      Katz  Multiplexity  \\\n",
       "Label                                                                           \n",
       "Rotterdam       274.0      279.0  1.000000   1.000000  1.000000          1.00   \n",
       "Antwerp         189.0      195.0  0.566561   0.657466  0.580793          1.00   \n",
       "Hamburg         149.0      148.0  0.018690   0.027228  0.022904          1.00   \n",
       "Bremerhaven     118.0      125.0  0.013564   0.018356  0.016111          0.67   \n",
       "Valencia         71.0       69.0  0.000895   0.000848  0.001024          0.67   \n",
       "\n",
       "             Kcore    TEU  \n",
       "Label                      \n",
       "Rotterdam     38.0  14513  \n",
       "Antwerp       38.0  11100  \n",
       "Hamburg       38.0   8730  \n",
       "Bremerhaven   38.0   5467  \n",
       "Valencia      38.0   5104  "
      ]
     },
     "execution_count": 45,
     "metadata": {},
     "output_type": "execute_result"
    }
   ],
   "source": [
    "df_top15.head()"
   ]
  },
  {
   "cell_type": "code",
   "execution_count": 46,
   "metadata": {},
   "outputs": [
    {
     "data": {
      "text/plain": [
       "['PageRank',\n",
       " 'Eigenvector',\n",
       " 'Strength',\n",
       " 'Degree',\n",
       " 'StrengthIn',\n",
       " 'StrengthOut',\n",
       " 'DegreeIn',\n",
       " 'DegreeOut',\n",
       " 'Hub',\n",
       " 'Authority',\n",
       " 'Katz',\n",
       " 'Multiplexity',\n",
       " 'Kcore',\n",
       " 'TEU']"
      ]
     },
     "execution_count": 46,
     "metadata": {},
     "output_type": "execute_result"
    }
   ],
   "source": [
    "df_top15.columns.to_list()"
   ]
  },
  {
   "cell_type": "code",
   "execution_count": 47,
   "metadata": {
    "collapsed": true
   },
   "outputs": [],
   "source": [
    "df_top15.drop(labels=['StrengthIn',\n",
    " 'StrengthOut',\n",
    " 'DegreeIn',\n",
    " 'DegreeOut',\n",
    " 'Hub',\n",
    " 'Authority',\n",
    " 'Katz'], axis=1, inplace=True)"
   ]
  },
  {
   "cell_type": "code",
   "execution_count": 48,
   "metadata": {},
   "outputs": [
    {
     "data": {
      "text/html": [
       "<div>\n",
       "<style scoped>\n",
       "    .dataframe tbody tr th:only-of-type {\n",
       "        vertical-align: middle;\n",
       "    }\n",
       "\n",
       "    .dataframe tbody tr th {\n",
       "        vertical-align: top;\n",
       "    }\n",
       "\n",
       "    .dataframe thead th {\n",
       "        text-align: right;\n",
       "    }\n",
       "</style>\n",
       "<table border=\"1\" class=\"dataframe\">\n",
       "  <thead>\n",
       "    <tr style=\"text-align: right;\">\n",
       "      <th></th>\n",
       "      <th>PageRank</th>\n",
       "      <th>Eigenvector</th>\n",
       "      <th>Strength</th>\n",
       "      <th>Degree</th>\n",
       "      <th>Multiplexity</th>\n",
       "      <th>Kcore</th>\n",
       "      <th>TEU</th>\n",
       "    </tr>\n",
       "    <tr>\n",
       "      <th>Label</th>\n",
       "      <th></th>\n",
       "      <th></th>\n",
       "      <th></th>\n",
       "      <th></th>\n",
       "      <th></th>\n",
       "      <th></th>\n",
       "      <th></th>\n",
       "    </tr>\n",
       "  </thead>\n",
       "  <tbody>\n",
       "    <tr>\n",
       "      <th>Rotterdam</th>\n",
       "      <td>1.000000</td>\n",
       "      <td>1.000000</td>\n",
       "      <td>7903.84</td>\n",
       "      <td>553.0</td>\n",
       "      <td>1.00</td>\n",
       "      <td>38.0</td>\n",
       "      <td>14513</td>\n",
       "    </tr>\n",
       "    <tr>\n",
       "      <th>Antwerp</th>\n",
       "      <td>0.436935</td>\n",
       "      <td>0.639843</td>\n",
       "      <td>3532.84</td>\n",
       "      <td>384.0</td>\n",
       "      <td>1.00</td>\n",
       "      <td>38.0</td>\n",
       "      <td>11100</td>\n",
       "    </tr>\n",
       "    <tr>\n",
       "      <th>Hamburg</th>\n",
       "      <td>0.587704</td>\n",
       "      <td>0.023401</td>\n",
       "      <td>4584.84</td>\n",
       "      <td>297.0</td>\n",
       "      <td>1.00</td>\n",
       "      <td>38.0</td>\n",
       "      <td>8730</td>\n",
       "    </tr>\n",
       "    <tr>\n",
       "      <th>Bremerhaven</th>\n",
       "      <td>0.294168</td>\n",
       "      <td>0.016266</td>\n",
       "      <td>2314.84</td>\n",
       "      <td>243.0</td>\n",
       "      <td>0.67</td>\n",
       "      <td>38.0</td>\n",
       "      <td>5467</td>\n",
       "    </tr>\n",
       "    <tr>\n",
       "      <th>Valencia</th>\n",
       "      <td>0.072385</td>\n",
       "      <td>0.000765</td>\n",
       "      <td>361.84</td>\n",
       "      <td>140.0</td>\n",
       "      <td>0.67</td>\n",
       "      <td>38.0</td>\n",
       "      <td>5104</td>\n",
       "    </tr>\n",
       "    <tr>\n",
       "      <th>Piraeus</th>\n",
       "      <td>0.072017</td>\n",
       "      <td>0.001204</td>\n",
       "      <td>370.84</td>\n",
       "      <td>133.0</td>\n",
       "      <td>0.33</td>\n",
       "      <td>38.0</td>\n",
       "      <td>4908</td>\n",
       "    </tr>\n",
       "    <tr>\n",
       "      <th>Algeciras</th>\n",
       "      <td>0.066758</td>\n",
       "      <td>0.000776</td>\n",
       "      <td>297.84</td>\n",
       "      <td>109.0</td>\n",
       "      <td>0.67</td>\n",
       "      <td>35.0</td>\n",
       "      <td>4772</td>\n",
       "    </tr>\n",
       "    <tr>\n",
       "      <th>Felixstowe</th>\n",
       "      <td>0.142163</td>\n",
       "      <td>0.002409</td>\n",
       "      <td>724.84</td>\n",
       "      <td>117.0</td>\n",
       "      <td>0.67</td>\n",
       "      <td>38.0</td>\n",
       "      <td>4161</td>\n",
       "    </tr>\n",
       "    <tr>\n",
       "      <th>Barcelona</th>\n",
       "      <td>0.052110</td>\n",
       "      <td>0.000556</td>\n",
       "      <td>274.84</td>\n",
       "      <td>110.0</td>\n",
       "      <td>0.67</td>\n",
       "      <td>38.0</td>\n",
       "      <td>3423</td>\n",
       "    </tr>\n",
       "    <tr>\n",
       "      <th>Marsaxlokk</th>\n",
       "      <td>0.057408</td>\n",
       "      <td>0.001194</td>\n",
       "      <td>245.84</td>\n",
       "      <td>103.0</td>\n",
       "      <td>0.33</td>\n",
       "      <td>38.0</td>\n",
       "      <td>3310</td>\n",
       "    </tr>\n",
       "    <tr>\n",
       "      <th>Le_Havre</th>\n",
       "      <td>0.110125</td>\n",
       "      <td>0.002956</td>\n",
       "      <td>718.84</td>\n",
       "      <td>122.0</td>\n",
       "      <td>1.00</td>\n",
       "      <td>34.0</td>\n",
       "      <td>2884</td>\n",
       "    </tr>\n",
       "    <tr>\n",
       "      <th>Gioia_Tauro</th>\n",
       "      <td>0.029824</td>\n",
       "      <td>0.000142</td>\n",
       "      <td>107.84</td>\n",
       "      <td>54.0</td>\n",
       "      <td>0.33</td>\n",
       "      <td>36.0</td>\n",
       "      <td>2301</td>\n",
       "    </tr>\n",
       "    <tr>\n",
       "      <th>Southampton</th>\n",
       "      <td>0.053435</td>\n",
       "      <td>0.000876</td>\n",
       "      <td>289.84</td>\n",
       "      <td>83.0</td>\n",
       "      <td>0.67</td>\n",
       "      <td>38.0</td>\n",
       "      <td>1995</td>\n",
       "    </tr>\n",
       "    <tr>\n",
       "      <th>Gdansk</th>\n",
       "      <td>0.034839</td>\n",
       "      <td>0.000946</td>\n",
       "      <td>174.84</td>\n",
       "      <td>46.0</td>\n",
       "      <td>0.67</td>\n",
       "      <td>23.0</td>\n",
       "      <td>1949</td>\n",
       "    </tr>\n",
       "  </tbody>\n",
       "</table>\n",
       "</div>"
      ],
      "text/plain": [
       "             PageRank  Eigenvector  Strength  Degree  Multiplexity  Kcore  \\\n",
       "Label                                                                       \n",
       "Rotterdam    1.000000     1.000000   7903.84   553.0          1.00   38.0   \n",
       "Antwerp      0.436935     0.639843   3532.84   384.0          1.00   38.0   \n",
       "Hamburg      0.587704     0.023401   4584.84   297.0          1.00   38.0   \n",
       "Bremerhaven  0.294168     0.016266   2314.84   243.0          0.67   38.0   \n",
       "Valencia     0.072385     0.000765    361.84   140.0          0.67   38.0   \n",
       "Piraeus      0.072017     0.001204    370.84   133.0          0.33   38.0   \n",
       "Algeciras    0.066758     0.000776    297.84   109.0          0.67   35.0   \n",
       "Felixstowe   0.142163     0.002409    724.84   117.0          0.67   38.0   \n",
       "Barcelona    0.052110     0.000556    274.84   110.0          0.67   38.0   \n",
       "Marsaxlokk   0.057408     0.001194    245.84   103.0          0.33   38.0   \n",
       "Le_Havre     0.110125     0.002956    718.84   122.0          1.00   34.0   \n",
       "Gioia_Tauro  0.029824     0.000142    107.84    54.0          0.33   36.0   \n",
       "Southampton  0.053435     0.000876    289.84    83.0          0.67   38.0   \n",
       "Gdansk       0.034839     0.000946    174.84    46.0          0.67   23.0   \n",
       "\n",
       "               TEU  \n",
       "Label               \n",
       "Rotterdam    14513  \n",
       "Antwerp      11100  \n",
       "Hamburg       8730  \n",
       "Bremerhaven   5467  \n",
       "Valencia      5104  \n",
       "Piraeus       4908  \n",
       "Algeciras     4772  \n",
       "Felixstowe    4161  \n",
       "Barcelona     3423  \n",
       "Marsaxlokk    3310  \n",
       "Le_Havre      2884  \n",
       "Gioia_Tauro   2301  \n",
       "Southampton   1995  \n",
       "Gdansk        1949  "
      ]
     },
     "execution_count": 48,
     "metadata": {},
     "output_type": "execute_result"
    }
   ],
   "source": [
    "df_top15"
   ]
  },
  {
   "cell_type": "markdown",
   "metadata": {},
   "source": [
    "# Check Ranking one by one"
   ]
  },
  {
   "cell_type": "code",
   "execution_count": 49,
   "metadata": {
    "collapsed": true
   },
   "outputs": [],
   "source": [
    "df_top15_degree = df_top15.sort_values(by='Degree', ascending=False).index\n",
    "df_top15_PageRank = df_top15.sort_values(by='PageRank', ascending=False).index\n",
    "df_top15_eigen = df_top15.sort_values(by='Eigenvector', ascending=False).index\n",
    "df_top15_strength = df_top15.sort_values(by='Strength', ascending=False).index\n",
    "df_top15_multiplexity = df_top15.sort_values(by='Multiplexity', ascending=False).index\n",
    "df_top15_Kcore = df_top15.sort_values(by='Kcore', ascending=False).index\n",
    "df_top15_TEU = df_top15.index"
   ]
  },
  {
   "cell_type": "code",
   "execution_count": null,
   "metadata": {
    "collapsed": true
   },
   "outputs": [],
   "source": []
  },
  {
   "cell_type": "markdown",
   "metadata": {},
   "source": [
    "# Borda Count"
   ]
  },
  {
   "cell_type": "code",
   "execution_count": 50,
   "metadata": {
    "collapsed": true
   },
   "outputs": [],
   "source": [
    "dict_degree = {df_top15_degree[x]:x+1 for x in range(len(df_top15_degree))}\n",
    "dict_PageRank = {df_top15_PageRank[x]:x+1 for x in range(len(df_top15_PageRank))}\n",
    "dict_eigen = {df_top15_eigen[x]:x+1 for x in range(len(df_top15_eigen))}\n",
    "dict_strength = {df_top15_strength[x]:x+1 for x in range(len(df_top15_strength))}\n",
    "#dict_multiplexity = {df_top15_multiplexity[x]:x+1 for x in range(len(df_top15_multiplexity))}\n",
    "#dict_kcore = {df_top15_Kcore[x]:x+1 for x in range(len(df_top15_Kcore))}\n",
    "dict_TEU = {df_top15_TEU[x]:x+1 for x in range(len(df_top15_TEU))}"
   ]
  },
  {
   "cell_type": "code",
   "execution_count": 51,
   "metadata": {
    "collapsed": true
   },
   "outputs": [],
   "source": [
    "# Set rank multiplexity - algorithm is different because there is same value\n",
    "set_multiplexity = sorted(list(set(df_top15['Multiplexity'])), reverse=True)\n",
    "dict_rank_multiplexity = {set_multiplexity[x]:x+1 for x in range(len(set_multiplexity))}\n",
    "dict_multiplexity = {df_top15_multiplexity[x]:dict_rank_multiplexity[df_top15['Multiplexity'][x]] for x in range(len(df_top15_multiplexity))}"
   ]
  },
  {
   "cell_type": "code",
   "execution_count": 52,
   "metadata": {
    "collapsed": true
   },
   "outputs": [],
   "source": [
    "# Set rank kcore - algorithm is different because there is same value\n",
    "set_kcore = sorted(list(set(df_top15['Kcore'])), reverse=True)\n",
    "dict_rank_kcore = {set_kcore[x]:x+1 for x in range(len(set_kcore))}\n",
    "dict_kcore = {df_top15_Kcore[x]:dict_rank_kcore[df_top15['Kcore'][x]] for x in range(len(df_top15_Kcore))}"
   ]
  },
  {
   "cell_type": "code",
   "execution_count": 53,
   "metadata": {
    "collapsed": true
   },
   "outputs": [],
   "source": [
    "df15_index = list(df_top15.index)"
   ]
  },
  {
   "cell_type": "code",
   "execution_count": 54,
   "metadata": {
    "collapsed": true
   },
   "outputs": [],
   "source": [
    "dict_borda = dict()\n",
    "for i, j in enumerate(df15_index):\n",
    "    dict_borda[j] = dict_degree[j] + dict_PageRank[j] + dict_eigen[j] + dict_multiplexity[j] + dict_kcore[j] + dict_TEU[j]"
   ]
  },
  {
   "cell_type": "code",
   "execution_count": 55,
   "metadata": {
    "collapsed": true
   },
   "outputs": [],
   "source": [
    "df_sorted_borda = pd.DataFrame(columns=['Borda_count'], index=list(dict_borda.keys()))"
   ]
  },
  {
   "cell_type": "code",
   "execution_count": 56,
   "metadata": {
    "collapsed": true
   },
   "outputs": [],
   "source": [
    "for i, j in dict_borda.items():\n",
    "    df_sorted_borda.loc[i] = j"
   ]
  },
  {
   "cell_type": "code",
   "execution_count": 57,
   "metadata": {},
   "outputs": [
    {
     "data": {
      "text/html": [
       "<div>\n",
       "<style scoped>\n",
       "    .dataframe tbody tr th:only-of-type {\n",
       "        vertical-align: middle;\n",
       "    }\n",
       "\n",
       "    .dataframe tbody tr th {\n",
       "        vertical-align: top;\n",
       "    }\n",
       "\n",
       "    .dataframe thead th {\n",
       "        text-align: right;\n",
       "    }\n",
       "</style>\n",
       "<table border=\"1\" class=\"dataframe\">\n",
       "  <thead>\n",
       "    <tr style=\"text-align: right;\">\n",
       "      <th></th>\n",
       "      <th>Borda_count</th>\n",
       "    </tr>\n",
       "  </thead>\n",
       "  <tbody>\n",
       "    <tr>\n",
       "      <th>Rotterdam</th>\n",
       "      <td>6</td>\n",
       "    </tr>\n",
       "    <tr>\n",
       "      <th>Antwerp</th>\n",
       "      <td>11</td>\n",
       "    </tr>\n",
       "    <tr>\n",
       "      <th>Hamburg</th>\n",
       "      <td>13</td>\n",
       "    </tr>\n",
       "    <tr>\n",
       "      <th>Bremerhaven</th>\n",
       "      <td>19</td>\n",
       "    </tr>\n",
       "    <tr>\n",
       "      <th>Piraeus</th>\n",
       "      <td>31</td>\n",
       "    </tr>\n",
       "    <tr>\n",
       "      <th>Felixstowe</th>\n",
       "      <td>32</td>\n",
       "    </tr>\n",
       "    <tr>\n",
       "      <th>Le_Havre</th>\n",
       "      <td>32</td>\n",
       "    </tr>\n",
       "    <tr>\n",
       "      <th>Valencia</th>\n",
       "      <td>33</td>\n",
       "    </tr>\n",
       "    <tr>\n",
       "      <th>Algeciras</th>\n",
       "      <td>41</td>\n",
       "    </tr>\n",
       "    <tr>\n",
       "      <th>Marsaxlokk</th>\n",
       "      <td>42</td>\n",
       "    </tr>\n",
       "    <tr>\n",
       "      <th>Barcelona</th>\n",
       "      <td>46</td>\n",
       "    </tr>\n",
       "    <tr>\n",
       "      <th>Southampton</th>\n",
       "      <td>50</td>\n",
       "    </tr>\n",
       "    <tr>\n",
       "      <th>Gdansk</th>\n",
       "      <td>56</td>\n",
       "    </tr>\n",
       "    <tr>\n",
       "      <th>Gioia_Tauro</th>\n",
       "      <td>59</td>\n",
       "    </tr>\n",
       "  </tbody>\n",
       "</table>\n",
       "</div>"
      ],
      "text/plain": [
       "             Borda_count\n",
       "Rotterdam              6\n",
       "Antwerp               11\n",
       "Hamburg               13\n",
       "Bremerhaven           19\n",
       "Piraeus               31\n",
       "Felixstowe            32\n",
       "Le_Havre              32\n",
       "Valencia              33\n",
       "Algeciras             41\n",
       "Marsaxlokk            42\n",
       "Barcelona             46\n",
       "Southampton           50\n",
       "Gdansk                56\n",
       "Gioia_Tauro           59"
      ]
     },
     "execution_count": 57,
     "metadata": {},
     "output_type": "execute_result"
    }
   ],
   "source": [
    "df_sorted_borda.sort_values(by='Borda_count')"
   ]
  },
  {
   "cell_type": "code",
   "execution_count": null,
   "metadata": {
    "collapsed": true
   },
   "outputs": [],
   "source": []
  }
 ],
 "metadata": {
  "kernelspec": {
   "display_name": "Python 3",
   "language": "python",
   "name": "python3"
  },
  "language_info": {
   "codemirror_mode": {
    "name": "ipython",
    "version": 3
   },
   "file_extension": ".py",
   "mimetype": "text/x-python",
   "name": "python",
   "nbconvert_exporter": "python",
   "pygments_lexer": "ipython3",
   "version": "3.6.8"
  }
 },
 "nbformat": 4,
 "nbformat_minor": 2
}
