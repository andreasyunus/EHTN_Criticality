{
 "cells": [
  {
   "cell_type": "code",
   "execution_count": 1,
   "metadata": {
    "collapsed": true
   },
   "outputs": [],
   "source": [
    "import pandas as pd\n",
    "import numpy as np"
   ]
  },
  {
   "cell_type": "markdown",
   "metadata": {},
   "source": [
    "# Column Modification"
   ]
  },
  {
   "cell_type": "code",
   "execution_count": 2,
   "metadata": {
    "collapsed": true
   },
   "outputs": [],
   "source": [
    "df_2019 = pd.read_excel(\"01_Raw_data/201902_raw.xlsx\")"
   ]
  },
  {
   "cell_type": "code",
   "execution_count": 3,
   "metadata": {},
   "outputs": [
    {
     "data": {
      "text/html": [
       "<div>\n",
       "<style scoped>\n",
       "    .dataframe tbody tr th:only-of-type {\n",
       "        vertical-align: middle;\n",
       "    }\n",
       "\n",
       "    .dataframe tbody tr th {\n",
       "        vertical-align: top;\n",
       "    }\n",
       "\n",
       "    .dataframe thead th {\n",
       "        text-align: right;\n",
       "    }\n",
       "</style>\n",
       "<table border=\"1\" class=\"dataframe\">\n",
       "  <thead>\n",
       "    <tr style=\"text-align: right;\">\n",
       "      <th></th>\n",
       "      <th>Origin terminal</th>\n",
       "      <th>Destination terminal</th>\n",
       "      <th>Modality</th>\n",
       "      <th>Carrier</th>\n",
       "      <th>Monday</th>\n",
       "      <th>Tuesday</th>\n",
       "      <th>Wednesday</th>\n",
       "      <th>Thursday</th>\n",
       "      <th>Friday</th>\n",
       "      <th>Saturday</th>\n",
       "      <th>Sunday</th>\n",
       "      <th>Number of departures per week</th>\n",
       "      <th>Transport time (days)</th>\n",
       "      <th>Comment</th>\n",
       "    </tr>\n",
       "  </thead>\n",
       "  <tbody>\n",
       "    <tr>\n",
       "      <th>0</th>\n",
       "      <td>FR013 - France - Calais - Port Boulonge Calais</td>\n",
       "      <td>GB015 - United Kingdom - Dover - Port of Dover</td>\n",
       "      <td>Sea</td>\n",
       "      <td>P304 - P&amp;O Ferries</td>\n",
       "      <td>27.0</td>\n",
       "      <td>28.0</td>\n",
       "      <td>28.0</td>\n",
       "      <td>28.0</td>\n",
       "      <td>28.0</td>\n",
       "      <td>27.0</td>\n",
       "      <td>24.0</td>\n",
       "      <td>190</td>\n",
       "      <td>1</td>\n",
       "      <td>Current sailing schedule (Jan 2019)</td>\n",
       "    </tr>\n",
       "    <tr>\n",
       "      <th>1</th>\n",
       "      <td>GB015 - United Kingdom - Dover - Port of Dover</td>\n",
       "      <td>FR013 - France - Calais - Port Boulonge Calais</td>\n",
       "      <td>Sea</td>\n",
       "      <td>P304 - P&amp;O Ferries</td>\n",
       "      <td>26.0</td>\n",
       "      <td>28.0</td>\n",
       "      <td>28.0</td>\n",
       "      <td>28.0</td>\n",
       "      <td>28.0</td>\n",
       "      <td>26.0</td>\n",
       "      <td>26.0</td>\n",
       "      <td>190</td>\n",
       "      <td>1</td>\n",
       "      <td>Current sailing schedule (Jan 2019)</td>\n",
       "    </tr>\n",
       "    <tr>\n",
       "      <th>2</th>\n",
       "      <td>AT005 - Austria - Gries am Brenner - Brennersee</td>\n",
       "      <td>AT021 - Austria - Wörgl - Wörgl CCT</td>\n",
       "      <td>Rail</td>\n",
       "      <td>P195 - Rail Cargo Group</td>\n",
       "      <td>17.0</td>\n",
       "      <td>18.0</td>\n",
       "      <td>18.0</td>\n",
       "      <td>18.0</td>\n",
       "      <td>18.0</td>\n",
       "      <td>14.0</td>\n",
       "      <td>8.0</td>\n",
       "      <td>111</td>\n",
       "      <td>1</td>\n",
       "      <td>Current time schedule (January 2019) - ROLA</td>\n",
       "    </tr>\n",
       "    <tr>\n",
       "      <th>3</th>\n",
       "      <td>AT021 - Austria - Wörgl - Wörgl CCT</td>\n",
       "      <td>AT005 - Austria - Gries am Brenner - Brennersee</td>\n",
       "      <td>Rail</td>\n",
       "      <td>P195 - Rail Cargo Group</td>\n",
       "      <td>17.0</td>\n",
       "      <td>18.0</td>\n",
       "      <td>18.0</td>\n",
       "      <td>18.0</td>\n",
       "      <td>18.0</td>\n",
       "      <td>12.0</td>\n",
       "      <td>10.0</td>\n",
       "      <td>111</td>\n",
       "      <td>1</td>\n",
       "      <td>Current time schedule (January 2019) - ROLA</td>\n",
       "    </tr>\n",
       "    <tr>\n",
       "      <th>4</th>\n",
       "      <td>FR013 - France - Calais - Port Boulonge Calais</td>\n",
       "      <td>GB015 - United Kingdom - Dover - Port of Dover</td>\n",
       "      <td>Sea</td>\n",
       "      <td>P326 - DFDS Ferries</td>\n",
       "      <td>15.0</td>\n",
       "      <td>15.0</td>\n",
       "      <td>15.0</td>\n",
       "      <td>15.0</td>\n",
       "      <td>15.0</td>\n",
       "      <td>13.0</td>\n",
       "      <td>11.0</td>\n",
       "      <td>99</td>\n",
       "      <td>1</td>\n",
       "      <td>Current sailing schedule (Jan 2019)</td>\n",
       "    </tr>\n",
       "  </tbody>\n",
       "</table>\n",
       "</div>"
      ],
      "text/plain": [
       "                                   Origin terminal  \\\n",
       "0   FR013 - France - Calais - Port Boulonge Calais   \n",
       "1   GB015 - United Kingdom - Dover - Port of Dover   \n",
       "2  AT005 - Austria - Gries am Brenner - Brennersee   \n",
       "3              AT021 - Austria - Wörgl - Wörgl CCT   \n",
       "4   FR013 - France - Calais - Port Boulonge Calais   \n",
       "\n",
       "                              Destination terminal Modality  \\\n",
       "0   GB015 - United Kingdom - Dover - Port of Dover      Sea   \n",
       "1   FR013 - France - Calais - Port Boulonge Calais      Sea   \n",
       "2              AT021 - Austria - Wörgl - Wörgl CCT     Rail   \n",
       "3  AT005 - Austria - Gries am Brenner - Brennersee     Rail   \n",
       "4   GB015 - United Kingdom - Dover - Port of Dover      Sea   \n",
       "\n",
       "                   Carrier  Monday  Tuesday  Wednesday  Thursday  Friday  \\\n",
       "0       P304 - P&O Ferries    27.0     28.0       28.0      28.0    28.0   \n",
       "1       P304 - P&O Ferries    26.0     28.0       28.0      28.0    28.0   \n",
       "2  P195 - Rail Cargo Group    17.0     18.0       18.0      18.0    18.0   \n",
       "3  P195 - Rail Cargo Group    17.0     18.0       18.0      18.0    18.0   \n",
       "4      P326 - DFDS Ferries    15.0     15.0       15.0      15.0    15.0   \n",
       "\n",
       "   Saturday  Sunday  Number of departures per week  Transport time (days)  \\\n",
       "0      27.0    24.0                            190                      1   \n",
       "1      26.0    26.0                            190                      1   \n",
       "2      14.0     8.0                            111                      1   \n",
       "3      12.0    10.0                            111                      1   \n",
       "4      13.0    11.0                             99                      1   \n",
       "\n",
       "                                       Comment  \n",
       "0          Current sailing schedule (Jan 2019)  \n",
       "1          Current sailing schedule (Jan 2019)  \n",
       "2  Current time schedule (January 2019) - ROLA  \n",
       "3  Current time schedule (January 2019) - ROLA  \n",
       "4          Current sailing schedule (Jan 2019)  "
      ]
     },
     "execution_count": 3,
     "metadata": {},
     "output_type": "execute_result"
    }
   ],
   "source": [
    "df_2019.head()"
   ]
  },
  {
   "cell_type": "code",
   "execution_count": 4,
   "metadata": {
    "collapsed": true
   },
   "outputs": [],
   "source": [
    "# Replace NaN with 0\n",
    "df_2019.fillna(0, inplace=True)"
   ]
  },
  {
   "cell_type": "code",
   "execution_count": 5,
   "metadata": {},
   "outputs": [
    {
     "data": {
      "text/html": [
       "<div>\n",
       "<style scoped>\n",
       "    .dataframe tbody tr th:only-of-type {\n",
       "        vertical-align: middle;\n",
       "    }\n",
       "\n",
       "    .dataframe tbody tr th {\n",
       "        vertical-align: top;\n",
       "    }\n",
       "\n",
       "    .dataframe thead th {\n",
       "        text-align: right;\n",
       "    }\n",
       "</style>\n",
       "<table border=\"1\" class=\"dataframe\">\n",
       "  <thead>\n",
       "    <tr style=\"text-align: right;\">\n",
       "      <th></th>\n",
       "      <th>Origin terminal</th>\n",
       "      <th>Destination terminal</th>\n",
       "      <th>Modality</th>\n",
       "      <th>Carrier</th>\n",
       "      <th>Monday</th>\n",
       "      <th>Tuesday</th>\n",
       "      <th>Wednesday</th>\n",
       "      <th>Thursday</th>\n",
       "      <th>Friday</th>\n",
       "      <th>Saturday</th>\n",
       "      <th>Sunday</th>\n",
       "      <th>Number of departures per week</th>\n",
       "      <th>Transport time (days)</th>\n",
       "      <th>Comment</th>\n",
       "    </tr>\n",
       "  </thead>\n",
       "  <tbody>\n",
       "    <tr>\n",
       "      <th>0</th>\n",
       "      <td>FR013 - France - Calais - Port Boulonge Calais</td>\n",
       "      <td>GB015 - United Kingdom - Dover - Port of Dover</td>\n",
       "      <td>Sea</td>\n",
       "      <td>P304 - P&amp;O Ferries</td>\n",
       "      <td>27.0</td>\n",
       "      <td>28.0</td>\n",
       "      <td>28.0</td>\n",
       "      <td>28.0</td>\n",
       "      <td>28.0</td>\n",
       "      <td>27.0</td>\n",
       "      <td>24.0</td>\n",
       "      <td>190</td>\n",
       "      <td>1</td>\n",
       "      <td>Current sailing schedule (Jan 2019)</td>\n",
       "    </tr>\n",
       "    <tr>\n",
       "      <th>1</th>\n",
       "      <td>GB015 - United Kingdom - Dover - Port of Dover</td>\n",
       "      <td>FR013 - France - Calais - Port Boulonge Calais</td>\n",
       "      <td>Sea</td>\n",
       "      <td>P304 - P&amp;O Ferries</td>\n",
       "      <td>26.0</td>\n",
       "      <td>28.0</td>\n",
       "      <td>28.0</td>\n",
       "      <td>28.0</td>\n",
       "      <td>28.0</td>\n",
       "      <td>26.0</td>\n",
       "      <td>26.0</td>\n",
       "      <td>190</td>\n",
       "      <td>1</td>\n",
       "      <td>Current sailing schedule (Jan 2019)</td>\n",
       "    </tr>\n",
       "    <tr>\n",
       "      <th>2</th>\n",
       "      <td>AT005 - Austria - Gries am Brenner - Brennersee</td>\n",
       "      <td>AT021 - Austria - Wörgl - Wörgl CCT</td>\n",
       "      <td>Rail</td>\n",
       "      <td>P195 - Rail Cargo Group</td>\n",
       "      <td>17.0</td>\n",
       "      <td>18.0</td>\n",
       "      <td>18.0</td>\n",
       "      <td>18.0</td>\n",
       "      <td>18.0</td>\n",
       "      <td>14.0</td>\n",
       "      <td>8.0</td>\n",
       "      <td>111</td>\n",
       "      <td>1</td>\n",
       "      <td>Current time schedule (January 2019) - ROLA</td>\n",
       "    </tr>\n",
       "    <tr>\n",
       "      <th>3</th>\n",
       "      <td>AT021 - Austria - Wörgl - Wörgl CCT</td>\n",
       "      <td>AT005 - Austria - Gries am Brenner - Brennersee</td>\n",
       "      <td>Rail</td>\n",
       "      <td>P195 - Rail Cargo Group</td>\n",
       "      <td>17.0</td>\n",
       "      <td>18.0</td>\n",
       "      <td>18.0</td>\n",
       "      <td>18.0</td>\n",
       "      <td>18.0</td>\n",
       "      <td>12.0</td>\n",
       "      <td>10.0</td>\n",
       "      <td>111</td>\n",
       "      <td>1</td>\n",
       "      <td>Current time schedule (January 2019) - ROLA</td>\n",
       "    </tr>\n",
       "    <tr>\n",
       "      <th>4</th>\n",
       "      <td>FR013 - France - Calais - Port Boulonge Calais</td>\n",
       "      <td>GB015 - United Kingdom - Dover - Port of Dover</td>\n",
       "      <td>Sea</td>\n",
       "      <td>P326 - DFDS Ferries</td>\n",
       "      <td>15.0</td>\n",
       "      <td>15.0</td>\n",
       "      <td>15.0</td>\n",
       "      <td>15.0</td>\n",
       "      <td>15.0</td>\n",
       "      <td>13.0</td>\n",
       "      <td>11.0</td>\n",
       "      <td>99</td>\n",
       "      <td>1</td>\n",
       "      <td>Current sailing schedule (Jan 2019)</td>\n",
       "    </tr>\n",
       "  </tbody>\n",
       "</table>\n",
       "</div>"
      ],
      "text/plain": [
       "                                   Origin terminal  \\\n",
       "0   FR013 - France - Calais - Port Boulonge Calais   \n",
       "1   GB015 - United Kingdom - Dover - Port of Dover   \n",
       "2  AT005 - Austria - Gries am Brenner - Brennersee   \n",
       "3              AT021 - Austria - Wörgl - Wörgl CCT   \n",
       "4   FR013 - France - Calais - Port Boulonge Calais   \n",
       "\n",
       "                              Destination terminal Modality  \\\n",
       "0   GB015 - United Kingdom - Dover - Port of Dover      Sea   \n",
       "1   FR013 - France - Calais - Port Boulonge Calais      Sea   \n",
       "2              AT021 - Austria - Wörgl - Wörgl CCT     Rail   \n",
       "3  AT005 - Austria - Gries am Brenner - Brennersee     Rail   \n",
       "4   GB015 - United Kingdom - Dover - Port of Dover      Sea   \n",
       "\n",
       "                   Carrier  Monday  Tuesday  Wednesday  Thursday  Friday  \\\n",
       "0       P304 - P&O Ferries    27.0     28.0       28.0      28.0    28.0   \n",
       "1       P304 - P&O Ferries    26.0     28.0       28.0      28.0    28.0   \n",
       "2  P195 - Rail Cargo Group    17.0     18.0       18.0      18.0    18.0   \n",
       "3  P195 - Rail Cargo Group    17.0     18.0       18.0      18.0    18.0   \n",
       "4      P326 - DFDS Ferries    15.0     15.0       15.0      15.0    15.0   \n",
       "\n",
       "   Saturday  Sunday  Number of departures per week  Transport time (days)  \\\n",
       "0      27.0    24.0                            190                      1   \n",
       "1      26.0    26.0                            190                      1   \n",
       "2      14.0     8.0                            111                      1   \n",
       "3      12.0    10.0                            111                      1   \n",
       "4      13.0    11.0                             99                      1   \n",
       "\n",
       "                                       Comment  \n",
       "0          Current sailing schedule (Jan 2019)  \n",
       "1          Current sailing schedule (Jan 2019)  \n",
       "2  Current time schedule (January 2019) - ROLA  \n",
       "3  Current time schedule (January 2019) - ROLA  \n",
       "4          Current sailing schedule (Jan 2019)  "
      ]
     },
     "execution_count": 5,
     "metadata": {},
     "output_type": "execute_result"
    }
   ],
   "source": [
    "df_2019.head()"
   ]
  },
  {
   "cell_type": "code",
   "execution_count": 6,
   "metadata": {},
   "outputs": [
    {
     "data": {
      "text/plain": [
       "{'Inland shipping', 'Rail', 'Sea'}"
      ]
     },
     "execution_count": 6,
     "metadata": {},
     "output_type": "execute_result"
    }
   ],
   "source": [
    "set(df_2019[\"Modality\"])"
   ]
  },
  {
   "cell_type": "code",
   "execution_count": 7,
   "metadata": {
    "collapsed": true
   },
   "outputs": [],
   "source": [
    "# Setting new Dataframe\n",
    "columns_df_new = [\"O_Country_ID\", \"O_Country\", \"O_Terminal\", \"D_Country_ID\", \"D_Country\", \"D_Terminal\", \"Modality\", \"Carrier_ID\", \n",
    "          \"Carrier\", \"Monday\", \"Tuesday\", \"Wednesday\", \"Thursday\", \"Friday\", \"Saturday\", \"Sunday\", \"Departures_per_Week\", \n",
    "           \"Transport_Time(Days)\", \"Comment\"]"
   ]
  },
  {
   "cell_type": "code",
   "execution_count": 8,
   "metadata": {
    "collapsed": true
   },
   "outputs": [],
   "source": [
    "# Save the expansion of column to temporary dataframe\n",
    "df_new = df_2019[\"Origin terminal\"].str.split(\" - \", expand=True)\n",
    "df_new_2 = df_2019[\"Destination terminal\"].str.split(\" - \", expand=True)\n",
    "df_new_3 = df_2019[\"Carrier\"].str.split(\" - \", expand=True)"
   ]
  },
  {
   "cell_type": "code",
   "execution_count": 9,
   "metadata": {},
   "outputs": [
    {
     "data": {
      "text/html": [
       "<div>\n",
       "<style scoped>\n",
       "    .dataframe tbody tr th:only-of-type {\n",
       "        vertical-align: middle;\n",
       "    }\n",
       "\n",
       "    .dataframe tbody tr th {\n",
       "        vertical-align: top;\n",
       "    }\n",
       "\n",
       "    .dataframe thead th {\n",
       "        text-align: right;\n",
       "    }\n",
       "</style>\n",
       "<table border=\"1\" class=\"dataframe\">\n",
       "  <thead>\n",
       "    <tr style=\"text-align: right;\">\n",
       "      <th></th>\n",
       "      <th>0</th>\n",
       "      <th>1</th>\n",
       "      <th>2</th>\n",
       "      <th>3</th>\n",
       "      <th>4</th>\n",
       "    </tr>\n",
       "  </thead>\n",
       "  <tbody>\n",
       "    <tr>\n",
       "      <th>0</th>\n",
       "      <td>FR013</td>\n",
       "      <td>France</td>\n",
       "      <td>Calais</td>\n",
       "      <td>Port Boulonge Calais</td>\n",
       "      <td>None</td>\n",
       "    </tr>\n",
       "    <tr>\n",
       "      <th>1</th>\n",
       "      <td>GB015</td>\n",
       "      <td>United Kingdom</td>\n",
       "      <td>Dover</td>\n",
       "      <td>Port of Dover</td>\n",
       "      <td>None</td>\n",
       "    </tr>\n",
       "    <tr>\n",
       "      <th>2</th>\n",
       "      <td>AT005</td>\n",
       "      <td>Austria</td>\n",
       "      <td>Gries am Brenner</td>\n",
       "      <td>Brennersee</td>\n",
       "      <td>None</td>\n",
       "    </tr>\n",
       "    <tr>\n",
       "      <th>3</th>\n",
       "      <td>AT021</td>\n",
       "      <td>Austria</td>\n",
       "      <td>Wörgl</td>\n",
       "      <td>Wörgl CCT</td>\n",
       "      <td>None</td>\n",
       "    </tr>\n",
       "    <tr>\n",
       "      <th>4</th>\n",
       "      <td>FR013</td>\n",
       "      <td>France</td>\n",
       "      <td>Calais</td>\n",
       "      <td>Port Boulonge Calais</td>\n",
       "      <td>None</td>\n",
       "    </tr>\n",
       "  </tbody>\n",
       "</table>\n",
       "</div>"
      ],
      "text/plain": [
       "       0               1                 2                     3     4\n",
       "0  FR013          France            Calais  Port Boulonge Calais  None\n",
       "1  GB015  United Kingdom             Dover         Port of Dover  None\n",
       "2  AT005         Austria  Gries am Brenner            Brennersee  None\n",
       "3  AT021         Austria             Wörgl             Wörgl CCT  None\n",
       "4  FR013          France            Calais  Port Boulonge Calais  None"
      ]
     },
     "execution_count": 9,
     "metadata": {},
     "output_type": "execute_result"
    }
   ],
   "source": [
    "df_new.head()"
   ]
  },
  {
   "cell_type": "code",
   "execution_count": 11,
   "metadata": {
    "collapsed": true
   },
   "outputs": [],
   "source": [
    "df_new.columns = [\"O_Country_ID\", \"O_Country\", \"O_City\", \"O_Terminal\", \"Temp\"]"
   ]
  },
  {
   "cell_type": "code",
   "execution_count": 68,
   "metadata": {
    "collapsed": true
   },
   "outputs": [],
   "source": [
    "df_new[\"O_Terminal\"][df_new[\"Temp\"].apply(str) != 'None'] = df_new[\"O_Terminal\"].apply(str) + ' - ' + df_new[\"Temp\"].apply(str)"
   ]
  },
  {
   "cell_type": "code",
   "execution_count": 72,
   "metadata": {
    "collapsed": true
   },
   "outputs": [],
   "source": [
    "# Drop the 5th column since the information has been integrated to the O_Terminal\n",
    "df_new.drop(\"Temp\", axis= 1, inplace=True)"
   ]
  },
  {
   "cell_type": "code",
   "execution_count": 73,
   "metadata": {
    "collapsed": true
   },
   "outputs": [],
   "source": [
    "df_new_2.columns = [\"D_Country_ID\", \"D_Country\", \"D_City\", \"D_Terminal\", \"Temp_D\"]"
   ]
  },
  {
   "cell_type": "code",
   "execution_count": 75,
   "metadata": {
    "collapsed": true
   },
   "outputs": [],
   "source": [
    "df_new_2[\"D_Terminal\"][df_new_2[\"Temp_D\"].apply(str) != 'None'] = df_new_2[\"D_Terminal\"].apply(str) + ' - ' + df_new_2[\"Temp_D\"].apply(str)"
   ]
  },
  {
   "cell_type": "code",
   "execution_count": 83,
   "metadata": {
    "collapsed": true
   },
   "outputs": [],
   "source": [
    "df_new_2.drop(\"Temp_D\", axis=1, inplace=True)"
   ]
  },
  {
   "cell_type": "code",
   "execution_count": 78,
   "metadata": {
    "collapsed": true
   },
   "outputs": [],
   "source": [
    "df_new_3.columns = [\"Carrier_ID\", \"Carrier\", \"Temp_C\"]"
   ]
  },
  {
   "cell_type": "code",
   "execution_count": 82,
   "metadata": {
    "collapsed": true
   },
   "outputs": [],
   "source": [
    "#Merge carrier name to carrier column from temp table\n",
    "df_new_3[\"Carrier\"][df_new_3[\"Temp_C\"].apply(str) != 'None'] = df_new_3[\"Carrier\"].apply(str) + ' - ' + df_new_3[\"Temp_C\"].apply(str)"
   ]
  },
  {
   "cell_type": "code",
   "execution_count": 84,
   "metadata": {
    "collapsed": true
   },
   "outputs": [],
   "source": [
    "df_new_3.drop(\"Temp_C\", axis = 1, inplace = True)"
   ]
  },
  {
   "cell_type": "code",
   "execution_count": 104,
   "metadata": {
    "collapsed": true
   },
   "outputs": [],
   "source": [
    "df_new_4 = df_2019.iloc[:,2:]\n",
    "df_new_4.drop(\"Carrier\", axis = 1, inplace=True)"
   ]
  },
  {
   "cell_type": "code",
   "execution_count": 106,
   "metadata": {
    "collapsed": true
   },
   "outputs": [],
   "source": [
    "# Merge and concat all of the new table\n",
    "df_2019_final = pd.concat([df_new, df_new_2, df_new_3, df_new_4], axis=1)"
   ]
  },
  {
   "cell_type": "code",
   "execution_count": 109,
   "metadata": {},
   "outputs": [
    {
     "data": {
      "text/html": [
       "<div>\n",
       "<style>\n",
       "    .dataframe thead tr:only-child th {\n",
       "        text-align: right;\n",
       "    }\n",
       "\n",
       "    .dataframe thead th {\n",
       "        text-align: left;\n",
       "    }\n",
       "\n",
       "    .dataframe tbody tr th {\n",
       "        vertical-align: top;\n",
       "    }\n",
       "</style>\n",
       "<table border=\"1\" class=\"dataframe\">\n",
       "  <thead>\n",
       "    <tr style=\"text-align: right;\">\n",
       "      <th></th>\n",
       "      <th>O_Country_ID</th>\n",
       "      <th>O_Country</th>\n",
       "      <th>O_City</th>\n",
       "      <th>O_Terminal</th>\n",
       "      <th>D_Country_ID</th>\n",
       "      <th>D_Country</th>\n",
       "      <th>D_City</th>\n",
       "      <th>D_Terminal</th>\n",
       "      <th>Carrier_ID</th>\n",
       "      <th>Carrier</th>\n",
       "      <th>...</th>\n",
       "      <th>Monday</th>\n",
       "      <th>Tuesday</th>\n",
       "      <th>Wednesday</th>\n",
       "      <th>Thursday</th>\n",
       "      <th>Friday</th>\n",
       "      <th>Saturday</th>\n",
       "      <th>Sunday</th>\n",
       "      <th>Number of departures per week</th>\n",
       "      <th>Transport time (days)</th>\n",
       "      <th>Comment</th>\n",
       "    </tr>\n",
       "  </thead>\n",
       "  <tbody>\n",
       "    <tr>\n",
       "      <th>0</th>\n",
       "      <td>FR024</td>\n",
       "      <td>France</td>\n",
       "      <td>Dourges</td>\n",
       "      <td>Lille Dourges Container Terminal (LDCT)</td>\n",
       "      <td>FR083</td>\n",
       "      <td>France</td>\n",
       "      <td>Dunkerque</td>\n",
       "      <td>Nord France Terminal International (NFTI)</td>\n",
       "      <td>P280</td>\n",
       "      <td>Nord Ports Shuttle</td>\n",
       "      <td>...</td>\n",
       "      <td>1.0</td>\n",
       "      <td>0.0</td>\n",
       "      <td>0.0</td>\n",
       "      <td>1.0</td>\n",
       "      <td>0.0</td>\n",
       "      <td>0.0</td>\n",
       "      <td>0.0</td>\n",
       "      <td>2</td>\n",
       "      <td>2</td>\n",
       "      <td>Current time schedule (Jan 2015)</td>\n",
       "    </tr>\n",
       "    <tr>\n",
       "      <th>1</th>\n",
       "      <td>FR030</td>\n",
       "      <td>France</td>\n",
       "      <td>Lille</td>\n",
       "      <td>Lille Conteneurs Terminal (LCT)</td>\n",
       "      <td>FR083</td>\n",
       "      <td>France</td>\n",
       "      <td>Dunkerque</td>\n",
       "      <td>Nord France Terminal International (NFTI)</td>\n",
       "      <td>P280</td>\n",
       "      <td>Nord Ports Shuttle</td>\n",
       "      <td>...</td>\n",
       "      <td>1.0</td>\n",
       "      <td>0.0</td>\n",
       "      <td>0.0</td>\n",
       "      <td>1.0</td>\n",
       "      <td>0.0</td>\n",
       "      <td>0.0</td>\n",
       "      <td>0.0</td>\n",
       "      <td>2</td>\n",
       "      <td>2</td>\n",
       "      <td>Current time schedule (Jan 2015)</td>\n",
       "    </tr>\n",
       "    <tr>\n",
       "      <th>2</th>\n",
       "      <td>FR083</td>\n",
       "      <td>France</td>\n",
       "      <td>Dunkerque</td>\n",
       "      <td>Nord France Terminal International (NFTI)</td>\n",
       "      <td>FR024</td>\n",
       "      <td>France</td>\n",
       "      <td>Dourges</td>\n",
       "      <td>Lille Dourges Container Terminal (LDCT)</td>\n",
       "      <td>P280</td>\n",
       "      <td>Nord Ports Shuttle</td>\n",
       "      <td>...</td>\n",
       "      <td>0.0</td>\n",
       "      <td>0.0</td>\n",
       "      <td>0.0</td>\n",
       "      <td>0.0</td>\n",
       "      <td>0.0</td>\n",
       "      <td>1.0</td>\n",
       "      <td>0.0</td>\n",
       "      <td>1</td>\n",
       "      <td>2</td>\n",
       "      <td>Current time schedule (Jan 2015)</td>\n",
       "    </tr>\n",
       "    <tr>\n",
       "      <th>3</th>\n",
       "      <td>FR083</td>\n",
       "      <td>France</td>\n",
       "      <td>Dunkerque</td>\n",
       "      <td>Nord France Terminal International (NFTI)</td>\n",
       "      <td>FR024</td>\n",
       "      <td>France</td>\n",
       "      <td>Dourges</td>\n",
       "      <td>Lille Dourges Container Terminal (LDCT)</td>\n",
       "      <td>P280</td>\n",
       "      <td>Nord Ports Shuttle</td>\n",
       "      <td>...</td>\n",
       "      <td>0.0</td>\n",
       "      <td>0.0</td>\n",
       "      <td>1.0</td>\n",
       "      <td>0.0</td>\n",
       "      <td>0.0</td>\n",
       "      <td>0.0</td>\n",
       "      <td>0.0</td>\n",
       "      <td>1</td>\n",
       "      <td>1</td>\n",
       "      <td>Current time schedule (Jan 2015)</td>\n",
       "    </tr>\n",
       "    <tr>\n",
       "      <th>4</th>\n",
       "      <td>FR083</td>\n",
       "      <td>France</td>\n",
       "      <td>Dunkerque</td>\n",
       "      <td>Nord France Terminal International (NFTI)</td>\n",
       "      <td>FR030</td>\n",
       "      <td>France</td>\n",
       "      <td>Lille</td>\n",
       "      <td>Lille Conteneurs Terminal (LCT)</td>\n",
       "      <td>P280</td>\n",
       "      <td>Nord Ports Shuttle</td>\n",
       "      <td>...</td>\n",
       "      <td>0.0</td>\n",
       "      <td>0.0</td>\n",
       "      <td>0.0</td>\n",
       "      <td>0.0</td>\n",
       "      <td>0.0</td>\n",
       "      <td>1.0</td>\n",
       "      <td>0.0</td>\n",
       "      <td>1</td>\n",
       "      <td>2</td>\n",
       "      <td>Current time schedule (Jan 2015)</td>\n",
       "    </tr>\n",
       "  </tbody>\n",
       "</table>\n",
       "<p>5 rows × 21 columns</p>\n",
       "</div>"
      ],
      "text/plain": [
       "  O_Country_ID O_Country     O_City  \\\n",
       "0        FR024    France    Dourges   \n",
       "1        FR030    France      Lille   \n",
       "2        FR083    France  Dunkerque   \n",
       "3        FR083    France  Dunkerque   \n",
       "4        FR083    France  Dunkerque   \n",
       "\n",
       "                                  O_Terminal D_Country_ID D_Country  \\\n",
       "0    Lille Dourges Container Terminal (LDCT)        FR083    France   \n",
       "1            Lille Conteneurs Terminal (LCT)        FR083    France   \n",
       "2  Nord France Terminal International (NFTI)        FR024    France   \n",
       "3  Nord France Terminal International (NFTI)        FR024    France   \n",
       "4  Nord France Terminal International (NFTI)        FR030    France   \n",
       "\n",
       "      D_City                                 D_Terminal Carrier_ID  \\\n",
       "0  Dunkerque  Nord France Terminal International (NFTI)       P280   \n",
       "1  Dunkerque  Nord France Terminal International (NFTI)       P280   \n",
       "2    Dourges    Lille Dourges Container Terminal (LDCT)       P280   \n",
       "3    Dourges    Lille Dourges Container Terminal (LDCT)       P280   \n",
       "4      Lille            Lille Conteneurs Terminal (LCT)       P280   \n",
       "\n",
       "              Carrier                ...                Monday  Tuesday  \\\n",
       "0  Nord Ports Shuttle                ...                   1.0      0.0   \n",
       "1  Nord Ports Shuttle                ...                   1.0      0.0   \n",
       "2  Nord Ports Shuttle                ...                   0.0      0.0   \n",
       "3  Nord Ports Shuttle                ...                   0.0      0.0   \n",
       "4  Nord Ports Shuttle                ...                   0.0      0.0   \n",
       "\n",
       "   Wednesday  Thursday  Friday  Saturday  Sunday  \\\n",
       "0        0.0       1.0     0.0       0.0     0.0   \n",
       "1        0.0       1.0     0.0       0.0     0.0   \n",
       "2        0.0       0.0     0.0       1.0     0.0   \n",
       "3        1.0       0.0     0.0       0.0     0.0   \n",
       "4        0.0       0.0     0.0       1.0     0.0   \n",
       "\n",
       "   Number of departures per week  Transport time (days)  \\\n",
       "0                              2                      2   \n",
       "1                              2                      2   \n",
       "2                              1                      2   \n",
       "3                              1                      1   \n",
       "4                              1                      2   \n",
       "\n",
       "                            Comment  \n",
       "0  Current time schedule (Jan 2015)  \n",
       "1  Current time schedule (Jan 2015)  \n",
       "2  Current time schedule (Jan 2015)  \n",
       "3  Current time schedule (Jan 2015)  \n",
       "4  Current time schedule (Jan 2015)  \n",
       "\n",
       "[5 rows x 21 columns]"
      ]
     },
     "execution_count": 109,
     "metadata": {},
     "output_type": "execute_result"
    }
   ],
   "source": [
    "df_2019_final.head()"
   ]
  },
  {
   "cell_type": "code",
   "execution_count": 110,
   "metadata": {
    "collapsed": true
   },
   "outputs": [],
   "source": [
    "df_2019_final.to_excel(\"01_Raw_data/201902_raw_08042019.xlsx\")"
   ]
  },
  {
   "cell_type": "code",
   "execution_count": null,
   "metadata": {
    "collapsed": true
   },
   "outputs": [],
   "source": []
  }
 ],
 "metadata": {
  "kernelspec": {
   "display_name": "Python 3",
   "language": "python",
   "name": "python3"
  },
  "language_info": {
   "codemirror_mode": {
    "name": "ipython",
    "version": 3
   },
   "file_extension": ".py",
   "mimetype": "text/x-python",
   "name": "python",
   "nbconvert_exporter": "python",
   "pygments_lexer": "ipython3",
   "version": "3.6.8"
  }
 },
 "nbformat": 4,
 "nbformat_minor": 2
}
