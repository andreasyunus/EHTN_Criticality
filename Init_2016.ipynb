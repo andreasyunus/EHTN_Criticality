{
 "cells": [
  {
   "cell_type": "code",
   "execution_count": 1,
   "metadata": {
    "collapsed": true
   },
   "outputs": [],
   "source": [
    "import pandas as pd\n",
    "import numpy as np"
   ]
  },
  {
   "cell_type": "code",
   "execution_count": 2,
   "metadata": {
    "collapsed": true
   },
   "outputs": [],
   "source": [
    "# This Python has an intention to combine all 2016 file into one dataframe and shape it accordingly"
   ]
  },
  {
   "cell_type": "markdown",
   "metadata": {},
   "source": [
    "# Column Modification"
   ]
  },
  {
   "cell_type": "code",
   "execution_count": 3,
   "metadata": {
    "collapsed": true
   },
   "outputs": [],
   "source": [
    "df_2016_02 = pd.read_excel(\"01_Raw_data/201602_raw.xlsx\")"
   ]
  },
  {
   "cell_type": "code",
   "execution_count": 4,
   "metadata": {
    "collapsed": true
   },
   "outputs": [],
   "source": [
    "df_2016_08 = pd.read_excel(\"01_Raw_data/201608_raw.xlsx\")"
   ]
  },
  {
   "cell_type": "code",
   "execution_count": 5,
   "metadata": {},
   "outputs": [
    {
     "data": {
      "text/html": [
       "<div>\n",
       "<style scoped>\n",
       "    .dataframe tbody tr th:only-of-type {\n",
       "        vertical-align: middle;\n",
       "    }\n",
       "\n",
       "    .dataframe tbody tr th {\n",
       "        vertical-align: top;\n",
       "    }\n",
       "\n",
       "    .dataframe thead th {\n",
       "        text-align: right;\n",
       "    }\n",
       "</style>\n",
       "<table border=\"1\" class=\"dataframe\">\n",
       "  <thead>\n",
       "    <tr style=\"text-align: right;\">\n",
       "      <th></th>\n",
       "      <th>ID</th>\n",
       "      <th>Origin country</th>\n",
       "      <th>Origin city</th>\n",
       "      <th>Origin terminal</th>\n",
       "      <th>Destination country</th>\n",
       "      <th>Destination city</th>\n",
       "      <th>Destination terminal</th>\n",
       "      <th>Transport modality</th>\n",
       "      <th>Carrier</th>\n",
       "      <th>D1</th>\n",
       "      <th>D2</th>\n",
       "      <th>D3</th>\n",
       "      <th>D4</th>\n",
       "      <th>D5</th>\n",
       "      <th>D6</th>\n",
       "      <th>D7</th>\n",
       "      <th>Frequency per week</th>\n",
       "      <th>Travel time (days)</th>\n",
       "    </tr>\n",
       "  </thead>\n",
       "  <tbody>\n",
       "    <tr>\n",
       "      <th>0</th>\n",
       "      <td>8507</td>\n",
       "      <td>Poland</td>\n",
       "      <td>Gdansk</td>\n",
       "      <td>Gdansk Deepwater Container Terminal</td>\n",
       "      <td>Poland</td>\n",
       "      <td>Poznan</td>\n",
       "      <td>Terminal Kontenerowy Loconi Intermodal S.A.</td>\n",
       "      <td>Rail</td>\n",
       "      <td>Loconi</td>\n",
       "      <td>0</td>\n",
       "      <td>1</td>\n",
       "      <td>0</td>\n",
       "      <td>0</td>\n",
       "      <td>0</td>\n",
       "      <td>1</td>\n",
       "      <td>0</td>\n",
       "      <td>2</td>\n",
       "      <td>1</td>\n",
       "    </tr>\n",
       "    <tr>\n",
       "      <th>1</th>\n",
       "      <td>8508</td>\n",
       "      <td>Poland</td>\n",
       "      <td>Gdansk</td>\n",
       "      <td>Gdansk Deepwater Container Terminal</td>\n",
       "      <td>Poland</td>\n",
       "      <td>Radomsko</td>\n",
       "      <td>Terminal Kontenerowy Loconi Intermodal S.A.</td>\n",
       "      <td>Rail</td>\n",
       "      <td>Loconi</td>\n",
       "      <td>0</td>\n",
       "      <td>1</td>\n",
       "      <td>0</td>\n",
       "      <td>0</td>\n",
       "      <td>1</td>\n",
       "      <td>0</td>\n",
       "      <td>0</td>\n",
       "      <td>2</td>\n",
       "      <td>1</td>\n",
       "    </tr>\n",
       "    <tr>\n",
       "      <th>2</th>\n",
       "      <td>8509</td>\n",
       "      <td>Poland</td>\n",
       "      <td>Gdynia</td>\n",
       "      <td>Baltic Container Terminal</td>\n",
       "      <td>Poland</td>\n",
       "      <td>Warsaw</td>\n",
       "      <td>Terminal not specified</td>\n",
       "      <td>Rail</td>\n",
       "      <td>Loconi</td>\n",
       "      <td>1</td>\n",
       "      <td>0</td>\n",
       "      <td>0</td>\n",
       "      <td>1</td>\n",
       "      <td>0</td>\n",
       "      <td>0</td>\n",
       "      <td>0</td>\n",
       "      <td>2</td>\n",
       "      <td>1</td>\n",
       "    </tr>\n",
       "    <tr>\n",
       "      <th>3</th>\n",
       "      <td>8510</td>\n",
       "      <td>Poland</td>\n",
       "      <td>Gdynia</td>\n",
       "      <td>Baltic Container Terminal</td>\n",
       "      <td>Poland</td>\n",
       "      <td>Poznan</td>\n",
       "      <td>Terminal Kontenerowy Loconi Intermodal S.A.</td>\n",
       "      <td>Rail</td>\n",
       "      <td>Loconi</td>\n",
       "      <td>1</td>\n",
       "      <td>0</td>\n",
       "      <td>0</td>\n",
       "      <td>1</td>\n",
       "      <td>0</td>\n",
       "      <td>0</td>\n",
       "      <td>0</td>\n",
       "      <td>2</td>\n",
       "      <td>1</td>\n",
       "    </tr>\n",
       "    <tr>\n",
       "      <th>4</th>\n",
       "      <td>8511</td>\n",
       "      <td>Poland</td>\n",
       "      <td>Gdynia</td>\n",
       "      <td>Baltic Container Terminal</td>\n",
       "      <td>Poland</td>\n",
       "      <td>Radomsko</td>\n",
       "      <td>Terminal Kontenerowy Loconi Intermodal S.A.</td>\n",
       "      <td>Rail</td>\n",
       "      <td>Loconi</td>\n",
       "      <td>1</td>\n",
       "      <td>0</td>\n",
       "      <td>0</td>\n",
       "      <td>1</td>\n",
       "      <td>0</td>\n",
       "      <td>0</td>\n",
       "      <td>0</td>\n",
       "      <td>2</td>\n",
       "      <td>1</td>\n",
       "    </tr>\n",
       "  </tbody>\n",
       "</table>\n",
       "</div>"
      ],
      "text/plain": [
       "     ID Origin country Origin city                      Origin terminal  \\\n",
       "0  8507         Poland      Gdansk  Gdansk Deepwater Container Terminal   \n",
       "1  8508         Poland      Gdansk  Gdansk Deepwater Container Terminal   \n",
       "2  8509         Poland      Gdynia            Baltic Container Terminal   \n",
       "3  8510         Poland      Gdynia            Baltic Container Terminal   \n",
       "4  8511         Poland      Gdynia            Baltic Container Terminal   \n",
       "\n",
       "  Destination country Destination city  \\\n",
       "0              Poland           Poznan   \n",
       "1              Poland         Radomsko   \n",
       "2              Poland           Warsaw   \n",
       "3              Poland           Poznan   \n",
       "4              Poland         Radomsko   \n",
       "\n",
       "                          Destination terminal Transport modality Carrier  D1  \\\n",
       "0  Terminal Kontenerowy Loconi Intermodal S.A.               Rail  Loconi   0   \n",
       "1  Terminal Kontenerowy Loconi Intermodal S.A.               Rail  Loconi   0   \n",
       "2                       Terminal not specified               Rail  Loconi   1   \n",
       "3  Terminal Kontenerowy Loconi Intermodal S.A.               Rail  Loconi   1   \n",
       "4  Terminal Kontenerowy Loconi Intermodal S.A.               Rail  Loconi   1   \n",
       "\n",
       "   D2  D3  D4  D5  D6  D7  Frequency per week  Travel time (days)  \n",
       "0   1   0   0   0   1   0                   2                   1  \n",
       "1   1   0   0   1   0   0                   2                   1  \n",
       "2   0   0   1   0   0   0                   2                   1  \n",
       "3   0   0   1   0   0   0                   2                   1  \n",
       "4   0   0   1   0   0   0                   2                   1  "
      ]
     },
     "execution_count": 5,
     "metadata": {},
     "output_type": "execute_result"
    }
   ],
   "source": [
    "df_2016_02.head()"
   ]
  },
  {
   "cell_type": "markdown",
   "metadata": {},
   "source": [
    "# Structure Modification of 2016_08 data"
   ]
  },
  {
   "cell_type": "code",
   "execution_count": 6,
   "metadata": {},
   "outputs": [
    {
     "data": {
      "text/html": [
       "<div>\n",
       "<style scoped>\n",
       "    .dataframe tbody tr th:only-of-type {\n",
       "        vertical-align: middle;\n",
       "    }\n",
       "\n",
       "    .dataframe tbody tr th {\n",
       "        vertical-align: top;\n",
       "    }\n",
       "\n",
       "    .dataframe thead th {\n",
       "        text-align: right;\n",
       "    }\n",
       "</style>\n",
       "<table border=\"1\" class=\"dataframe\">\n",
       "  <thead>\n",
       "    <tr style=\"text-align: right;\">\n",
       "      <th></th>\n",
       "      <th>ID</th>\n",
       "      <th>Origin terminal</th>\n",
       "      <th>Destination terminal</th>\n",
       "      <th>Transportation mode</th>\n",
       "      <th>Carrier</th>\n",
       "      <th>Monday</th>\n",
       "      <th>Tuesday</th>\n",
       "      <th>Wednesday</th>\n",
       "      <th>Thursday</th>\n",
       "      <th>Friday</th>\n",
       "      <th>Saturday</th>\n",
       "      <th>Sunday</th>\n",
       "      <th>Number of departures per week</th>\n",
       "      <th>Transport time (days)</th>\n",
       "      <th>Comment</th>\n",
       "    </tr>\n",
       "  </thead>\n",
       "  <tbody>\n",
       "    <tr>\n",
       "      <th>0</th>\n",
       "      <td>8507</td>\n",
       "      <td>PL004 - Poland - Gdansk - Gdansk Deepwater Con...</td>\n",
       "      <td>PL052 - Poland - Poznan - Terminal Kontenerowy...</td>\n",
       "      <td>Rail</td>\n",
       "      <td>P230 - Loconi</td>\n",
       "      <td>NaN</td>\n",
       "      <td>1.0</td>\n",
       "      <td>NaN</td>\n",
       "      <td>NaN</td>\n",
       "      <td>NaN</td>\n",
       "      <td>1.0</td>\n",
       "      <td>NaN</td>\n",
       "      <td>2</td>\n",
       "      <td>1</td>\n",
       "      <td>Current time schedule (Oct 2014)</td>\n",
       "    </tr>\n",
       "    <tr>\n",
       "      <th>1</th>\n",
       "      <td>8508</td>\n",
       "      <td>PL004 - Poland - Gdansk - Gdansk Deepwater Con...</td>\n",
       "      <td>PL053 - Poland - Radomsko - Terminal Kontenero...</td>\n",
       "      <td>Rail</td>\n",
       "      <td>P230 - Loconi</td>\n",
       "      <td>NaN</td>\n",
       "      <td>1.0</td>\n",
       "      <td>NaN</td>\n",
       "      <td>NaN</td>\n",
       "      <td>1.0</td>\n",
       "      <td>NaN</td>\n",
       "      <td>NaN</td>\n",
       "      <td>2</td>\n",
       "      <td>1</td>\n",
       "      <td>Current time schedule (Oct 2014)</td>\n",
       "    </tr>\n",
       "    <tr>\n",
       "      <th>2</th>\n",
       "      <td>8509</td>\n",
       "      <td>PL006 - Poland - Gdynia - Baltic Container Ter...</td>\n",
       "      <td>PL046 - Poland - Warsaw - Terminal not specified</td>\n",
       "      <td>Rail</td>\n",
       "      <td>P230 - Loconi</td>\n",
       "      <td>1.0</td>\n",
       "      <td>NaN</td>\n",
       "      <td>NaN</td>\n",
       "      <td>1.0</td>\n",
       "      <td>NaN</td>\n",
       "      <td>NaN</td>\n",
       "      <td>NaN</td>\n",
       "      <td>2</td>\n",
       "      <td>1</td>\n",
       "      <td>Current time schedule (Oct 2014)</td>\n",
       "    </tr>\n",
       "    <tr>\n",
       "      <th>3</th>\n",
       "      <td>8510</td>\n",
       "      <td>PL006 - Poland - Gdynia - Baltic Container Ter...</td>\n",
       "      <td>PL052 - Poland - Poznan - Terminal Kontenerowy...</td>\n",
       "      <td>Rail</td>\n",
       "      <td>P230 - Loconi</td>\n",
       "      <td>1.0</td>\n",
       "      <td>NaN</td>\n",
       "      <td>NaN</td>\n",
       "      <td>1.0</td>\n",
       "      <td>NaN</td>\n",
       "      <td>NaN</td>\n",
       "      <td>NaN</td>\n",
       "      <td>2</td>\n",
       "      <td>1</td>\n",
       "      <td>Current time schedule (Oct 2014)</td>\n",
       "    </tr>\n",
       "    <tr>\n",
       "      <th>4</th>\n",
       "      <td>8511</td>\n",
       "      <td>PL006 - Poland - Gdynia - Baltic Container Ter...</td>\n",
       "      <td>PL053 - Poland - Radomsko - Terminal Kontenero...</td>\n",
       "      <td>Rail</td>\n",
       "      <td>P230 - Loconi</td>\n",
       "      <td>1.0</td>\n",
       "      <td>NaN</td>\n",
       "      <td>NaN</td>\n",
       "      <td>1.0</td>\n",
       "      <td>NaN</td>\n",
       "      <td>NaN</td>\n",
       "      <td>NaN</td>\n",
       "      <td>2</td>\n",
       "      <td>1</td>\n",
       "      <td>Current time schedule (Oct 2014)</td>\n",
       "    </tr>\n",
       "  </tbody>\n",
       "</table>\n",
       "</div>"
      ],
      "text/plain": [
       "     ID                                    Origin terminal  \\\n",
       "0  8507  PL004 - Poland - Gdansk - Gdansk Deepwater Con...   \n",
       "1  8508  PL004 - Poland - Gdansk - Gdansk Deepwater Con...   \n",
       "2  8509  PL006 - Poland - Gdynia - Baltic Container Ter...   \n",
       "3  8510  PL006 - Poland - Gdynia - Baltic Container Ter...   \n",
       "4  8511  PL006 - Poland - Gdynia - Baltic Container Ter...   \n",
       "\n",
       "                                Destination terminal Transportation mode  \\\n",
       "0  PL052 - Poland - Poznan - Terminal Kontenerowy...                Rail   \n",
       "1  PL053 - Poland - Radomsko - Terminal Kontenero...                Rail   \n",
       "2   PL046 - Poland - Warsaw - Terminal not specified                Rail   \n",
       "3  PL052 - Poland - Poznan - Terminal Kontenerowy...                Rail   \n",
       "4  PL053 - Poland - Radomsko - Terminal Kontenero...                Rail   \n",
       "\n",
       "         Carrier  Monday  Tuesday  Wednesday  Thursday  Friday  Saturday  \\\n",
       "0  P230 - Loconi     NaN      1.0        NaN       NaN     NaN       1.0   \n",
       "1  P230 - Loconi     NaN      1.0        NaN       NaN     1.0       NaN   \n",
       "2  P230 - Loconi     1.0      NaN        NaN       1.0     NaN       NaN   \n",
       "3  P230 - Loconi     1.0      NaN        NaN       1.0     NaN       NaN   \n",
       "4  P230 - Loconi     1.0      NaN        NaN       1.0     NaN       NaN   \n",
       "\n",
       "   Sunday  Number of departures per week  Transport time (days)  \\\n",
       "0     NaN                              2                      1   \n",
       "1     NaN                              2                      1   \n",
       "2     NaN                              2                      1   \n",
       "3     NaN                              2                      1   \n",
       "4     NaN                              2                      1   \n",
       "\n",
       "                            Comment  \n",
       "0  Current time schedule (Oct 2014)  \n",
       "1  Current time schedule (Oct 2014)  \n",
       "2  Current time schedule (Oct 2014)  \n",
       "3  Current time schedule (Oct 2014)  \n",
       "4  Current time schedule (Oct 2014)  "
      ]
     },
     "execution_count": 6,
     "metadata": {},
     "output_type": "execute_result"
    }
   ],
   "source": [
    "df_2016_08.head()"
   ]
  },
  {
   "cell_type": "code",
   "execution_count": 7,
   "metadata": {
    "collapsed": true
   },
   "outputs": [],
   "source": [
    "# Replace NaN with 0\n",
    "df_2016_08.fillna(0, inplace=True)"
   ]
  },
  {
   "cell_type": "code",
   "execution_count": 8,
   "metadata": {},
   "outputs": [
    {
     "data": {
      "text/plain": [
       "{'Inland shipping', 'Rail', 'Sea'}"
      ]
     },
     "execution_count": 8,
     "metadata": {},
     "output_type": "execute_result"
    }
   ],
   "source": [
    "set(df_2016_08[\"Transportation mode\"])"
   ]
  },
  {
   "cell_type": "code",
   "execution_count": 9,
   "metadata": {
    "collapsed": true
   },
   "outputs": [],
   "source": [
    "# Setting new Dataframe\n",
    "columns_df_2016_08_new = ['ID',\"O_Country_ID\", \"O_Country\", \"O_Terminal\", \"D_Country_ID\", \"D_Country\", \"D_Terminal\", \"Modality\", \"Carrier_ID\", \n",
    "          \"Carrier\", \"Monday\", \"Tuesday\", \"Wednesday\", \"Thursday\", \"Friday\", \"Saturday\", \"Sunday\", \"Departures_per_Week\", \n",
    "           \"Transport_Time(Days)\", \"Comment\"]"
   ]
  },
  {
   "cell_type": "code",
   "execution_count": 10,
   "metadata": {
    "collapsed": true
   },
   "outputs": [],
   "source": [
    "# Save the expansion of column to temporary dataframe\n",
    "df_new = df_2016_08[\"Origin terminal\"].str.split(\" - \", expand=True)\n",
    "df_new_2 = df_2016_08[\"Destination terminal\"].str.split(\" - \", expand=True)\n",
    "df_new_3 = df_2016_08[\"Carrier\"].str.split(\" - \", expand=True)"
   ]
  },
  {
   "cell_type": "code",
   "execution_count": 11,
   "metadata": {},
   "outputs": [
    {
     "data": {
      "text/html": [
       "<div>\n",
       "<style scoped>\n",
       "    .dataframe tbody tr th:only-of-type {\n",
       "        vertical-align: middle;\n",
       "    }\n",
       "\n",
       "    .dataframe tbody tr th {\n",
       "        vertical-align: top;\n",
       "    }\n",
       "\n",
       "    .dataframe thead th {\n",
       "        text-align: right;\n",
       "    }\n",
       "</style>\n",
       "<table border=\"1\" class=\"dataframe\">\n",
       "  <thead>\n",
       "    <tr style=\"text-align: right;\">\n",
       "      <th></th>\n",
       "      <th>0</th>\n",
       "      <th>1</th>\n",
       "      <th>2</th>\n",
       "      <th>3</th>\n",
       "    </tr>\n",
       "  </thead>\n",
       "  <tbody>\n",
       "    <tr>\n",
       "      <th>0</th>\n",
       "      <td>PL004</td>\n",
       "      <td>Poland</td>\n",
       "      <td>Gdansk</td>\n",
       "      <td>Gdansk Deepwater Container Terminal</td>\n",
       "    </tr>\n",
       "    <tr>\n",
       "      <th>1</th>\n",
       "      <td>PL004</td>\n",
       "      <td>Poland</td>\n",
       "      <td>Gdansk</td>\n",
       "      <td>Gdansk Deepwater Container Terminal</td>\n",
       "    </tr>\n",
       "    <tr>\n",
       "      <th>2</th>\n",
       "      <td>PL006</td>\n",
       "      <td>Poland</td>\n",
       "      <td>Gdynia</td>\n",
       "      <td>Baltic Container Terminal</td>\n",
       "    </tr>\n",
       "    <tr>\n",
       "      <th>3</th>\n",
       "      <td>PL006</td>\n",
       "      <td>Poland</td>\n",
       "      <td>Gdynia</td>\n",
       "      <td>Baltic Container Terminal</td>\n",
       "    </tr>\n",
       "    <tr>\n",
       "      <th>4</th>\n",
       "      <td>PL006</td>\n",
       "      <td>Poland</td>\n",
       "      <td>Gdynia</td>\n",
       "      <td>Baltic Container Terminal</td>\n",
       "    </tr>\n",
       "  </tbody>\n",
       "</table>\n",
       "</div>"
      ],
      "text/plain": [
       "       0       1       2                                    3\n",
       "0  PL004  Poland  Gdansk  Gdansk Deepwater Container Terminal\n",
       "1  PL004  Poland  Gdansk  Gdansk Deepwater Container Terminal\n",
       "2  PL006  Poland  Gdynia            Baltic Container Terminal\n",
       "3  PL006  Poland  Gdynia            Baltic Container Terminal\n",
       "4  PL006  Poland  Gdynia            Baltic Container Terminal"
      ]
     },
     "execution_count": 11,
     "metadata": {},
     "output_type": "execute_result"
    }
   ],
   "source": [
    "df_new.head()"
   ]
  },
  {
   "cell_type": "code",
   "execution_count": 12,
   "metadata": {
    "collapsed": true
   },
   "outputs": [],
   "source": [
    "df_new.columns = [\"O_Country_ID\", \"O_Country\", \"O_City\", \"O_Terminal\"]"
   ]
  },
  {
   "cell_type": "code",
   "execution_count": 13,
   "metadata": {},
   "outputs": [
    {
     "data": {
      "text/html": [
       "<div>\n",
       "<style scoped>\n",
       "    .dataframe tbody tr th:only-of-type {\n",
       "        vertical-align: middle;\n",
       "    }\n",
       "\n",
       "    .dataframe tbody tr th {\n",
       "        vertical-align: top;\n",
       "    }\n",
       "\n",
       "    .dataframe thead th {\n",
       "        text-align: right;\n",
       "    }\n",
       "</style>\n",
       "<table border=\"1\" class=\"dataframe\">\n",
       "  <thead>\n",
       "    <tr style=\"text-align: right;\">\n",
       "      <th></th>\n",
       "      <th>0</th>\n",
       "      <th>1</th>\n",
       "      <th>2</th>\n",
       "      <th>3</th>\n",
       "    </tr>\n",
       "  </thead>\n",
       "  <tbody>\n",
       "    <tr>\n",
       "      <th>0</th>\n",
       "      <td>PL052</td>\n",
       "      <td>Poland</td>\n",
       "      <td>Poznan</td>\n",
       "      <td>Terminal Kontenerowy Loconi Intermodal S.A.</td>\n",
       "    </tr>\n",
       "    <tr>\n",
       "      <th>1</th>\n",
       "      <td>PL053</td>\n",
       "      <td>Poland</td>\n",
       "      <td>Radomsko</td>\n",
       "      <td>Terminal Kontenerowy Loconi Intermodal S.A.</td>\n",
       "    </tr>\n",
       "    <tr>\n",
       "      <th>2</th>\n",
       "      <td>PL046</td>\n",
       "      <td>Poland</td>\n",
       "      <td>Warsaw</td>\n",
       "      <td>Terminal not specified</td>\n",
       "    </tr>\n",
       "    <tr>\n",
       "      <th>3</th>\n",
       "      <td>PL052</td>\n",
       "      <td>Poland</td>\n",
       "      <td>Poznan</td>\n",
       "      <td>Terminal Kontenerowy Loconi Intermodal S.A.</td>\n",
       "    </tr>\n",
       "    <tr>\n",
       "      <th>4</th>\n",
       "      <td>PL053</td>\n",
       "      <td>Poland</td>\n",
       "      <td>Radomsko</td>\n",
       "      <td>Terminal Kontenerowy Loconi Intermodal S.A.</td>\n",
       "    </tr>\n",
       "  </tbody>\n",
       "</table>\n",
       "</div>"
      ],
      "text/plain": [
       "       0       1         2                                            3\n",
       "0  PL052  Poland    Poznan  Terminal Kontenerowy Loconi Intermodal S.A.\n",
       "1  PL053  Poland  Radomsko  Terminal Kontenerowy Loconi Intermodal S.A.\n",
       "2  PL046  Poland    Warsaw                       Terminal not specified\n",
       "3  PL052  Poland    Poznan  Terminal Kontenerowy Loconi Intermodal S.A.\n",
       "4  PL053  Poland  Radomsko  Terminal Kontenerowy Loconi Intermodal S.A."
      ]
     },
     "execution_count": 13,
     "metadata": {},
     "output_type": "execute_result"
    }
   ],
   "source": [
    "df_new_2.head()"
   ]
  },
  {
   "cell_type": "code",
   "execution_count": 14,
   "metadata": {
    "collapsed": true
   },
   "outputs": [],
   "source": [
    "df_new_2.columns = [\"D_Country_ID\", \"D_Country\", \"D_City\", \"D_Terminal\"]"
   ]
  },
  {
   "cell_type": "code",
   "execution_count": 15,
   "metadata": {},
   "outputs": [
    {
     "data": {
      "text/html": [
       "<div>\n",
       "<style scoped>\n",
       "    .dataframe tbody tr th:only-of-type {\n",
       "        vertical-align: middle;\n",
       "    }\n",
       "\n",
       "    .dataframe tbody tr th {\n",
       "        vertical-align: top;\n",
       "    }\n",
       "\n",
       "    .dataframe thead th {\n",
       "        text-align: right;\n",
       "    }\n",
       "</style>\n",
       "<table border=\"1\" class=\"dataframe\">\n",
       "  <thead>\n",
       "    <tr style=\"text-align: right;\">\n",
       "      <th></th>\n",
       "      <th>0</th>\n",
       "      <th>1</th>\n",
       "      <th>2</th>\n",
       "    </tr>\n",
       "  </thead>\n",
       "  <tbody>\n",
       "    <tr>\n",
       "      <th>0</th>\n",
       "      <td>P230</td>\n",
       "      <td>Loconi</td>\n",
       "      <td>None</td>\n",
       "    </tr>\n",
       "    <tr>\n",
       "      <th>1</th>\n",
       "      <td>P230</td>\n",
       "      <td>Loconi</td>\n",
       "      <td>None</td>\n",
       "    </tr>\n",
       "    <tr>\n",
       "      <th>2</th>\n",
       "      <td>P230</td>\n",
       "      <td>Loconi</td>\n",
       "      <td>None</td>\n",
       "    </tr>\n",
       "    <tr>\n",
       "      <th>3</th>\n",
       "      <td>P230</td>\n",
       "      <td>Loconi</td>\n",
       "      <td>None</td>\n",
       "    </tr>\n",
       "    <tr>\n",
       "      <th>4</th>\n",
       "      <td>P230</td>\n",
       "      <td>Loconi</td>\n",
       "      <td>None</td>\n",
       "    </tr>\n",
       "  </tbody>\n",
       "</table>\n",
       "</div>"
      ],
      "text/plain": [
       "      0       1     2\n",
       "0  P230  Loconi  None\n",
       "1  P230  Loconi  None\n",
       "2  P230  Loconi  None\n",
       "3  P230  Loconi  None\n",
       "4  P230  Loconi  None"
      ]
     },
     "execution_count": 15,
     "metadata": {},
     "output_type": "execute_result"
    }
   ],
   "source": [
    "df_new_3.head()"
   ]
  },
  {
   "cell_type": "code",
   "execution_count": 16,
   "metadata": {
    "collapsed": true
   },
   "outputs": [],
   "source": [
    "df_new_3.columns = [\"Carrier_ID\", \"Carrier\", \"Temp_C\"]"
   ]
  },
  {
   "cell_type": "code",
   "execution_count": 17,
   "metadata": {
    "collapsed": true
   },
   "outputs": [],
   "source": [
    "#Merge carrier name to carrier column from temp table\n",
    "df_new_3[\"Carrier\"][df_new_3[\"Temp_C\"].apply(str) != 'None'] = df_new_3[\"Carrier\"].apply(str) + ' - ' + df_new_3[\"Temp_C\"].apply(str)"
   ]
  },
  {
   "cell_type": "code",
   "execution_count": 18,
   "metadata": {
    "collapsed": true
   },
   "outputs": [],
   "source": [
    "df_new_3.drop(\"Temp_C\", axis = 1, inplace = True)"
   ]
  },
  {
   "cell_type": "code",
   "execution_count": 19,
   "metadata": {},
   "outputs": [
    {
     "data": {
      "text/plain": [
       "Index(['ID', 'Origin terminal', 'Destination terminal', 'Transportation mode',\n",
       "       'Carrier', 'Monday', 'Tuesday', 'Wednesday', 'Thursday', 'Friday',\n",
       "       'Saturday', 'Sunday', 'Number of departures per week',\n",
       "       'Transport time (days)', 'Comment'],\n",
       "      dtype='object')"
      ]
     },
     "execution_count": 19,
     "metadata": {},
     "output_type": "execute_result"
    }
   ],
   "source": [
    "df_2016_08.columns"
   ]
  },
  {
   "cell_type": "code",
   "execution_count": 20,
   "metadata": {
    "collapsed": true
   },
   "outputs": [],
   "source": [
    "df_new_4 = df_2016_08.iloc[:,:]\n",
    "df_new_4.drop(['Origin terminal', 'Destination terminal', 'Carrier','Comment'], axis = 1, inplace=True)"
   ]
  },
  {
   "cell_type": "code",
   "execution_count": 21,
   "metadata": {},
   "outputs": [
    {
     "data": {
      "text/html": [
       "<div>\n",
       "<style scoped>\n",
       "    .dataframe tbody tr th:only-of-type {\n",
       "        vertical-align: middle;\n",
       "    }\n",
       "\n",
       "    .dataframe tbody tr th {\n",
       "        vertical-align: top;\n",
       "    }\n",
       "\n",
       "    .dataframe thead th {\n",
       "        text-align: right;\n",
       "    }\n",
       "</style>\n",
       "<table border=\"1\" class=\"dataframe\">\n",
       "  <thead>\n",
       "    <tr style=\"text-align: right;\">\n",
       "      <th></th>\n",
       "      <th>ID</th>\n",
       "      <th>Transportation mode</th>\n",
       "      <th>Monday</th>\n",
       "      <th>Tuesday</th>\n",
       "      <th>Wednesday</th>\n",
       "      <th>Thursday</th>\n",
       "      <th>Friday</th>\n",
       "      <th>Saturday</th>\n",
       "      <th>Sunday</th>\n",
       "      <th>Number of departures per week</th>\n",
       "      <th>Transport time (days)</th>\n",
       "    </tr>\n",
       "  </thead>\n",
       "  <tbody>\n",
       "    <tr>\n",
       "      <th>0</th>\n",
       "      <td>8507</td>\n",
       "      <td>Rail</td>\n",
       "      <td>0.0</td>\n",
       "      <td>1.0</td>\n",
       "      <td>0.0</td>\n",
       "      <td>0.0</td>\n",
       "      <td>0.0</td>\n",
       "      <td>1.0</td>\n",
       "      <td>0.0</td>\n",
       "      <td>2</td>\n",
       "      <td>1</td>\n",
       "    </tr>\n",
       "    <tr>\n",
       "      <th>1</th>\n",
       "      <td>8508</td>\n",
       "      <td>Rail</td>\n",
       "      <td>0.0</td>\n",
       "      <td>1.0</td>\n",
       "      <td>0.0</td>\n",
       "      <td>0.0</td>\n",
       "      <td>1.0</td>\n",
       "      <td>0.0</td>\n",
       "      <td>0.0</td>\n",
       "      <td>2</td>\n",
       "      <td>1</td>\n",
       "    </tr>\n",
       "    <tr>\n",
       "      <th>2</th>\n",
       "      <td>8509</td>\n",
       "      <td>Rail</td>\n",
       "      <td>1.0</td>\n",
       "      <td>0.0</td>\n",
       "      <td>0.0</td>\n",
       "      <td>1.0</td>\n",
       "      <td>0.0</td>\n",
       "      <td>0.0</td>\n",
       "      <td>0.0</td>\n",
       "      <td>2</td>\n",
       "      <td>1</td>\n",
       "    </tr>\n",
       "    <tr>\n",
       "      <th>3</th>\n",
       "      <td>8510</td>\n",
       "      <td>Rail</td>\n",
       "      <td>1.0</td>\n",
       "      <td>0.0</td>\n",
       "      <td>0.0</td>\n",
       "      <td>1.0</td>\n",
       "      <td>0.0</td>\n",
       "      <td>0.0</td>\n",
       "      <td>0.0</td>\n",
       "      <td>2</td>\n",
       "      <td>1</td>\n",
       "    </tr>\n",
       "    <tr>\n",
       "      <th>4</th>\n",
       "      <td>8511</td>\n",
       "      <td>Rail</td>\n",
       "      <td>1.0</td>\n",
       "      <td>0.0</td>\n",
       "      <td>0.0</td>\n",
       "      <td>1.0</td>\n",
       "      <td>0.0</td>\n",
       "      <td>0.0</td>\n",
       "      <td>0.0</td>\n",
       "      <td>2</td>\n",
       "      <td>1</td>\n",
       "    </tr>\n",
       "  </tbody>\n",
       "</table>\n",
       "</div>"
      ],
      "text/plain": [
       "     ID Transportation mode  Monday  Tuesday  Wednesday  Thursday  Friday  \\\n",
       "0  8507                Rail     0.0      1.0        0.0       0.0     0.0   \n",
       "1  8508                Rail     0.0      1.0        0.0       0.0     1.0   \n",
       "2  8509                Rail     1.0      0.0        0.0       1.0     0.0   \n",
       "3  8510                Rail     1.0      0.0        0.0       1.0     0.0   \n",
       "4  8511                Rail     1.0      0.0        0.0       1.0     0.0   \n",
       "\n",
       "   Saturday  Sunday  Number of departures per week  Transport time (days)  \n",
       "0       1.0     0.0                              2                      1  \n",
       "1       0.0     0.0                              2                      1  \n",
       "2       0.0     0.0                              2                      1  \n",
       "3       0.0     0.0                              2                      1  \n",
       "4       0.0     0.0                              2                      1  "
      ]
     },
     "execution_count": 21,
     "metadata": {},
     "output_type": "execute_result"
    }
   ],
   "source": [
    "df_new_4.head()"
   ]
  },
  {
   "cell_type": "code",
   "execution_count": 22,
   "metadata": {
    "collapsed": true
   },
   "outputs": [],
   "source": [
    "# Merge and concat all of the new table\n",
    "df_2016_08_final = pd.concat([df_new, df_new_2, df_new_3, df_new_4], axis=1)"
   ]
  },
  {
   "cell_type": "markdown",
   "metadata": {},
   "source": [
    "# Merge dataframe 2016_08 and 2016_02"
   ]
  },
  {
   "cell_type": "code",
   "execution_count": 23,
   "metadata": {
    "collapsed": true
   },
   "outputs": [],
   "source": [
    "# Standarizing all columns"
   ]
  },
  {
   "cell_type": "code",
   "execution_count": 24,
   "metadata": {
    "collapsed": true
   },
   "outputs": [],
   "source": [
    "# Drop the unavailable columns - origin country ID and destination country ID\n",
    "df_2016_08_final.drop(['O_Country_ID','D_Country_ID'], axis= 1, inplace=True)"
   ]
  },
  {
   "cell_type": "code",
   "execution_count": 25,
   "metadata": {
    "collapsed": true
   },
   "outputs": [],
   "source": [
    "df_2016_08_final.drop(['Carrier_ID'], axis= 1, inplace=True)"
   ]
  },
  {
   "cell_type": "code",
   "execution_count": 26,
   "metadata": {
    "collapsed": true
   },
   "outputs": [],
   "source": [
    "df_2016_02.columns = ['ID', 'O_Country', 'O_City', 'O_Terminal',\n",
    "       'D_Country', 'D_City', 'D_Terminal',\n",
    "       'Transportation mode', 'Carrier', 'Monday', 'Tuesday', 'Wednesday', 'Thursday', 'Friday',\n",
    "       'Saturday', 'Sunday', 'Number of departures per week',\n",
    "       'Transport time (days)']"
   ]
  },
  {
   "cell_type": "code",
   "execution_count": 27,
   "metadata": {},
   "outputs": [
    {
     "data": {
      "text/html": [
       "<div>\n",
       "<style scoped>\n",
       "    .dataframe tbody tr th:only-of-type {\n",
       "        vertical-align: middle;\n",
       "    }\n",
       "\n",
       "    .dataframe tbody tr th {\n",
       "        vertical-align: top;\n",
       "    }\n",
       "\n",
       "    .dataframe thead th {\n",
       "        text-align: right;\n",
       "    }\n",
       "</style>\n",
       "<table border=\"1\" class=\"dataframe\">\n",
       "  <thead>\n",
       "    <tr style=\"text-align: right;\">\n",
       "      <th></th>\n",
       "      <th>ID</th>\n",
       "      <th>O_Country</th>\n",
       "      <th>O_City</th>\n",
       "      <th>O_Terminal</th>\n",
       "      <th>D_Country</th>\n",
       "      <th>D_City</th>\n",
       "      <th>D_Terminal</th>\n",
       "      <th>Transportation mode</th>\n",
       "      <th>Carrier</th>\n",
       "      <th>Monday</th>\n",
       "      <th>Tuesday</th>\n",
       "      <th>Wednesday</th>\n",
       "      <th>Thursday</th>\n",
       "      <th>Friday</th>\n",
       "      <th>Saturday</th>\n",
       "      <th>Sunday</th>\n",
       "      <th>Number of departures per week</th>\n",
       "      <th>Transport time (days)</th>\n",
       "    </tr>\n",
       "  </thead>\n",
       "  <tbody>\n",
       "    <tr>\n",
       "      <th>0</th>\n",
       "      <td>8507</td>\n",
       "      <td>Poland</td>\n",
       "      <td>Gdansk</td>\n",
       "      <td>Gdansk Deepwater Container Terminal</td>\n",
       "      <td>Poland</td>\n",
       "      <td>Poznan</td>\n",
       "      <td>Terminal Kontenerowy Loconi Intermodal S.A.</td>\n",
       "      <td>Rail</td>\n",
       "      <td>Loconi</td>\n",
       "      <td>0</td>\n",
       "      <td>1</td>\n",
       "      <td>0</td>\n",
       "      <td>0</td>\n",
       "      <td>0</td>\n",
       "      <td>1</td>\n",
       "      <td>0</td>\n",
       "      <td>2</td>\n",
       "      <td>1</td>\n",
       "    </tr>\n",
       "    <tr>\n",
       "      <th>1</th>\n",
       "      <td>8508</td>\n",
       "      <td>Poland</td>\n",
       "      <td>Gdansk</td>\n",
       "      <td>Gdansk Deepwater Container Terminal</td>\n",
       "      <td>Poland</td>\n",
       "      <td>Radomsko</td>\n",
       "      <td>Terminal Kontenerowy Loconi Intermodal S.A.</td>\n",
       "      <td>Rail</td>\n",
       "      <td>Loconi</td>\n",
       "      <td>0</td>\n",
       "      <td>1</td>\n",
       "      <td>0</td>\n",
       "      <td>0</td>\n",
       "      <td>1</td>\n",
       "      <td>0</td>\n",
       "      <td>0</td>\n",
       "      <td>2</td>\n",
       "      <td>1</td>\n",
       "    </tr>\n",
       "    <tr>\n",
       "      <th>2</th>\n",
       "      <td>8509</td>\n",
       "      <td>Poland</td>\n",
       "      <td>Gdynia</td>\n",
       "      <td>Baltic Container Terminal</td>\n",
       "      <td>Poland</td>\n",
       "      <td>Warsaw</td>\n",
       "      <td>Terminal not specified</td>\n",
       "      <td>Rail</td>\n",
       "      <td>Loconi</td>\n",
       "      <td>1</td>\n",
       "      <td>0</td>\n",
       "      <td>0</td>\n",
       "      <td>1</td>\n",
       "      <td>0</td>\n",
       "      <td>0</td>\n",
       "      <td>0</td>\n",
       "      <td>2</td>\n",
       "      <td>1</td>\n",
       "    </tr>\n",
       "    <tr>\n",
       "      <th>3</th>\n",
       "      <td>8510</td>\n",
       "      <td>Poland</td>\n",
       "      <td>Gdynia</td>\n",
       "      <td>Baltic Container Terminal</td>\n",
       "      <td>Poland</td>\n",
       "      <td>Poznan</td>\n",
       "      <td>Terminal Kontenerowy Loconi Intermodal S.A.</td>\n",
       "      <td>Rail</td>\n",
       "      <td>Loconi</td>\n",
       "      <td>1</td>\n",
       "      <td>0</td>\n",
       "      <td>0</td>\n",
       "      <td>1</td>\n",
       "      <td>0</td>\n",
       "      <td>0</td>\n",
       "      <td>0</td>\n",
       "      <td>2</td>\n",
       "      <td>1</td>\n",
       "    </tr>\n",
       "    <tr>\n",
       "      <th>4</th>\n",
       "      <td>8511</td>\n",
       "      <td>Poland</td>\n",
       "      <td>Gdynia</td>\n",
       "      <td>Baltic Container Terminal</td>\n",
       "      <td>Poland</td>\n",
       "      <td>Radomsko</td>\n",
       "      <td>Terminal Kontenerowy Loconi Intermodal S.A.</td>\n",
       "      <td>Rail</td>\n",
       "      <td>Loconi</td>\n",
       "      <td>1</td>\n",
       "      <td>0</td>\n",
       "      <td>0</td>\n",
       "      <td>1</td>\n",
       "      <td>0</td>\n",
       "      <td>0</td>\n",
       "      <td>0</td>\n",
       "      <td>2</td>\n",
       "      <td>1</td>\n",
       "    </tr>\n",
       "  </tbody>\n",
       "</table>\n",
       "</div>"
      ],
      "text/plain": [
       "     ID O_Country  O_City                           O_Terminal D_Country  \\\n",
       "0  8507    Poland  Gdansk  Gdansk Deepwater Container Terminal    Poland   \n",
       "1  8508    Poland  Gdansk  Gdansk Deepwater Container Terminal    Poland   \n",
       "2  8509    Poland  Gdynia            Baltic Container Terminal    Poland   \n",
       "3  8510    Poland  Gdynia            Baltic Container Terminal    Poland   \n",
       "4  8511    Poland  Gdynia            Baltic Container Terminal    Poland   \n",
       "\n",
       "     D_City                                   D_Terminal Transportation mode  \\\n",
       "0    Poznan  Terminal Kontenerowy Loconi Intermodal S.A.                Rail   \n",
       "1  Radomsko  Terminal Kontenerowy Loconi Intermodal S.A.                Rail   \n",
       "2    Warsaw                       Terminal not specified                Rail   \n",
       "3    Poznan  Terminal Kontenerowy Loconi Intermodal S.A.                Rail   \n",
       "4  Radomsko  Terminal Kontenerowy Loconi Intermodal S.A.                Rail   \n",
       "\n",
       "  Carrier  Monday  Tuesday  Wednesday  Thursday  Friday  Saturday  Sunday  \\\n",
       "0  Loconi       0        1          0         0       0         1       0   \n",
       "1  Loconi       0        1          0         0       1         0       0   \n",
       "2  Loconi       1        0          0         1       0         0       0   \n",
       "3  Loconi       1        0          0         1       0         0       0   \n",
       "4  Loconi       1        0          0         1       0         0       0   \n",
       "\n",
       "   Number of departures per week  Transport time (days)  \n",
       "0                              2                      1  \n",
       "1                              2                      1  \n",
       "2                              2                      1  \n",
       "3                              2                      1  \n",
       "4                              2                      1  "
      ]
     },
     "execution_count": 27,
     "metadata": {},
     "output_type": "execute_result"
    }
   ],
   "source": [
    "df_2016_02.head()"
   ]
  },
  {
   "cell_type": "code",
   "execution_count": 28,
   "metadata": {},
   "outputs": [
    {
     "data": {
      "text/plain": [
       "12778"
      ]
     },
     "execution_count": 28,
     "metadata": {},
     "output_type": "execute_result"
    }
   ],
   "source": [
    "len(df_2016_08_final)"
   ]
  },
  {
   "cell_type": "code",
   "execution_count": 29,
   "metadata": {},
   "outputs": [
    {
     "data": {
      "text/plain": [
       "12968"
      ]
     },
     "execution_count": 29,
     "metadata": {},
     "output_type": "execute_result"
    }
   ],
   "source": [
    "len(df_2016_02)"
   ]
  },
  {
   "cell_type": "code",
   "execution_count": 30,
   "metadata": {
    "collapsed": true
   },
   "outputs": [],
   "source": [
    "# Combine to dataframe and eliminate the duplicates"
   ]
  },
  {
   "cell_type": "code",
   "execution_count": 31,
   "metadata": {
    "collapsed": true
   },
   "outputs": [],
   "source": [
    "df_2016 = pd.concat([df_2016_08_final, df_2016_02], sort=False)"
   ]
  },
  {
   "cell_type": "code",
   "execution_count": 37,
   "metadata": {
    "collapsed": true
   },
   "outputs": [],
   "source": [
    "df_2016.drop_duplicates(inplace=True)"
   ]
  },
  {
   "cell_type": "code",
   "execution_count": 41,
   "metadata": {
    "collapsed": true,
    "scrolled": false
   },
   "outputs": [],
   "source": [
    "df_2016.reset_index(drop=True, inplace=True)"
   ]
  },
  {
   "cell_type": "code",
   "execution_count": 43,
   "metadata": {
    "scrolled": false
   },
   "outputs": [
    {
     "data": {
      "text/html": [
       "<div>\n",
       "<style scoped>\n",
       "    .dataframe tbody tr th:only-of-type {\n",
       "        vertical-align: middle;\n",
       "    }\n",
       "\n",
       "    .dataframe tbody tr th {\n",
       "        vertical-align: top;\n",
       "    }\n",
       "\n",
       "    .dataframe thead th {\n",
       "        text-align: right;\n",
       "    }\n",
       "</style>\n",
       "<table border=\"1\" class=\"dataframe\">\n",
       "  <thead>\n",
       "    <tr style=\"text-align: right;\">\n",
       "      <th></th>\n",
       "      <th>O_Country</th>\n",
       "      <th>O_City</th>\n",
       "      <th>O_Terminal</th>\n",
       "      <th>D_Country</th>\n",
       "      <th>D_City</th>\n",
       "      <th>D_Terminal</th>\n",
       "      <th>Carrier</th>\n",
       "      <th>ID</th>\n",
       "      <th>Transportation mode</th>\n",
       "      <th>Monday</th>\n",
       "      <th>Tuesday</th>\n",
       "      <th>Wednesday</th>\n",
       "      <th>Thursday</th>\n",
       "      <th>Friday</th>\n",
       "      <th>Saturday</th>\n",
       "      <th>Sunday</th>\n",
       "      <th>Number of departures per week</th>\n",
       "      <th>Transport time (days)</th>\n",
       "    </tr>\n",
       "  </thead>\n",
       "  <tbody>\n",
       "    <tr>\n",
       "      <th>0</th>\n",
       "      <td>Poland</td>\n",
       "      <td>Gdansk</td>\n",
       "      <td>Gdansk Deepwater Container Terminal</td>\n",
       "      <td>Poland</td>\n",
       "      <td>Poznan</td>\n",
       "      <td>Terminal Kontenerowy Loconi Intermodal S.A.</td>\n",
       "      <td>Loconi</td>\n",
       "      <td>8507</td>\n",
       "      <td>Rail</td>\n",
       "      <td>0.0</td>\n",
       "      <td>1.0</td>\n",
       "      <td>0.0</td>\n",
       "      <td>0.0</td>\n",
       "      <td>0.0</td>\n",
       "      <td>1.0</td>\n",
       "      <td>0.0</td>\n",
       "      <td>2</td>\n",
       "      <td>1</td>\n",
       "    </tr>\n",
       "    <tr>\n",
       "      <th>1</th>\n",
       "      <td>Poland</td>\n",
       "      <td>Gdansk</td>\n",
       "      <td>Gdansk Deepwater Container Terminal</td>\n",
       "      <td>Poland</td>\n",
       "      <td>Radomsko</td>\n",
       "      <td>Terminal Kontenerowy Loconi Intermodal S.A.</td>\n",
       "      <td>Loconi</td>\n",
       "      <td>8508</td>\n",
       "      <td>Rail</td>\n",
       "      <td>0.0</td>\n",
       "      <td>1.0</td>\n",
       "      <td>0.0</td>\n",
       "      <td>0.0</td>\n",
       "      <td>1.0</td>\n",
       "      <td>0.0</td>\n",
       "      <td>0.0</td>\n",
       "      <td>2</td>\n",
       "      <td>1</td>\n",
       "    </tr>\n",
       "    <tr>\n",
       "      <th>2</th>\n",
       "      <td>Poland</td>\n",
       "      <td>Gdynia</td>\n",
       "      <td>Baltic Container Terminal</td>\n",
       "      <td>Poland</td>\n",
       "      <td>Warsaw</td>\n",
       "      <td>Terminal not specified</td>\n",
       "      <td>Loconi</td>\n",
       "      <td>8509</td>\n",
       "      <td>Rail</td>\n",
       "      <td>1.0</td>\n",
       "      <td>0.0</td>\n",
       "      <td>0.0</td>\n",
       "      <td>1.0</td>\n",
       "      <td>0.0</td>\n",
       "      <td>0.0</td>\n",
       "      <td>0.0</td>\n",
       "      <td>2</td>\n",
       "      <td>1</td>\n",
       "    </tr>\n",
       "    <tr>\n",
       "      <th>3</th>\n",
       "      <td>Poland</td>\n",
       "      <td>Gdynia</td>\n",
       "      <td>Baltic Container Terminal</td>\n",
       "      <td>Poland</td>\n",
       "      <td>Poznan</td>\n",
       "      <td>Terminal Kontenerowy Loconi Intermodal S.A.</td>\n",
       "      <td>Loconi</td>\n",
       "      <td>8510</td>\n",
       "      <td>Rail</td>\n",
       "      <td>1.0</td>\n",
       "      <td>0.0</td>\n",
       "      <td>0.0</td>\n",
       "      <td>1.0</td>\n",
       "      <td>0.0</td>\n",
       "      <td>0.0</td>\n",
       "      <td>0.0</td>\n",
       "      <td>2</td>\n",
       "      <td>1</td>\n",
       "    </tr>\n",
       "    <tr>\n",
       "      <th>4</th>\n",
       "      <td>Poland</td>\n",
       "      <td>Gdynia</td>\n",
       "      <td>Baltic Container Terminal</td>\n",
       "      <td>Poland</td>\n",
       "      <td>Radomsko</td>\n",
       "      <td>Terminal Kontenerowy Loconi Intermodal S.A.</td>\n",
       "      <td>Loconi</td>\n",
       "      <td>8511</td>\n",
       "      <td>Rail</td>\n",
       "      <td>1.0</td>\n",
       "      <td>0.0</td>\n",
       "      <td>0.0</td>\n",
       "      <td>1.0</td>\n",
       "      <td>0.0</td>\n",
       "      <td>0.0</td>\n",
       "      <td>0.0</td>\n",
       "      <td>2</td>\n",
       "      <td>1</td>\n",
       "    </tr>\n",
       "  </tbody>\n",
       "</table>\n",
       "</div>"
      ],
      "text/plain": [
       "  O_Country  O_City                           O_Terminal D_Country    D_City  \\\n",
       "0    Poland  Gdansk  Gdansk Deepwater Container Terminal    Poland    Poznan   \n",
       "1    Poland  Gdansk  Gdansk Deepwater Container Terminal    Poland  Radomsko   \n",
       "2    Poland  Gdynia            Baltic Container Terminal    Poland    Warsaw   \n",
       "3    Poland  Gdynia            Baltic Container Terminal    Poland    Poznan   \n",
       "4    Poland  Gdynia            Baltic Container Terminal    Poland  Radomsko   \n",
       "\n",
       "                                    D_Terminal Carrier    ID  \\\n",
       "0  Terminal Kontenerowy Loconi Intermodal S.A.  Loconi  8507   \n",
       "1  Terminal Kontenerowy Loconi Intermodal S.A.  Loconi  8508   \n",
       "2                       Terminal not specified  Loconi  8509   \n",
       "3  Terminal Kontenerowy Loconi Intermodal S.A.  Loconi  8510   \n",
       "4  Terminal Kontenerowy Loconi Intermodal S.A.  Loconi  8511   \n",
       "\n",
       "  Transportation mode  Monday  Tuesday  Wednesday  Thursday  Friday  Saturday  \\\n",
       "0                Rail     0.0      1.0        0.0       0.0     0.0       1.0   \n",
       "1                Rail     0.0      1.0        0.0       0.0     1.0       0.0   \n",
       "2                Rail     1.0      0.0        0.0       1.0     0.0       0.0   \n",
       "3                Rail     1.0      0.0        0.0       1.0     0.0       0.0   \n",
       "4                Rail     1.0      0.0        0.0       1.0     0.0       0.0   \n",
       "\n",
       "   Sunday  Number of departures per week  Transport time (days)  \n",
       "0     0.0                              2                      1  \n",
       "1     0.0                              2                      1  \n",
       "2     0.0                              2                      1  \n",
       "3     0.0                              2                      1  \n",
       "4     0.0                              2                      1  "
      ]
     },
     "execution_count": 43,
     "metadata": {},
     "output_type": "execute_result"
    }
   ],
   "source": [
    "df_2016.head()"
   ]
  },
  {
   "cell_type": "code",
   "execution_count": 44,
   "metadata": {
    "collapsed": true
   },
   "outputs": [],
   "source": [
    "df_2016.to_excel(\"2016_raw_08062019.xlsx\")"
   ]
  },
  {
   "cell_type": "code",
   "execution_count": null,
   "metadata": {
    "collapsed": true
   },
   "outputs": [],
   "source": []
  }
 ],
 "metadata": {
  "kernelspec": {
   "display_name": "Python 3",
   "language": "python",
   "name": "python3"
  },
  "language_info": {
   "codemirror_mode": {
    "name": "ipython",
    "version": 3
   },
   "file_extension": ".py",
   "mimetype": "text/x-python",
   "name": "python",
   "nbconvert_exporter": "python",
   "pygments_lexer": "ipython3",
   "version": "3.6.8"
  }
 },
 "nbformat": 4,
 "nbformat_minor": 2
}
