{
 "cells": [
  {
   "cell_type": "code",
   "execution_count": 1,
   "metadata": {
    "collapsed": true
   },
   "outputs": [],
   "source": [
    "import pandas as pd\n",
    "import numpy as np"
   ]
  },
  {
   "cell_type": "markdown",
   "metadata": {},
   "source": [
    "# Data Modification"
   ]
  },
  {
   "cell_type": "code",
   "execution_count": 2,
   "metadata": {
    "collapsed": true
   },
   "outputs": [],
   "source": [
    "# 2017_10 data doesn't have ID field"
   ]
  },
  {
   "cell_type": "code",
   "execution_count": 3,
   "metadata": {
    "collapsed": true
   },
   "outputs": [],
   "source": [
    "df_2017_02 = pd.read_excel(\"01_Raw_data/201702_raw.xlsx\")\n",
    "df_2017_10 = pd.read_excel(\"01_Raw_data/201710_raw.xlsx\")"
   ]
  },
  {
   "cell_type": "code",
   "execution_count": 4,
   "metadata": {},
   "outputs": [
    {
     "data": {
      "text/html": [
       "<div>\n",
       "<style scoped>\n",
       "    .dataframe tbody tr th:only-of-type {\n",
       "        vertical-align: middle;\n",
       "    }\n",
       "\n",
       "    .dataframe tbody tr th {\n",
       "        vertical-align: top;\n",
       "    }\n",
       "\n",
       "    .dataframe thead th {\n",
       "        text-align: right;\n",
       "    }\n",
       "</style>\n",
       "<table border=\"1\" class=\"dataframe\">\n",
       "  <thead>\n",
       "    <tr style=\"text-align: right;\">\n",
       "      <th></th>\n",
       "      <th>ID</th>\n",
       "      <th>Origin terminal</th>\n",
       "      <th>Destination terminal</th>\n",
       "      <th>Transportation mode</th>\n",
       "      <th>Carrier</th>\n",
       "      <th>Monday</th>\n",
       "      <th>Tuesday</th>\n",
       "      <th>Wednesday</th>\n",
       "      <th>Thursday</th>\n",
       "      <th>Friday</th>\n",
       "      <th>Saturday</th>\n",
       "      <th>Sunday</th>\n",
       "      <th>Number of departures per week</th>\n",
       "      <th>Transport time (days)</th>\n",
       "    </tr>\n",
       "  </thead>\n",
       "  <tbody>\n",
       "    <tr>\n",
       "      <th>0</th>\n",
       "      <td>10480</td>\n",
       "      <td>BE033 - Belgium - Antwerp - PSA Terminals (Noo...</td>\n",
       "      <td>NL050 - Netherlands - Terneuzen - Zeeland Cont...</td>\n",
       "      <td>Inland shipping</td>\n",
       "      <td>P238 - United Container Transport (UCT)</td>\n",
       "      <td>1.0</td>\n",
       "      <td>1.0</td>\n",
       "      <td>1.0</td>\n",
       "      <td>1.0</td>\n",
       "      <td>1.0</td>\n",
       "      <td>NaN</td>\n",
       "      <td>NaN</td>\n",
       "      <td>5</td>\n",
       "      <td>1</td>\n",
       "    </tr>\n",
       "    <tr>\n",
       "      <th>1</th>\n",
       "      <td>10483</td>\n",
       "      <td>BE033 - Belgium - Antwerp - PSA Terminals (Noo...</td>\n",
       "      <td>NL087 - Netherlands - Terneuzen - Outokumpu Te...</td>\n",
       "      <td>Inland shipping</td>\n",
       "      <td>P238 - United Container Transport (UCT)</td>\n",
       "      <td>1.0</td>\n",
       "      <td>1.0</td>\n",
       "      <td>1.0</td>\n",
       "      <td>1.0</td>\n",
       "      <td>1.0</td>\n",
       "      <td>NaN</td>\n",
       "      <td>NaN</td>\n",
       "      <td>5</td>\n",
       "      <td>1</td>\n",
       "    </tr>\n",
       "    <tr>\n",
       "      <th>2</th>\n",
       "      <td>10484</td>\n",
       "      <td>BE033 - Belgium - Antwerp - PSA Terminals (Noo...</td>\n",
       "      <td>NL088 - Netherlands - Terneuzen - Mammoet Mult...</td>\n",
       "      <td>Inland shipping</td>\n",
       "      <td>P238 - United Container Transport (UCT)</td>\n",
       "      <td>1.0</td>\n",
       "      <td>1.0</td>\n",
       "      <td>1.0</td>\n",
       "      <td>1.0</td>\n",
       "      <td>1.0</td>\n",
       "      <td>NaN</td>\n",
       "      <td>NaN</td>\n",
       "      <td>5</td>\n",
       "      <td>1</td>\n",
       "    </tr>\n",
       "    <tr>\n",
       "      <th>3</th>\n",
       "      <td>10489</td>\n",
       "      <td>BE044 - Belgium - Antwerp - Associated Termina...</td>\n",
       "      <td>NL050 - Netherlands - Terneuzen - Zeeland Cont...</td>\n",
       "      <td>Inland shipping</td>\n",
       "      <td>P238 - United Container Transport (UCT)</td>\n",
       "      <td>1.0</td>\n",
       "      <td>1.0</td>\n",
       "      <td>1.0</td>\n",
       "      <td>1.0</td>\n",
       "      <td>1.0</td>\n",
       "      <td>NaN</td>\n",
       "      <td>NaN</td>\n",
       "      <td>5</td>\n",
       "      <td>1</td>\n",
       "    </tr>\n",
       "    <tr>\n",
       "      <th>4</th>\n",
       "      <td>10492</td>\n",
       "      <td>BE044 - Belgium - Antwerp - Associated Termina...</td>\n",
       "      <td>NL087 - Netherlands - Terneuzen - Outokumpu Te...</td>\n",
       "      <td>Inland shipping</td>\n",
       "      <td>P238 - United Container Transport (UCT)</td>\n",
       "      <td>1.0</td>\n",
       "      <td>1.0</td>\n",
       "      <td>1.0</td>\n",
       "      <td>1.0</td>\n",
       "      <td>1.0</td>\n",
       "      <td>NaN</td>\n",
       "      <td>NaN</td>\n",
       "      <td>5</td>\n",
       "      <td>1</td>\n",
       "    </tr>\n",
       "  </tbody>\n",
       "</table>\n",
       "</div>"
      ],
      "text/plain": [
       "      ID                                    Origin terminal  \\\n",
       "0  10480  BE033 - Belgium - Antwerp - PSA Terminals (Noo...   \n",
       "1  10483  BE033 - Belgium - Antwerp - PSA Terminals (Noo...   \n",
       "2  10484  BE033 - Belgium - Antwerp - PSA Terminals (Noo...   \n",
       "3  10489  BE044 - Belgium - Antwerp - Associated Termina...   \n",
       "4  10492  BE044 - Belgium - Antwerp - Associated Termina...   \n",
       "\n",
       "                                Destination terminal Transportation mode  \\\n",
       "0  NL050 - Netherlands - Terneuzen - Zeeland Cont...     Inland shipping   \n",
       "1  NL087 - Netherlands - Terneuzen - Outokumpu Te...     Inland shipping   \n",
       "2  NL088 - Netherlands - Terneuzen - Mammoet Mult...     Inland shipping   \n",
       "3  NL050 - Netherlands - Terneuzen - Zeeland Cont...     Inland shipping   \n",
       "4  NL087 - Netherlands - Terneuzen - Outokumpu Te...     Inland shipping   \n",
       "\n",
       "                                   Carrier  Monday  Tuesday  Wednesday  \\\n",
       "0  P238 - United Container Transport (UCT)     1.0      1.0        1.0   \n",
       "1  P238 - United Container Transport (UCT)     1.0      1.0        1.0   \n",
       "2  P238 - United Container Transport (UCT)     1.0      1.0        1.0   \n",
       "3  P238 - United Container Transport (UCT)     1.0      1.0        1.0   \n",
       "4  P238 - United Container Transport (UCT)     1.0      1.0        1.0   \n",
       "\n",
       "   Thursday  Friday  Saturday  Sunday  Number of departures per week  \\\n",
       "0       1.0     1.0       NaN     NaN                              5   \n",
       "1       1.0     1.0       NaN     NaN                              5   \n",
       "2       1.0     1.0       NaN     NaN                              5   \n",
       "3       1.0     1.0       NaN     NaN                              5   \n",
       "4       1.0     1.0       NaN     NaN                              5   \n",
       "\n",
       "   Transport time (days)  \n",
       "0                      1  \n",
       "1                      1  \n",
       "2                      1  \n",
       "3                      1  \n",
       "4                      1  "
      ]
     },
     "execution_count": 4,
     "metadata": {},
     "output_type": "execute_result"
    }
   ],
   "source": [
    "df_2017_02.head()"
   ]
  },
  {
   "cell_type": "code",
   "execution_count": 5,
   "metadata": {
    "collapsed": true
   },
   "outputs": [],
   "source": [
    "df_2017_02.drop(labels=['ID'],axis=1, inplace=True)"
   ]
  },
  {
   "cell_type": "code",
   "execution_count": 6,
   "metadata": {},
   "outputs": [
    {
     "data": {
      "text/html": [
       "<div>\n",
       "<style scoped>\n",
       "    .dataframe tbody tr th:only-of-type {\n",
       "        vertical-align: middle;\n",
       "    }\n",
       "\n",
       "    .dataframe tbody tr th {\n",
       "        vertical-align: top;\n",
       "    }\n",
       "\n",
       "    .dataframe thead th {\n",
       "        text-align: right;\n",
       "    }\n",
       "</style>\n",
       "<table border=\"1\" class=\"dataframe\">\n",
       "  <thead>\n",
       "    <tr style=\"text-align: right;\">\n",
       "      <th></th>\n",
       "      <th>Origin terminal</th>\n",
       "      <th>Destination terminal</th>\n",
       "      <th>Transportation mode</th>\n",
       "      <th>Carrier</th>\n",
       "      <th>Monday</th>\n",
       "      <th>Tuesday</th>\n",
       "      <th>Wednesday</th>\n",
       "      <th>Thursday</th>\n",
       "      <th>Friday</th>\n",
       "      <th>Saturday</th>\n",
       "      <th>Sunday</th>\n",
       "      <th>Number of departures per week</th>\n",
       "      <th>Transport time (days)</th>\n",
       "      <th>Comment</th>\n",
       "    </tr>\n",
       "  </thead>\n",
       "  <tbody>\n",
       "    <tr>\n",
       "      <th>0</th>\n",
       "      <td>BE033 - Belgium - Antwerp - PSA Terminals (Noo...</td>\n",
       "      <td>NL050 - Netherlands - Terneuzen - Zeeland Cont...</td>\n",
       "      <td>Inland shipping</td>\n",
       "      <td>P238 - United Container Transport (UCT)</td>\n",
       "      <td>1.0</td>\n",
       "      <td>1.0</td>\n",
       "      <td>1.0</td>\n",
       "      <td>1.0</td>\n",
       "      <td>1.0</td>\n",
       "      <td>NaN</td>\n",
       "      <td>NaN</td>\n",
       "      <td>5</td>\n",
       "      <td>1</td>\n",
       "      <td>Current time schedule (Sep 2014)</td>\n",
       "    </tr>\n",
       "    <tr>\n",
       "      <th>1</th>\n",
       "      <td>BE033 - Belgium - Antwerp - PSA Terminals (Noo...</td>\n",
       "      <td>NL087 - Netherlands - Terneuzen - Outokumpu Te...</td>\n",
       "      <td>Inland shipping</td>\n",
       "      <td>P238 - United Container Transport (UCT)</td>\n",
       "      <td>1.0</td>\n",
       "      <td>1.0</td>\n",
       "      <td>1.0</td>\n",
       "      <td>1.0</td>\n",
       "      <td>1.0</td>\n",
       "      <td>NaN</td>\n",
       "      <td>NaN</td>\n",
       "      <td>5</td>\n",
       "      <td>1</td>\n",
       "      <td>Current time schedule (Sep 2014)</td>\n",
       "    </tr>\n",
       "    <tr>\n",
       "      <th>2</th>\n",
       "      <td>BE033 - Belgium - Antwerp - PSA Terminals (Noo...</td>\n",
       "      <td>NL088 - Netherlands - Terneuzen - Mammoet Mult...</td>\n",
       "      <td>Inland shipping</td>\n",
       "      <td>P238 - United Container Transport (UCT)</td>\n",
       "      <td>1.0</td>\n",
       "      <td>1.0</td>\n",
       "      <td>1.0</td>\n",
       "      <td>1.0</td>\n",
       "      <td>1.0</td>\n",
       "      <td>NaN</td>\n",
       "      <td>NaN</td>\n",
       "      <td>5</td>\n",
       "      <td>1</td>\n",
       "      <td>Current time schedule (Sep 2014)</td>\n",
       "    </tr>\n",
       "    <tr>\n",
       "      <th>3</th>\n",
       "      <td>BE044 - Belgium - Antwerp - Associated Termina...</td>\n",
       "      <td>NL050 - Netherlands - Terneuzen - Zeeland Cont...</td>\n",
       "      <td>Inland shipping</td>\n",
       "      <td>P238 - United Container Transport (UCT)</td>\n",
       "      <td>1.0</td>\n",
       "      <td>1.0</td>\n",
       "      <td>1.0</td>\n",
       "      <td>1.0</td>\n",
       "      <td>1.0</td>\n",
       "      <td>NaN</td>\n",
       "      <td>NaN</td>\n",
       "      <td>5</td>\n",
       "      <td>1</td>\n",
       "      <td>Current time schedule (Sep 2014)</td>\n",
       "    </tr>\n",
       "    <tr>\n",
       "      <th>4</th>\n",
       "      <td>BE044 - Belgium - Antwerp - Associated Termina...</td>\n",
       "      <td>NL087 - Netherlands - Terneuzen - Outokumpu Te...</td>\n",
       "      <td>Inland shipping</td>\n",
       "      <td>P238 - United Container Transport (UCT)</td>\n",
       "      <td>1.0</td>\n",
       "      <td>1.0</td>\n",
       "      <td>1.0</td>\n",
       "      <td>1.0</td>\n",
       "      <td>1.0</td>\n",
       "      <td>NaN</td>\n",
       "      <td>NaN</td>\n",
       "      <td>5</td>\n",
       "      <td>1</td>\n",
       "      <td>Current time schedule (Sep 2014)</td>\n",
       "    </tr>\n",
       "  </tbody>\n",
       "</table>\n",
       "</div>"
      ],
      "text/plain": [
       "                                     Origin terminal  \\\n",
       "0  BE033 - Belgium - Antwerp - PSA Terminals (Noo...   \n",
       "1  BE033 - Belgium - Antwerp - PSA Terminals (Noo...   \n",
       "2  BE033 - Belgium - Antwerp - PSA Terminals (Noo...   \n",
       "3  BE044 - Belgium - Antwerp - Associated Termina...   \n",
       "4  BE044 - Belgium - Antwerp - Associated Termina...   \n",
       "\n",
       "                                Destination terminal Transportation mode  \\\n",
       "0  NL050 - Netherlands - Terneuzen - Zeeland Cont...     Inland shipping   \n",
       "1  NL087 - Netherlands - Terneuzen - Outokumpu Te...     Inland shipping   \n",
       "2  NL088 - Netherlands - Terneuzen - Mammoet Mult...     Inland shipping   \n",
       "3  NL050 - Netherlands - Terneuzen - Zeeland Cont...     Inland shipping   \n",
       "4  NL087 - Netherlands - Terneuzen - Outokumpu Te...     Inland shipping   \n",
       "\n",
       "                                   Carrier  Monday  Tuesday  Wednesday  \\\n",
       "0  P238 - United Container Transport (UCT)     1.0      1.0        1.0   \n",
       "1  P238 - United Container Transport (UCT)     1.0      1.0        1.0   \n",
       "2  P238 - United Container Transport (UCT)     1.0      1.0        1.0   \n",
       "3  P238 - United Container Transport (UCT)     1.0      1.0        1.0   \n",
       "4  P238 - United Container Transport (UCT)     1.0      1.0        1.0   \n",
       "\n",
       "   Thursday  Friday  Saturday  Sunday  Number of departures per week  \\\n",
       "0       1.0     1.0       NaN     NaN                              5   \n",
       "1       1.0     1.0       NaN     NaN                              5   \n",
       "2       1.0     1.0       NaN     NaN                              5   \n",
       "3       1.0     1.0       NaN     NaN                              5   \n",
       "4       1.0     1.0       NaN     NaN                              5   \n",
       "\n",
       "   Transport time (days)                           Comment  \n",
       "0                      1  Current time schedule (Sep 2014)  \n",
       "1                      1  Current time schedule (Sep 2014)  \n",
       "2                      1  Current time schedule (Sep 2014)  \n",
       "3                      1  Current time schedule (Sep 2014)  \n",
       "4                      1  Current time schedule (Sep 2014)  "
      ]
     },
     "execution_count": 6,
     "metadata": {},
     "output_type": "execute_result"
    }
   ],
   "source": [
    "df_2017_10.head()"
   ]
  },
  {
   "cell_type": "code",
   "execution_count": 7,
   "metadata": {
    "collapsed": true
   },
   "outputs": [],
   "source": [
    "df_2017_10.drop(labels=['Comment'],axis=1, inplace=True)"
   ]
  },
  {
   "cell_type": "code",
   "execution_count": 8,
   "metadata": {},
   "outputs": [
    {
     "data": {
      "text/plain": [
       "13"
      ]
     },
     "execution_count": 8,
     "metadata": {},
     "output_type": "execute_result"
    }
   ],
   "source": [
    "len(df_2017_02.columns)"
   ]
  },
  {
   "cell_type": "code",
   "execution_count": 9,
   "metadata": {},
   "outputs": [
    {
     "data": {
      "text/plain": [
       "13"
      ]
     },
     "execution_count": 9,
     "metadata": {},
     "output_type": "execute_result"
    }
   ],
   "source": [
    "len(df_2017_10.columns)"
   ]
  },
  {
   "cell_type": "code",
   "execution_count": 10,
   "metadata": {
    "collapsed": true
   },
   "outputs": [],
   "source": [
    "# Replace NaN with 0\n",
    "df_2017_02.fillna(0, inplace=True)\n",
    "df_2017_10.fillna(0, inplace=True)"
   ]
  },
  {
   "cell_type": "code",
   "execution_count": 11,
   "metadata": {},
   "outputs": [
    {
     "data": {
      "text/plain": [
       "{'Inland shipping', 'Rail', 'Sea'}"
      ]
     },
     "execution_count": 11,
     "metadata": {},
     "output_type": "execute_result"
    }
   ],
   "source": [
    "set(df_2017_02[\"Transportation mode\"])"
   ]
  },
  {
   "cell_type": "code",
   "execution_count": 12,
   "metadata": {},
   "outputs": [
    {
     "data": {
      "text/plain": [
       "{'Inland shipping', 'Rail', 'Sea'}"
      ]
     },
     "execution_count": 12,
     "metadata": {},
     "output_type": "execute_result"
    }
   ],
   "source": [
    "set(df_2017_10[\"Transportation mode\"])"
   ]
  },
  {
   "cell_type": "code",
   "execution_count": 13,
   "metadata": {
    "collapsed": true
   },
   "outputs": [],
   "source": [
    "# Save the expansion of column to temporary dataframe\n",
    "df_2017_02_new = df_2017_02[\"Origin terminal\"].str.split(\" - \", expand=True)\n",
    "df_2017_02_new_2 = df_2017_02[\"Destination terminal\"].str.split(\" - \", expand=True)\n",
    "df_2017_02_new_3 = df_2017_02[\"Carrier\"].str.split(\" - \", expand=True)"
   ]
  },
  {
   "cell_type": "code",
   "execution_count": 14,
   "metadata": {
    "collapsed": true
   },
   "outputs": [],
   "source": [
    "# Save the expansion of column to temporary dataframe\n",
    "df_2017_10_new = df_2017_10[\"Origin terminal\"].str.split(\" - \", expand=True)\n",
    "df_2017_10_new_2 = df_2017_10[\"Destination terminal\"].str.split(\" - \", expand=True)\n",
    "df_2017_10_new_3 = df_2017_10[\"Carrier\"].str.split(\" - \", expand=True)"
   ]
  },
  {
   "cell_type": "code",
   "execution_count": 15,
   "metadata": {
    "collapsed": true
   },
   "outputs": [],
   "source": [
    "df_2017_02_new.columns = [\"O_Country_ID\", \"O_Country\", \"O_City\", \"O_Terminal\", \"Temp\"]\n",
    "df_2017_02_new_2.columns = [\"D_Country_ID\", \"D_Country\", \"D_City\", \"D_Terminal\", \"Temp_D\"]\n",
    "df_2017_02_new_3.columns = [\"Carrier_ID\", \"Carrier\", \"Temp_C\"]\n",
    "#Merge carrier name to carrier column from temp table\n",
    "\n",
    "df_2017_02_new[\"O_Terminal\"][df_2017_02_new[\"Temp\"].apply(str) != 'None'] = df_2017_02_new[\"O_Terminal\"].apply(str) + ' - ' + df_2017_02_new[\"Temp\"].apply(str)\n",
    "df_2017_02_new.drop(\"Temp\", axis= 1, inplace=True)\n",
    "\n",
    "df_2017_02_new_2[\"D_Terminal\"][df_2017_02_new_2[\"Temp_D\"].apply(str) != 'None'] = df_2017_02_new_2[\"D_Terminal\"].apply(str) + ' - ' + df_2017_02_new_2[\"Temp_D\"].apply(str)\n",
    "df_2017_02_new_2.drop(\"Temp_D\", axis=1, inplace=True)\n",
    "\n",
    "df_2017_02_new_3[\"Carrier\"][df_2017_02_new_3[\"Temp_C\"].apply(str) != 'None'] = df_2017_02_new_3[\"Carrier\"].apply(str) + ' - ' + df_2017_02_new_3[\"Temp_C\"].apply(str)\n",
    "df_2017_02_new_3.drop(\"Temp_C\", axis = 1, inplace = True)"
   ]
  },
  {
   "cell_type": "code",
   "execution_count": 16,
   "metadata": {
    "collapsed": true
   },
   "outputs": [],
   "source": [
    "df_2017_10_new.columns = [\"O_Country_ID\", \"O_Country\", \"O_City\", \"O_Terminal\", \"Temp\"]\n",
    "df_2017_10_new_2.columns = [\"D_Country_ID\", \"D_Country\", \"D_City\", \"D_Terminal\", \"Temp_D\"]\n",
    "df_2017_10_new_3.columns = [\"Carrier_ID\", \"Carrier\", \"Temp_C\"]\n",
    "#Merge carrier name to carrier column from temp table\n",
    "\n",
    "df_2017_10_new[\"O_Terminal\"][df_2017_10_new[\"Temp\"].apply(str) != 'None'] = df_2017_10_new[\"O_Terminal\"].apply(str) + ' - ' + df_2017_10_new[\"Temp\"].apply(str)\n",
    "df_2017_10_new.drop(\"Temp\", axis= 1, inplace=True)\n",
    "\n",
    "df_2017_10_new_2[\"D_Terminal\"][df_2017_10_new_2[\"Temp_D\"].apply(str) != 'None'] = df_2017_10_new_2[\"D_Terminal\"].apply(str) + ' - ' + df_2017_10_new_2[\"Temp_D\"].apply(str)\n",
    "df_2017_10_new_2.drop(\"Temp_D\", axis=1, inplace=True)\n",
    "\n",
    "df_2017_10_new_3[\"Carrier\"][df_2017_10_new_3[\"Temp_C\"].apply(str) != 'None'] = df_2017_10_new_3[\"Carrier\"].apply(str) + ' - ' + df_2017_10_new_3[\"Temp_C\"].apply(str)\n",
    "df_2017_10_new_3.drop(\"Temp_C\", axis = 1, inplace = True)"
   ]
  },
  {
   "cell_type": "code",
   "execution_count": 17,
   "metadata": {
    "collapsed": true
   },
   "outputs": [],
   "source": [
    "# check df 4\n",
    "# concat all\n",
    "df_2017_02_new_4 = df_2017_02.iloc[:,2:]\n",
    "df_2017_02_new_4.drop(\"Carrier\", axis = 1, inplace=True)\n",
    "# Merge and concat all of the new table\n",
    "df_2017_02_final = pd.concat([df_2017_02_new, df_2017_02_new_2, df_2017_02_new_3, df_2017_02_new_4], axis=1)"
   ]
  },
  {
   "cell_type": "code",
   "execution_count": 18,
   "metadata": {
    "collapsed": true
   },
   "outputs": [],
   "source": [
    "# check df 4\n",
    "# concat all\n",
    "df_2017_10_new_4 = df_2017_10.iloc[:,2:]\n",
    "df_2017_10_new_4.drop(\"Carrier\", axis = 1, inplace=True)\n",
    "# Merge and concat all of the new table\n",
    "df_2017_10_final = pd.concat([df_2017_10_new, df_2017_10_new_2, df_2017_10_new_3, df_2017_10_new_4], axis=1)"
   ]
  },
  {
   "cell_type": "markdown",
   "metadata": {},
   "source": [
    "# Merge the table"
   ]
  },
  {
   "cell_type": "code",
   "execution_count": 19,
   "metadata": {},
   "outputs": [
    {
     "data": {
      "text/html": [
       "<div>\n",
       "<style scoped>\n",
       "    .dataframe tbody tr th:only-of-type {\n",
       "        vertical-align: middle;\n",
       "    }\n",
       "\n",
       "    .dataframe tbody tr th {\n",
       "        vertical-align: top;\n",
       "    }\n",
       "\n",
       "    .dataframe thead th {\n",
       "        text-align: right;\n",
       "    }\n",
       "</style>\n",
       "<table border=\"1\" class=\"dataframe\">\n",
       "  <thead>\n",
       "    <tr style=\"text-align: right;\">\n",
       "      <th></th>\n",
       "      <th>O_Country_ID</th>\n",
       "      <th>O_Country</th>\n",
       "      <th>O_City</th>\n",
       "      <th>O_Terminal</th>\n",
       "      <th>D_Country_ID</th>\n",
       "      <th>D_Country</th>\n",
       "      <th>D_City</th>\n",
       "      <th>D_Terminal</th>\n",
       "      <th>Carrier_ID</th>\n",
       "      <th>Carrier</th>\n",
       "      <th>Transportation mode</th>\n",
       "      <th>Monday</th>\n",
       "      <th>Tuesday</th>\n",
       "      <th>Wednesday</th>\n",
       "      <th>Thursday</th>\n",
       "      <th>Friday</th>\n",
       "      <th>Saturday</th>\n",
       "      <th>Sunday</th>\n",
       "      <th>Number of departures per week</th>\n",
       "      <th>Transport time (days)</th>\n",
       "    </tr>\n",
       "  </thead>\n",
       "  <tbody>\n",
       "    <tr>\n",
       "      <th>0</th>\n",
       "      <td>BE033</td>\n",
       "      <td>Belgium</td>\n",
       "      <td>Antwerp</td>\n",
       "      <td>PSA Terminals (Noordzee / Europa / Deurganck)</td>\n",
       "      <td>NL050</td>\n",
       "      <td>Netherlands</td>\n",
       "      <td>Terneuzen</td>\n",
       "      <td>Zeeland Container Terminal</td>\n",
       "      <td>P238</td>\n",
       "      <td>United Container Transport (UCT)</td>\n",
       "      <td>Inland shipping</td>\n",
       "      <td>1.0</td>\n",
       "      <td>1.0</td>\n",
       "      <td>1.0</td>\n",
       "      <td>1.0</td>\n",
       "      <td>1.0</td>\n",
       "      <td>0.0</td>\n",
       "      <td>0.0</td>\n",
       "      <td>5</td>\n",
       "      <td>1</td>\n",
       "    </tr>\n",
       "    <tr>\n",
       "      <th>1</th>\n",
       "      <td>BE033</td>\n",
       "      <td>Belgium</td>\n",
       "      <td>Antwerp</td>\n",
       "      <td>PSA Terminals (Noordzee / Europa / Deurganck)</td>\n",
       "      <td>NL087</td>\n",
       "      <td>Netherlands</td>\n",
       "      <td>Terneuzen</td>\n",
       "      <td>Outokumpu Terminal</td>\n",
       "      <td>P238</td>\n",
       "      <td>United Container Transport (UCT)</td>\n",
       "      <td>Inland shipping</td>\n",
       "      <td>1.0</td>\n",
       "      <td>1.0</td>\n",
       "      <td>1.0</td>\n",
       "      <td>1.0</td>\n",
       "      <td>1.0</td>\n",
       "      <td>0.0</td>\n",
       "      <td>0.0</td>\n",
       "      <td>5</td>\n",
       "      <td>1</td>\n",
       "    </tr>\n",
       "    <tr>\n",
       "      <th>2</th>\n",
       "      <td>BE033</td>\n",
       "      <td>Belgium</td>\n",
       "      <td>Antwerp</td>\n",
       "      <td>PSA Terminals (Noordzee / Europa / Deurganck)</td>\n",
       "      <td>NL088</td>\n",
       "      <td>Netherlands</td>\n",
       "      <td>Terneuzen</td>\n",
       "      <td>Mammoet Multipurpose Terminal Westdorpe</td>\n",
       "      <td>P238</td>\n",
       "      <td>United Container Transport (UCT)</td>\n",
       "      <td>Inland shipping</td>\n",
       "      <td>1.0</td>\n",
       "      <td>1.0</td>\n",
       "      <td>1.0</td>\n",
       "      <td>1.0</td>\n",
       "      <td>1.0</td>\n",
       "      <td>0.0</td>\n",
       "      <td>0.0</td>\n",
       "      <td>5</td>\n",
       "      <td>1</td>\n",
       "    </tr>\n",
       "    <tr>\n",
       "      <th>3</th>\n",
       "      <td>BE044</td>\n",
       "      <td>Belgium</td>\n",
       "      <td>Antwerp</td>\n",
       "      <td>Associated Terminal Operator (ATO) (Quay 364)</td>\n",
       "      <td>NL050</td>\n",
       "      <td>Netherlands</td>\n",
       "      <td>Terneuzen</td>\n",
       "      <td>Zeeland Container Terminal</td>\n",
       "      <td>P238</td>\n",
       "      <td>United Container Transport (UCT)</td>\n",
       "      <td>Inland shipping</td>\n",
       "      <td>1.0</td>\n",
       "      <td>1.0</td>\n",
       "      <td>1.0</td>\n",
       "      <td>1.0</td>\n",
       "      <td>1.0</td>\n",
       "      <td>0.0</td>\n",
       "      <td>0.0</td>\n",
       "      <td>5</td>\n",
       "      <td>1</td>\n",
       "    </tr>\n",
       "    <tr>\n",
       "      <th>4</th>\n",
       "      <td>BE044</td>\n",
       "      <td>Belgium</td>\n",
       "      <td>Antwerp</td>\n",
       "      <td>Associated Terminal Operator (ATO) (Quay 364)</td>\n",
       "      <td>NL087</td>\n",
       "      <td>Netherlands</td>\n",
       "      <td>Terneuzen</td>\n",
       "      <td>Outokumpu Terminal</td>\n",
       "      <td>P238</td>\n",
       "      <td>United Container Transport (UCT)</td>\n",
       "      <td>Inland shipping</td>\n",
       "      <td>1.0</td>\n",
       "      <td>1.0</td>\n",
       "      <td>1.0</td>\n",
       "      <td>1.0</td>\n",
       "      <td>1.0</td>\n",
       "      <td>0.0</td>\n",
       "      <td>0.0</td>\n",
       "      <td>5</td>\n",
       "      <td>1</td>\n",
       "    </tr>\n",
       "  </tbody>\n",
       "</table>\n",
       "</div>"
      ],
      "text/plain": [
       "  O_Country_ID O_Country   O_City  \\\n",
       "0        BE033   Belgium  Antwerp   \n",
       "1        BE033   Belgium  Antwerp   \n",
       "2        BE033   Belgium  Antwerp   \n",
       "3        BE044   Belgium  Antwerp   \n",
       "4        BE044   Belgium  Antwerp   \n",
       "\n",
       "                                      O_Terminal D_Country_ID    D_Country  \\\n",
       "0  PSA Terminals (Noordzee / Europa / Deurganck)        NL050  Netherlands   \n",
       "1  PSA Terminals (Noordzee / Europa / Deurganck)        NL087  Netherlands   \n",
       "2  PSA Terminals (Noordzee / Europa / Deurganck)        NL088  Netherlands   \n",
       "3  Associated Terminal Operator (ATO) (Quay 364)        NL050  Netherlands   \n",
       "4  Associated Terminal Operator (ATO) (Quay 364)        NL087  Netherlands   \n",
       "\n",
       "      D_City                               D_Terminal Carrier_ID  \\\n",
       "0  Terneuzen               Zeeland Container Terminal       P238   \n",
       "1  Terneuzen                      Outokumpu Terminal        P238   \n",
       "2  Terneuzen  Mammoet Multipurpose Terminal Westdorpe       P238   \n",
       "3  Terneuzen               Zeeland Container Terminal       P238   \n",
       "4  Terneuzen                      Outokumpu Terminal        P238   \n",
       "\n",
       "                            Carrier Transportation mode  Monday  Tuesday  \\\n",
       "0  United Container Transport (UCT)     Inland shipping     1.0      1.0   \n",
       "1  United Container Transport (UCT)     Inland shipping     1.0      1.0   \n",
       "2  United Container Transport (UCT)     Inland shipping     1.0      1.0   \n",
       "3  United Container Transport (UCT)     Inland shipping     1.0      1.0   \n",
       "4  United Container Transport (UCT)     Inland shipping     1.0      1.0   \n",
       "\n",
       "   Wednesday  Thursday  Friday  Saturday  Sunday  \\\n",
       "0        1.0       1.0     1.0       0.0     0.0   \n",
       "1        1.0       1.0     1.0       0.0     0.0   \n",
       "2        1.0       1.0     1.0       0.0     0.0   \n",
       "3        1.0       1.0     1.0       0.0     0.0   \n",
       "4        1.0       1.0     1.0       0.0     0.0   \n",
       "\n",
       "   Number of departures per week  Transport time (days)  \n",
       "0                              5                      1  \n",
       "1                              5                      1  \n",
       "2                              5                      1  \n",
       "3                              5                      1  \n",
       "4                              5                      1  "
      ]
     },
     "execution_count": 19,
     "metadata": {},
     "output_type": "execute_result"
    }
   ],
   "source": [
    "df_2017_02_final.head()"
   ]
  },
  {
   "cell_type": "code",
   "execution_count": 20,
   "metadata": {},
   "outputs": [
    {
     "data": {
      "text/html": [
       "<div>\n",
       "<style scoped>\n",
       "    .dataframe tbody tr th:only-of-type {\n",
       "        vertical-align: middle;\n",
       "    }\n",
       "\n",
       "    .dataframe tbody tr th {\n",
       "        vertical-align: top;\n",
       "    }\n",
       "\n",
       "    .dataframe thead th {\n",
       "        text-align: right;\n",
       "    }\n",
       "</style>\n",
       "<table border=\"1\" class=\"dataframe\">\n",
       "  <thead>\n",
       "    <tr style=\"text-align: right;\">\n",
       "      <th></th>\n",
       "      <th>O_Country_ID</th>\n",
       "      <th>O_Country</th>\n",
       "      <th>O_City</th>\n",
       "      <th>O_Terminal</th>\n",
       "      <th>D_Country_ID</th>\n",
       "      <th>D_Country</th>\n",
       "      <th>D_City</th>\n",
       "      <th>D_Terminal</th>\n",
       "      <th>Carrier_ID</th>\n",
       "      <th>Carrier</th>\n",
       "      <th>Transportation mode</th>\n",
       "      <th>Monday</th>\n",
       "      <th>Tuesday</th>\n",
       "      <th>Wednesday</th>\n",
       "      <th>Thursday</th>\n",
       "      <th>Friday</th>\n",
       "      <th>Saturday</th>\n",
       "      <th>Sunday</th>\n",
       "      <th>Number of departures per week</th>\n",
       "      <th>Transport time (days)</th>\n",
       "    </tr>\n",
       "  </thead>\n",
       "  <tbody>\n",
       "    <tr>\n",
       "      <th>0</th>\n",
       "      <td>BE033</td>\n",
       "      <td>Belgium</td>\n",
       "      <td>Antwerp</td>\n",
       "      <td>PSA Terminals (Noordzee / Europa / Deurganck)</td>\n",
       "      <td>NL050</td>\n",
       "      <td>Netherlands</td>\n",
       "      <td>Terneuzen</td>\n",
       "      <td>Zeeland Container Terminal</td>\n",
       "      <td>P238</td>\n",
       "      <td>United Container Transport (UCT)</td>\n",
       "      <td>Inland shipping</td>\n",
       "      <td>1.0</td>\n",
       "      <td>1.0</td>\n",
       "      <td>1.0</td>\n",
       "      <td>1.0</td>\n",
       "      <td>1.0</td>\n",
       "      <td>0.0</td>\n",
       "      <td>0.0</td>\n",
       "      <td>5</td>\n",
       "      <td>1</td>\n",
       "    </tr>\n",
       "    <tr>\n",
       "      <th>1</th>\n",
       "      <td>BE033</td>\n",
       "      <td>Belgium</td>\n",
       "      <td>Antwerp</td>\n",
       "      <td>PSA Terminals (Noordzee / Europa / Deurganck)</td>\n",
       "      <td>NL087</td>\n",
       "      <td>Netherlands</td>\n",
       "      <td>Terneuzen</td>\n",
       "      <td>Outokumpu Terminal</td>\n",
       "      <td>P238</td>\n",
       "      <td>United Container Transport (UCT)</td>\n",
       "      <td>Inland shipping</td>\n",
       "      <td>1.0</td>\n",
       "      <td>1.0</td>\n",
       "      <td>1.0</td>\n",
       "      <td>1.0</td>\n",
       "      <td>1.0</td>\n",
       "      <td>0.0</td>\n",
       "      <td>0.0</td>\n",
       "      <td>5</td>\n",
       "      <td>1</td>\n",
       "    </tr>\n",
       "    <tr>\n",
       "      <th>2</th>\n",
       "      <td>BE033</td>\n",
       "      <td>Belgium</td>\n",
       "      <td>Antwerp</td>\n",
       "      <td>PSA Terminals (Noordzee / Europa / Deurganck)</td>\n",
       "      <td>NL088</td>\n",
       "      <td>Netherlands</td>\n",
       "      <td>Terneuzen</td>\n",
       "      <td>Mammoet Multipurpose Terminal Westdorpe</td>\n",
       "      <td>P238</td>\n",
       "      <td>United Container Transport (UCT)</td>\n",
       "      <td>Inland shipping</td>\n",
       "      <td>1.0</td>\n",
       "      <td>1.0</td>\n",
       "      <td>1.0</td>\n",
       "      <td>1.0</td>\n",
       "      <td>1.0</td>\n",
       "      <td>0.0</td>\n",
       "      <td>0.0</td>\n",
       "      <td>5</td>\n",
       "      <td>1</td>\n",
       "    </tr>\n",
       "    <tr>\n",
       "      <th>3</th>\n",
       "      <td>BE044</td>\n",
       "      <td>Belgium</td>\n",
       "      <td>Antwerp</td>\n",
       "      <td>Associated Terminal Operator (ATO) (Quay 364)</td>\n",
       "      <td>NL050</td>\n",
       "      <td>Netherlands</td>\n",
       "      <td>Terneuzen</td>\n",
       "      <td>Zeeland Container Terminal</td>\n",
       "      <td>P238</td>\n",
       "      <td>United Container Transport (UCT)</td>\n",
       "      <td>Inland shipping</td>\n",
       "      <td>1.0</td>\n",
       "      <td>1.0</td>\n",
       "      <td>1.0</td>\n",
       "      <td>1.0</td>\n",
       "      <td>1.0</td>\n",
       "      <td>0.0</td>\n",
       "      <td>0.0</td>\n",
       "      <td>5</td>\n",
       "      <td>1</td>\n",
       "    </tr>\n",
       "    <tr>\n",
       "      <th>4</th>\n",
       "      <td>BE044</td>\n",
       "      <td>Belgium</td>\n",
       "      <td>Antwerp</td>\n",
       "      <td>Associated Terminal Operator (ATO) (Quay 364)</td>\n",
       "      <td>NL087</td>\n",
       "      <td>Netherlands</td>\n",
       "      <td>Terneuzen</td>\n",
       "      <td>Outokumpu Terminal</td>\n",
       "      <td>P238</td>\n",
       "      <td>United Container Transport (UCT)</td>\n",
       "      <td>Inland shipping</td>\n",
       "      <td>1.0</td>\n",
       "      <td>1.0</td>\n",
       "      <td>1.0</td>\n",
       "      <td>1.0</td>\n",
       "      <td>1.0</td>\n",
       "      <td>0.0</td>\n",
       "      <td>0.0</td>\n",
       "      <td>5</td>\n",
       "      <td>1</td>\n",
       "    </tr>\n",
       "  </tbody>\n",
       "</table>\n",
       "</div>"
      ],
      "text/plain": [
       "  O_Country_ID O_Country   O_City  \\\n",
       "0        BE033   Belgium  Antwerp   \n",
       "1        BE033   Belgium  Antwerp   \n",
       "2        BE033   Belgium  Antwerp   \n",
       "3        BE044   Belgium  Antwerp   \n",
       "4        BE044   Belgium  Antwerp   \n",
       "\n",
       "                                      O_Terminal D_Country_ID    D_Country  \\\n",
       "0  PSA Terminals (Noordzee / Europa / Deurganck)        NL050  Netherlands   \n",
       "1  PSA Terminals (Noordzee / Europa / Deurganck)        NL087  Netherlands   \n",
       "2  PSA Terminals (Noordzee / Europa / Deurganck)        NL088  Netherlands   \n",
       "3  Associated Terminal Operator (ATO) (Quay 364)        NL050  Netherlands   \n",
       "4  Associated Terminal Operator (ATO) (Quay 364)        NL087  Netherlands   \n",
       "\n",
       "      D_City                               D_Terminal Carrier_ID  \\\n",
       "0  Terneuzen               Zeeland Container Terminal       P238   \n",
       "1  Terneuzen                      Outokumpu Terminal        P238   \n",
       "2  Terneuzen  Mammoet Multipurpose Terminal Westdorpe       P238   \n",
       "3  Terneuzen               Zeeland Container Terminal       P238   \n",
       "4  Terneuzen                      Outokumpu Terminal        P238   \n",
       "\n",
       "                            Carrier Transportation mode  Monday  Tuesday  \\\n",
       "0  United Container Transport (UCT)     Inland shipping     1.0      1.0   \n",
       "1  United Container Transport (UCT)     Inland shipping     1.0      1.0   \n",
       "2  United Container Transport (UCT)     Inland shipping     1.0      1.0   \n",
       "3  United Container Transport (UCT)     Inland shipping     1.0      1.0   \n",
       "4  United Container Transport (UCT)     Inland shipping     1.0      1.0   \n",
       "\n",
       "   Wednesday  Thursday  Friday  Saturday  Sunday  \\\n",
       "0        1.0       1.0     1.0       0.0     0.0   \n",
       "1        1.0       1.0     1.0       0.0     0.0   \n",
       "2        1.0       1.0     1.0       0.0     0.0   \n",
       "3        1.0       1.0     1.0       0.0     0.0   \n",
       "4        1.0       1.0     1.0       0.0     0.0   \n",
       "\n",
       "   Number of departures per week  Transport time (days)  \n",
       "0                              5                      1  \n",
       "1                              5                      1  \n",
       "2                              5                      1  \n",
       "3                              5                      1  \n",
       "4                              5                      1  "
      ]
     },
     "execution_count": 20,
     "metadata": {},
     "output_type": "execute_result"
    }
   ],
   "source": [
    "df_2017_10_final.head()"
   ]
  },
  {
   "cell_type": "code",
   "execution_count": 21,
   "metadata": {},
   "outputs": [
    {
     "data": {
      "text/plain": [
       "Index(['O_Country_ID', 'O_Country', 'O_City', 'O_Terminal', 'D_Country_ID',\n",
       "       'D_Country', 'D_City', 'D_Terminal', 'Carrier_ID', 'Carrier',\n",
       "       'Transportation mode', 'Monday', 'Tuesday', 'Wednesday', 'Thursday',\n",
       "       'Friday', 'Saturday', 'Sunday', 'Number of departures per week',\n",
       "       'Transport time (days)'],\n",
       "      dtype='object')"
      ]
     },
     "execution_count": 21,
     "metadata": {},
     "output_type": "execute_result"
    }
   ],
   "source": [
    "df_2017_02_final.columns"
   ]
  },
  {
   "cell_type": "code",
   "execution_count": 22,
   "metadata": {},
   "outputs": [
    {
     "data": {
      "text/plain": [
       "Index(['O_Country_ID', 'O_Country', 'O_City', 'O_Terminal', 'D_Country_ID',\n",
       "       'D_Country', 'D_City', 'D_Terminal', 'Carrier_ID', 'Carrier',\n",
       "       'Transportation mode', 'Monday', 'Tuesday', 'Wednesday', 'Thursday',\n",
       "       'Friday', 'Saturday', 'Sunday', 'Number of departures per week',\n",
       "       'Transport time (days)'],\n",
       "      dtype='object')"
      ]
     },
     "execution_count": 22,
     "metadata": {},
     "output_type": "execute_result"
    }
   ],
   "source": [
    "df_2017_10_final.columns"
   ]
  },
  {
   "cell_type": "code",
   "execution_count": 23,
   "metadata": {},
   "outputs": [],
   "source": [
    "df_2017 = pd.concat([df_2017_02_final, df_2017_10_final], sort=False)"
   ]
  },
  {
   "cell_type": "code",
   "execution_count": 24,
   "metadata": {
    "collapsed": true
   },
   "outputs": [],
   "source": [
    "df_2017.drop_duplicates(inplace=True)"
   ]
  },
  {
   "cell_type": "code",
   "execution_count": 25,
   "metadata": {
    "collapsed": true
   },
   "outputs": [],
   "source": [
    "df_2017.reset_index(drop=True, inplace=True)"
   ]
  },
  {
   "cell_type": "code",
   "execution_count": 26,
   "metadata": {
    "collapsed": true
   },
   "outputs": [],
   "source": [
    "df_2017.to_excel(\"2017_raw_08062019.xlsx\")"
   ]
  },
  {
   "cell_type": "code",
   "execution_count": null,
   "metadata": {
    "collapsed": true
   },
   "outputs": [],
   "source": []
  }
 ],
 "metadata": {
  "kernelspec": {
   "display_name": "Python 3",
   "language": "python",
   "name": "python3"
  },
  "language_info": {
   "codemirror_mode": {
    "name": "ipython",
    "version": 3
   },
   "file_extension": ".py",
   "mimetype": "text/x-python",
   "name": "python",
   "nbconvert_exporter": "python",
   "pygments_lexer": "ipython3",
   "version": "3.6.8"
  }
 },
 "nbformat": 4,
 "nbformat_minor": 2
}
