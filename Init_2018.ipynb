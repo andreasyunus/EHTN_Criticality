{
 "cells": [
  {
   "cell_type": "code",
   "execution_count": 1,
   "metadata": {
    "collapsed": true
   },
   "outputs": [],
   "source": [
    "import pandas as pd\n",
    "import numpy as np"
   ]
  },
  {
   "cell_type": "code",
   "execution_count": 2,
   "metadata": {
    "collapsed": true
   },
   "outputs": [],
   "source": [
    "df_2018_02 = pd.read_excel(\"01_Raw_data/201802_raw.xlsx\")"
   ]
  },
  {
   "cell_type": "code",
   "execution_count": 3,
   "metadata": {
    "collapsed": true
   },
   "outputs": [],
   "source": [
    "df_2018_02.drop(labels=['ID'],axis=1, inplace=True)"
   ]
  },
  {
   "cell_type": "code",
   "execution_count": 4,
   "metadata": {
    "collapsed": true
   },
   "outputs": [],
   "source": [
    "# Replace NaN with 0\n",
    "df_2018_02.fillna(0, inplace=True)"
   ]
  },
  {
   "cell_type": "code",
   "execution_count": 5,
   "metadata": {
    "collapsed": true
   },
   "outputs": [],
   "source": [
    "# Save the expansion of column to temporary dataframe\n",
    "df_2018_02_new = df_2018_02[\"Origin terminal\"].str.split(\" - \", expand=True)\n",
    "df_2018_02_new_2 = df_2018_02[\"Destination terminal\"].str.split(\" - \", expand=True)\n",
    "df_2018_02_new_3 = df_2018_02[\"Carrier\"].str.split(\" - \", expand=True)"
   ]
  },
  {
   "cell_type": "code",
   "execution_count": 6,
   "metadata": {
    "collapsed": true
   },
   "outputs": [],
   "source": [
    "df_2018_02_new.columns = [\"O_Country_ID\", \"O_Country\", \"O_City\", \"O_Terminal\", \"Temp\"]\n",
    "df_2018_02_new_2.columns = [\"D_Country_ID\", \"D_Country\", \"D_City\", \"D_Terminal\", \"Temp_D\"]\n",
    "df_2018_02_new_3.columns = [\"Carrier_ID\", \"Carrier\", \"Temp_C\"]\n",
    "#Merge carrier name to carrier column from temp table\n",
    "\n",
    "df_2018_02_new[\"O_Terminal\"][df_2018_02_new[\"Temp\"].apply(str) != 'None'] = df_2018_02_new[\"O_Terminal\"].apply(str) + ' - ' + df_2018_02_new[\"Temp\"].apply(str)\n",
    "df_2018_02_new.drop(\"Temp\", axis= 1, inplace=True)\n",
    "\n",
    "df_2018_02_new_2[\"D_Terminal\"][df_2018_02_new_2[\"Temp_D\"].apply(str) != 'None'] = df_2018_02_new_2[\"D_Terminal\"].apply(str) + ' - ' + df_2018_02_new_2[\"Temp_D\"].apply(str)\n",
    "df_2018_02_new_2.drop(\"Temp_D\", axis=1, inplace=True)\n",
    "\n",
    "df_2018_02_new_3[\"Carrier\"][df_2018_02_new_3[\"Temp_C\"].apply(str) != 'None'] = df_2018_02_new_3[\"Carrier\"].apply(str) + ' - ' + df_2018_02_new_3[\"Temp_C\"].apply(str)\n",
    "df_2018_02_new_3.drop(\"Temp_C\", axis = 1, inplace = True)"
   ]
  },
  {
   "cell_type": "code",
   "execution_count": 7,
   "metadata": {
    "collapsed": true
   },
   "outputs": [],
   "source": [
    "# check df 4\n",
    "# concat all\n",
    "df_2018_02_new_4 = df_2018_02.iloc[:,2:]\n",
    "df_2018_02_new_4.drop(\"Carrier\", axis = 1, inplace=True)\n",
    "# Merge and concat all of the new table\n",
    "df_2018_02_final = pd.concat([df_2018_02_new, df_2018_02_new_2, df_2018_02_new_3, df_2018_02_new_4], axis=1)"
   ]
  },
  {
   "cell_type": "code",
   "execution_count": 9,
   "metadata": {},
   "outputs": [],
   "source": [
    "df_2018_02_final.reset_index(drop=True, inplace=True)"
   ]
  },
  {
   "cell_type": "code",
   "execution_count": 10,
   "metadata": {
    "collapsed": true
   },
   "outputs": [],
   "source": [
    "df_2018_02_final.to_excel(\"2018_raw_08062019.xlsx\")"
   ]
  },
  {
   "cell_type": "code",
   "execution_count": null,
   "metadata": {
    "collapsed": true
   },
   "outputs": [],
   "source": []
  }
 ],
 "metadata": {
  "kernelspec": {
   "display_name": "Python 3",
   "language": "python",
   "name": "python3"
  },
  "language_info": {
   "codemirror_mode": {
    "name": "ipython",
    "version": 3
   },
   "file_extension": ".py",
   "mimetype": "text/x-python",
   "name": "python",
   "nbconvert_exporter": "python",
   "pygments_lexer": "ipython3",
   "version": "3.6.8"
  }
 },
 "nbformat": 4,
 "nbformat_minor": 2
}
